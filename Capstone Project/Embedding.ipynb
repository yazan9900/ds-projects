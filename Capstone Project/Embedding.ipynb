{
 "cells": [
  {
   "cell_type": "code",
   "execution_count": 1,
   "metadata": {
    "_cell_guid": "b1076dfc-b9ad-4769-8c92-a6c4dae69d19",
    "_uuid": "8f2839f25d086af736a60e9eeb907d3b93b6e0e5",
    "execution": {
     "iopub.execute_input": "2021-01-29T08:18:44.275420Z",
     "iopub.status.busy": "2021-01-29T08:18:44.274192Z",
     "iopub.status.idle": "2021-01-29T08:18:53.676092Z",
     "shell.execute_reply": "2021-01-29T08:18:53.676695Z"
    },
    "papermill": {
     "duration": 9.425694,
     "end_time": "2021-01-29T08:18:53.676941",
     "exception": false,
     "start_time": "2021-01-29T08:18:44.251247",
     "status": "completed"
    },
    "tags": []
   },
   "outputs": [],
   "source": [
    "import numpy as np\n",
    "import pandas as pd\n",
    "import matplotlib.pyplot as plt\n",
    "import seaborn as sns\n",
    "import bz2\n",
    "import random\n",
    "import re\n",
    "from nltk.tokenize import word_tokenize\n",
    "from nltk.stem import PorterStemmer\n",
    "from nltk.corpus import stopwords\n",
    "from numpy import array\n",
    "from keras.preprocessing.text import one_hot\n",
    "from keras.preprocessing.sequence import pad_sequences\n",
    "from keras.models import Sequential\n",
    "from keras.layers import Dense, SpatialDropout1D\n",
    "from keras.layers import Flatten\n",
    "from keras.layers.embeddings import Embedding\n",
    "from keras.utils.np_utils import to_categorical\n",
    "from keras.preprocessing.text import Tokenizer"
   ]
  },
  {
   "cell_type": "code",
   "execution_count": 2,
   "metadata": {
    "execution": {
     "iopub.execute_input": "2021-01-29T08:18:53.712676Z",
     "iopub.status.busy": "2021-01-29T08:18:53.711548Z",
     "iopub.status.idle": "2021-01-29T08:18:53.727481Z",
     "shell.execute_reply": "2021-01-29T08:18:53.728038Z"
    },
    "papermill": {
     "duration": 0.035313,
     "end_time": "2021-01-29T08:18:53.728238",
     "exception": false,
     "start_time": "2021-01-29T08:18:53.692925",
     "status": "completed"
    },
    "tags": []
   },
   "outputs": [],
   "source": [
    "train_file = bz2.BZ2File('../input/amazonreviews/train.ft.txt.bz2')\n",
    "test_file = bz2.BZ2File('../input/amazonreviews/test.ft.txt.bz2')"
   ]
  },
  {
   "cell_type": "code",
   "execution_count": 3,
   "metadata": {
    "execution": {
     "iopub.execute_input": "2021-01-29T08:18:53.764021Z",
     "iopub.status.busy": "2021-01-29T08:18:53.762905Z",
     "iopub.status.idle": "2021-01-29T08:22:31.482979Z",
     "shell.execute_reply": "2021-01-29T08:22:31.482004Z"
    },
    "papermill": {
     "duration": 217.739186,
     "end_time": "2021-01-29T08:22:31.483159",
     "exception": false,
     "start_time": "2021-01-29T08:18:53.743973",
     "status": "completed"
    },
    "tags": []
   },
   "outputs": [],
   "source": [
    "train_file_lines = train_file.readlines()\n",
    "test_file_lines = test_file.readlines()"
   ]
  },
  {
   "cell_type": "code",
   "execution_count": 4,
   "metadata": {
    "execution": {
     "iopub.execute_input": "2021-01-29T08:22:31.526549Z",
     "iopub.status.busy": "2021-01-29T08:22:31.525235Z",
     "iopub.status.idle": "2021-01-29T08:22:43.209770Z",
     "shell.execute_reply": "2021-01-29T08:22:43.210266Z"
    },
    "papermill": {
     "duration": 11.710979,
     "end_time": "2021-01-29T08:22:43.210474",
     "exception": false,
     "start_time": "2021-01-29T08:22:31.499495",
     "status": "completed"
    },
    "tags": []
   },
   "outputs": [
    {
     "data": {
      "text/html": [
       "<div>\n",
       "<style scoped>\n",
       "    .dataframe tbody tr th:only-of-type {\n",
       "        vertical-align: middle;\n",
       "    }\n",
       "\n",
       "    .dataframe tbody tr th {\n",
       "        vertical-align: top;\n",
       "    }\n",
       "\n",
       "    .dataframe thead th {\n",
       "        text-align: right;\n",
       "    }\n",
       "</style>\n",
       "<table border=\"1\" class=\"dataframe\">\n",
       "  <thead>\n",
       "    <tr style=\"text-align: right;\">\n",
       "      <th></th>\n",
       "      <th>Title</th>\n",
       "      <th>Review</th>\n",
       "      <th>Label</th>\n",
       "    </tr>\n",
       "  </thead>\n",
       "  <tbody>\n",
       "    <tr>\n",
       "      <th>0</th>\n",
       "      <td>Stuning even for the non-gamer</td>\n",
       "      <td>This sound track was beautiful! It paints the...</td>\n",
       "      <td>__label__2</td>\n",
       "    </tr>\n",
       "    <tr>\n",
       "      <th>1</th>\n",
       "      <td>The best soundtrack ever to anything.</td>\n",
       "      <td>I'm reading a lot of reviews saying that this...</td>\n",
       "      <td>__label__2</td>\n",
       "    </tr>\n",
       "    <tr>\n",
       "      <th>2</th>\n",
       "      <td>Amazing!</td>\n",
       "      <td>This soundtrack is my favorite music of all t...</td>\n",
       "      <td>__label__2</td>\n",
       "    </tr>\n",
       "    <tr>\n",
       "      <th>3</th>\n",
       "      <td>Excellent Soundtrack</td>\n",
       "      <td>I truly like this soundtrack and I enjoy vide...</td>\n",
       "      <td>__label__2</td>\n",
       "    </tr>\n",
       "    <tr>\n",
       "      <th>4</th>\n",
       "      <td>Remember, Pull Your Jaw Off The Floor After He...</td>\n",
       "      <td>If you've played the game, you know how divin...</td>\n",
       "      <td>__label__2</td>\n",
       "    </tr>\n",
       "    <tr>\n",
       "      <th>...</th>\n",
       "      <td>...</td>\n",
       "      <td>...</td>\n",
       "      <td>...</td>\n",
       "    </tr>\n",
       "    <tr>\n",
       "      <th>3599995</th>\n",
       "      <td>Don't do it!!</td>\n",
       "      <td>The high chair looks great when it first come...</td>\n",
       "      <td>__label__1</td>\n",
       "    </tr>\n",
       "    <tr>\n",
       "      <th>3599996</th>\n",
       "      <td>Looks nice, low functionality</td>\n",
       "      <td>I have used this highchair for 2 kids now and...</td>\n",
       "      <td>__label__1</td>\n",
       "    </tr>\n",
       "    <tr>\n",
       "      <th>3599997</th>\n",
       "      <td>compact, but hard to clean</td>\n",
       "      <td>We have a small house, and really wanted two ...</td>\n",
       "      <td>__label__1</td>\n",
       "    </tr>\n",
       "    <tr>\n",
       "      <th>3599998</th>\n",
       "      <td>what is it saying?</td>\n",
       "      <td>not sure what this book is supposed to be. It...</td>\n",
       "      <td>__label__1</td>\n",
       "    </tr>\n",
       "    <tr>\n",
       "      <th>3599999</th>\n",
       "      <td>Makes My Blood Run Red-White-And-Blue</td>\n",
       "      <td>I agree that every American should read this ...</td>\n",
       "      <td>__label__2</td>\n",
       "    </tr>\n",
       "  </tbody>\n",
       "</table>\n",
       "<p>3600000 rows × 3 columns</p>\n",
       "</div>"
      ],
      "text/plain": [
       "                                                     Title  \\\n",
       "0                           Stuning even for the non-gamer   \n",
       "1                    The best soundtrack ever to anything.   \n",
       "2                                                 Amazing!   \n",
       "3                                     Excellent Soundtrack   \n",
       "4        Remember, Pull Your Jaw Off The Floor After He...   \n",
       "...                                                    ...   \n",
       "3599995                                      Don't do it!!   \n",
       "3599996                      Looks nice, low functionality   \n",
       "3599997                         compact, but hard to clean   \n",
       "3599998                                 what is it saying?   \n",
       "3599999              Makes My Blood Run Red-White-And-Blue   \n",
       "\n",
       "                                                    Review       Label  \n",
       "0         This sound track was beautiful! It paints the...  __label__2  \n",
       "1         I'm reading a lot of reviews saying that this...  __label__2  \n",
       "2         This soundtrack is my favorite music of all t...  __label__2  \n",
       "3         I truly like this soundtrack and I enjoy vide...  __label__2  \n",
       "4         If you've played the game, you know how divin...  __label__2  \n",
       "...                                                    ...         ...  \n",
       "3599995   The high chair looks great when it first come...  __label__1  \n",
       "3599996   I have used this highchair for 2 kids now and...  __label__1  \n",
       "3599997   We have a small house, and really wanted two ...  __label__1  \n",
       "3599998   not sure what this book is supposed to be. It...  __label__1  \n",
       "3599999   I agree that every American should read this ...  __label__2  \n",
       "\n",
       "[3600000 rows x 3 columns]"
      ]
     },
     "execution_count": 4,
     "metadata": {},
     "output_type": "execute_result"
    }
   ],
   "source": [
    "labels = []\n",
    "titles = []\n",
    "reviews = []\n",
    "\n",
    "for line in train_file_lines:\n",
    "  line = line.decode(\"utf-8\")\n",
    "  labels.append(line[0:10])\n",
    "  tt = line.find(':')\n",
    "  titles.append(line[11:tt])\n",
    "  reviews.append(line[tt+1:])\n",
    "\n",
    "Train_Data = pd.DataFrame({'Title':titles,'Review':reviews,'Label':labels})\n",
    "Train_Data"
   ]
  },
  {
   "cell_type": "code",
   "execution_count": 5,
   "metadata": {
    "execution": {
     "iopub.execute_input": "2021-01-29T08:22:43.246954Z",
     "iopub.status.busy": "2021-01-29T08:22:43.246198Z",
     "iopub.status.idle": "2021-01-29T08:22:44.630354Z",
     "shell.execute_reply": "2021-01-29T08:22:44.630973Z"
    },
    "papermill": {
     "duration": 1.404017,
     "end_time": "2021-01-29T08:22:44.631152",
     "exception": false,
     "start_time": "2021-01-29T08:22:43.227135",
     "status": "completed"
    },
    "tags": []
   },
   "outputs": [
    {
     "data": {
      "text/html": [
       "<div>\n",
       "<style scoped>\n",
       "    .dataframe tbody tr th:only-of-type {\n",
       "        vertical-align: middle;\n",
       "    }\n",
       "\n",
       "    .dataframe tbody tr th {\n",
       "        vertical-align: top;\n",
       "    }\n",
       "\n",
       "    .dataframe thead th {\n",
       "        text-align: right;\n",
       "    }\n",
       "</style>\n",
       "<table border=\"1\" class=\"dataframe\">\n",
       "  <thead>\n",
       "    <tr style=\"text-align: right;\">\n",
       "      <th></th>\n",
       "      <th>Title</th>\n",
       "      <th>Review</th>\n",
       "      <th>Label</th>\n",
       "    </tr>\n",
       "  </thead>\n",
       "  <tbody>\n",
       "    <tr>\n",
       "      <th>0</th>\n",
       "      <td>Great CD</td>\n",
       "      <td>My lovely Pat has one of the GREAT voices of ...</td>\n",
       "      <td>__label__2</td>\n",
       "    </tr>\n",
       "    <tr>\n",
       "      <th>1</th>\n",
       "      <td>One of the best game music soundtracks - for a...</td>\n",
       "      <td>Despite the fact that I have only played a sm...</td>\n",
       "      <td>__label__2</td>\n",
       "    </tr>\n",
       "    <tr>\n",
       "      <th>2</th>\n",
       "      <td>Batteries died within a year ...</td>\n",
       "      <td>I bought this charger in Jul 2003 and it work...</td>\n",
       "      <td>__label__1</td>\n",
       "    </tr>\n",
       "    <tr>\n",
       "      <th>3</th>\n",
       "      <td>works fine, but Maha Energy is better</td>\n",
       "      <td>Check out Maha Energy's website. Their Powere...</td>\n",
       "      <td>__label__2</td>\n",
       "    </tr>\n",
       "    <tr>\n",
       "      <th>4</th>\n",
       "      <td>Great for the non-audiophile</td>\n",
       "      <td>Reviewed quite a bit of the combo players and...</td>\n",
       "      <td>__label__2</td>\n",
       "    </tr>\n",
       "    <tr>\n",
       "      <th>...</th>\n",
       "      <td>...</td>\n",
       "      <td>...</td>\n",
       "      <td>...</td>\n",
       "    </tr>\n",
       "    <tr>\n",
       "      <th>399995</th>\n",
       "      <td>Unbelievable- In a Bad Way</td>\n",
       "      <td>We bought this Thomas for our son who is a hu...</td>\n",
       "      <td>__label__1</td>\n",
       "    </tr>\n",
       "    <tr>\n",
       "      <th>399996</th>\n",
       "      <td>Almost Great, Until it Broke...</td>\n",
       "      <td>My son recieved this as a birthday gift 2 mon...</td>\n",
       "      <td>__label__1</td>\n",
       "    </tr>\n",
       "    <tr>\n",
       "      <th>399997</th>\n",
       "      <td>Disappointed !!!</td>\n",
       "      <td>I bought this toy for my son who loves the \"T...</td>\n",
       "      <td>__label__1</td>\n",
       "    </tr>\n",
       "    <tr>\n",
       "      <th>399998</th>\n",
       "      <td>Classic Jessica Mitford</td>\n",
       "      <td>This is a compilation of a wide range of Mitf...</td>\n",
       "      <td>__label__2</td>\n",
       "    </tr>\n",
       "    <tr>\n",
       "      <th>399999</th>\n",
       "      <td>Comedy Scene, and Not Heard</td>\n",
       "      <td>This DVD will be a disappointment if you get ...</td>\n",
       "      <td>__label__1</td>\n",
       "    </tr>\n",
       "  </tbody>\n",
       "</table>\n",
       "<p>400000 rows × 3 columns</p>\n",
       "</div>"
      ],
      "text/plain": [
       "                                                    Title  \\\n",
       "0                                                Great CD   \n",
       "1       One of the best game music soundtracks - for a...   \n",
       "2                        Batteries died within a year ...   \n",
       "3                   works fine, but Maha Energy is better   \n",
       "4                            Great for the non-audiophile   \n",
       "...                                                   ...   \n",
       "399995                         Unbelievable- In a Bad Way   \n",
       "399996                    Almost Great, Until it Broke...   \n",
       "399997                                   Disappointed !!!   \n",
       "399998                            Classic Jessica Mitford   \n",
       "399999                        Comedy Scene, and Not Heard   \n",
       "\n",
       "                                                   Review       Label  \n",
       "0        My lovely Pat has one of the GREAT voices of ...  __label__2  \n",
       "1        Despite the fact that I have only played a sm...  __label__2  \n",
       "2        I bought this charger in Jul 2003 and it work...  __label__1  \n",
       "3        Check out Maha Energy's website. Their Powere...  __label__2  \n",
       "4        Reviewed quite a bit of the combo players and...  __label__2  \n",
       "...                                                   ...         ...  \n",
       "399995   We bought this Thomas for our son who is a hu...  __label__1  \n",
       "399996   My son recieved this as a birthday gift 2 mon...  __label__1  \n",
       "399997   I bought this toy for my son who loves the \"T...  __label__1  \n",
       "399998   This is a compilation of a wide range of Mitf...  __label__2  \n",
       "399999   This DVD will be a disappointment if you get ...  __label__1  \n",
       "\n",
       "[400000 rows x 3 columns]"
      ]
     },
     "execution_count": 5,
     "metadata": {},
     "output_type": "execute_result"
    }
   ],
   "source": [
    "labels = []\n",
    "titles = []\n",
    "reviews = []\n",
    "\n",
    "for line in test_file_lines:\n",
    "  line = line.decode(\"utf-8\")\n",
    "  labels.append(line[0:10])\n",
    "  tt = line.find(':')\n",
    "  titles.append(line[11:tt])\n",
    "  reviews.append(line[tt+1:])\n",
    "\n",
    "Test_Data = pd.DataFrame({'Title':titles,'Review':reviews,'Label':labels})\n",
    "Test_Data"
   ]
  },
  {
   "cell_type": "code",
   "execution_count": 6,
   "metadata": {
    "execution": {
     "iopub.execute_input": "2021-01-29T08:22:44.674170Z",
     "iopub.status.busy": "2021-01-29T08:22:44.673032Z",
     "iopub.status.idle": "2021-01-29T08:22:44.677229Z",
     "shell.execute_reply": "2021-01-29T08:22:44.676620Z"
    },
    "papermill": {
     "duration": 0.028304,
     "end_time": "2021-01-29T08:22:44.677392",
     "exception": false,
     "start_time": "2021-01-29T08:22:44.649088",
     "status": "completed"
    },
    "tags": []
   },
   "outputs": [],
   "source": [
    "def cleantext(text):\n",
    "    \n",
    "    # remove URL\n",
    "    text = re.sub(r\"http\\S+\", \"\", text)\n",
    "    \n",
    "    # remove special characters and numbers\n",
    "    text = re.sub('[^ a-zA-Z\\']', '', text)\n",
    "    \n",
    "    return text"
   ]
  },
  {
   "cell_type": "code",
   "execution_count": 7,
   "metadata": {
    "execution": {
     "iopub.execute_input": "2021-01-29T08:22:44.717510Z",
     "iopub.status.busy": "2021-01-29T08:22:44.716752Z",
     "iopub.status.idle": "2021-01-29T08:22:45.949939Z",
     "shell.execute_reply": "2021-01-29T08:22:45.950541Z"
    },
    "papermill": {
     "duration": 1.254813,
     "end_time": "2021-01-29T08:22:45.950719",
     "exception": false,
     "start_time": "2021-01-29T08:22:44.695906",
     "status": "completed"
    },
    "tags": []
   },
   "outputs": [],
   "source": [
    "Test_Data['Label'] = np.where(Test_Data['Label']=='__label__2',1,0)\n",
    "Train_Data['Label'] = np.where(Train_Data['Label']=='__label__2',1,0)"
   ]
  },
  {
   "cell_type": "code",
   "execution_count": 8,
   "metadata": {
    "execution": {
     "iopub.execute_input": "2021-01-29T08:22:45.990058Z",
     "iopub.status.busy": "2021-01-29T08:22:45.989295Z",
     "iopub.status.idle": "2021-01-29T08:24:04.451208Z",
     "shell.execute_reply": "2021-01-29T08:24:04.451850Z"
    },
    "papermill": {
     "duration": 78.483895,
     "end_time": "2021-01-29T08:24:04.452053",
     "exception": false,
     "start_time": "2021-01-29T08:22:45.968158",
     "status": "completed"
    },
    "tags": []
   },
   "outputs": [],
   "source": [
    "Train_Data['Title'] = Train_Data['Title'].apply(lambda x: cleantext(x))\n",
    "Train_Data['Review'] = Train_Data['Review'].apply(lambda x: cleantext(x))\n",
    "Test_Data['Title'] = Test_Data['Title'].apply(lambda x: cleantext(x))\n",
    "Test_Data['Review'] = Test_Data['Review'].apply(lambda x: cleantext(x))"
   ]
  },
  {
   "cell_type": "code",
   "execution_count": 9,
   "metadata": {
    "execution": {
     "iopub.execute_input": "2021-01-29T08:24:04.496609Z",
     "iopub.status.busy": "2021-01-29T08:24:04.495707Z",
     "iopub.status.idle": "2021-01-29T08:24:04.509866Z",
     "shell.execute_reply": "2021-01-29T08:24:04.509147Z"
    },
    "papermill": {
     "duration": 0.040006,
     "end_time": "2021-01-29T08:24:04.509999",
     "exception": false,
     "start_time": "2021-01-29T08:24:04.469993",
     "status": "completed"
    },
    "tags": []
   },
   "outputs": [],
   "source": [
    "stops = stopwords.words('english')\n",
    "keep = ['not','do', 'does', 'did', \"doesn\",\"didn\", \"don\", \"isn't\", 't']\n",
    "for k in keep:\n",
    "    stops.remove(k)"
   ]
  },
  {
   "cell_type": "code",
   "execution_count": 10,
   "metadata": {
    "execution": {
     "iopub.execute_input": "2021-01-29T08:24:04.561200Z",
     "iopub.status.busy": "2021-01-29T08:24:04.558833Z",
     "iopub.status.idle": "2021-01-29T11:33:31.314481Z",
     "shell.execute_reply": "2021-01-29T11:33:31.313574Z"
    },
    "papermill": {
     "duration": 11366.786216,
     "end_time": "2021-01-29T11:33:31.314656",
     "exception": false,
     "start_time": "2021-01-29T08:24:04.528440",
     "status": "completed"
    },
    "tags": []
   },
   "outputs": [],
   "source": [
    "Train_Data['Title'] = Train_Data['Title'].apply(lambda x: ' '.join([PorterStemmer().stem(w).lower() for w in word_tokenize(x) if w not in stops]))\n",
    "Train_Data['Review'] = Train_Data['Review'].apply(lambda x: ' '.join([PorterStemmer().stem(w).lower() for w in word_tokenize(x) if w not in stops]))\n",
    "Test_Data['Title'] = Test_Data['Title'].apply(lambda x: ' '.join([PorterStemmer().stem(w).lower() for w in word_tokenize(x) if w not in stops]))\n",
    "Test_Data['Review'] = Test_Data['Review'].apply(lambda x: ' '.join([PorterStemmer().stem(w).lower() for w in word_tokenize(x) if w not in stops]))"
   ]
  },
  {
   "cell_type": "code",
   "execution_count": null,
   "metadata": {
    "papermill": {
     "duration": 0.017006,
     "end_time": "2021-01-29T11:33:31.350854",
     "exception": false,
     "start_time": "2021-01-29T11:33:31.333848",
     "status": "completed"
    },
    "tags": []
   },
   "outputs": [],
   "source": []
  },
  {
   "cell_type": "code",
   "execution_count": 11,
   "metadata": {
    "execution": {
     "iopub.execute_input": "2021-01-29T11:33:31.392709Z",
     "iopub.status.busy": "2021-01-29T11:33:31.391954Z",
     "iopub.status.idle": "2021-01-29T11:33:31.395875Z",
     "shell.execute_reply": "2021-01-29T11:33:31.395286Z"
    },
    "papermill": {
     "duration": 0.027693,
     "end_time": "2021-01-29T11:33:31.395997",
     "exception": false,
     "start_time": "2021-01-29T11:33:31.368304",
     "status": "completed"
    },
    "tags": []
   },
   "outputs": [],
   "source": [
    "max_features = 20000\n",
    "maxlen = 128\n",
    "embed_size = 128"
   ]
  },
  {
   "cell_type": "code",
   "execution_count": 12,
   "metadata": {
    "execution": {
     "iopub.execute_input": "2021-01-29T11:33:31.440636Z",
     "iopub.status.busy": "2021-01-29T11:33:31.439510Z",
     "iopub.status.idle": "2021-01-29T11:33:31.443223Z",
     "shell.execute_reply": "2021-01-29T11:33:31.442642Z"
    },
    "papermill": {
     "duration": 0.02863,
     "end_time": "2021-01-29T11:33:31.443375",
     "exception": false,
     "start_time": "2021-01-29T11:33:31.414745",
     "status": "completed"
    },
    "tags": []
   },
   "outputs": [],
   "source": [
    "tokenizer = Tokenizer(num_words=max_features)"
   ]
  },
  {
   "cell_type": "code",
   "execution_count": 13,
   "metadata": {
    "execution": {
     "iopub.execute_input": "2021-01-29T11:33:31.486785Z",
     "iopub.status.busy": "2021-01-29T11:33:31.486029Z",
     "iopub.status.idle": "2021-01-29T11:33:31.490081Z",
     "shell.execute_reply": "2021-01-29T11:33:31.489506Z"
    },
    "papermill": {
     "duration": 0.02855,
     "end_time": "2021-01-29T11:33:31.490208",
     "exception": false,
     "start_time": "2021-01-29T11:33:31.461658",
     "status": "completed"
    },
    "tags": []
   },
   "outputs": [],
   "source": [
    "Train_data = Train_Data"
   ]
  },
  {
   "cell_type": "code",
   "execution_count": 14,
   "metadata": {
    "execution": {
     "iopub.execute_input": "2021-01-29T11:33:31.535944Z",
     "iopub.status.busy": "2021-01-29T11:33:31.535190Z",
     "iopub.status.idle": "2021-01-29T11:37:36.439034Z",
     "shell.execute_reply": "2021-01-29T11:37:36.438339Z"
    },
    "papermill": {
     "duration": 244.930655,
     "end_time": "2021-01-29T11:37:36.439180",
     "exception": false,
     "start_time": "2021-01-29T11:33:31.508525",
     "status": "completed"
    },
    "tags": []
   },
   "outputs": [],
   "source": [
    "tokenizer.fit_on_texts(Train_Data['Title']+Train_Data['Review'])"
   ]
  },
  {
   "cell_type": "code",
   "execution_count": 15,
   "metadata": {
    "execution": {
     "iopub.execute_input": "2021-01-29T11:37:36.480456Z",
     "iopub.status.busy": "2021-01-29T11:37:36.479395Z",
     "iopub.status.idle": "2021-01-29T11:41:15.289112Z",
     "shell.execute_reply": "2021-01-29T11:41:15.288357Z"
    },
    "papermill": {
     "duration": 218.831607,
     "end_time": "2021-01-29T11:41:15.289262",
     "exception": false,
     "start_time": "2021-01-29T11:37:36.457655",
     "status": "completed"
    },
    "tags": []
   },
   "outputs": [],
   "source": [
    "train = tokenizer.texts_to_sequences(Train_Data['Title']+Train_Data['Review'])\n",
    "test = tokenizer.texts_to_sequences(Test_Data['Title']+Test_Data['Review'])"
   ]
  },
  {
   "cell_type": "code",
   "execution_count": 16,
   "metadata": {
    "execution": {
     "iopub.execute_input": "2021-01-29T11:41:15.330973Z",
     "iopub.status.busy": "2021-01-29T11:41:15.329895Z",
     "iopub.status.idle": "2021-01-29T11:42:20.031634Z",
     "shell.execute_reply": "2021-01-29T11:42:20.030792Z"
    },
    "papermill": {
     "duration": 64.723772,
     "end_time": "2021-01-29T11:42:20.031789",
     "exception": false,
     "start_time": "2021-01-29T11:41:15.308017",
     "status": "completed"
    },
    "tags": []
   },
   "outputs": [],
   "source": [
    "train_seq = pad_sequences(train, maxlen=maxlen, padding='post')\n",
    "test_seq = pad_sequences(test, maxlen=maxlen, padding='post')"
   ]
  },
  {
   "cell_type": "code",
   "execution_count": 17,
   "metadata": {
    "execution": {
     "iopub.execute_input": "2021-01-29T11:42:20.078958Z",
     "iopub.status.busy": "2021-01-29T11:42:20.078163Z",
     "iopub.status.idle": "2021-01-29T11:42:20.389598Z",
     "shell.execute_reply": "2021-01-29T11:42:20.388946Z"
    },
    "papermill": {
     "duration": 0.338917,
     "end_time": "2021-01-29T11:42:20.389754",
     "exception": false,
     "start_time": "2021-01-29T11:42:20.050837",
     "status": "completed"
    },
    "tags": []
   },
   "outputs": [
    {
     "name": "stdout",
     "output_type": "stream",
     "text": [
      "Model: \"sequential\"\n",
      "_________________________________________________________________\n",
      "Layer (type)                 Output Shape              Param #   \n",
      "=================================================================\n",
      "embedding (Embedding)        (None, 128, 128)          2560000   \n",
      "_________________________________________________________________\n",
      "spatial_dropout1d (SpatialDr (None, 128, 128)          0         \n",
      "_________________________________________________________________\n",
      "flatten (Flatten)            (None, 16384)             0         \n",
      "_________________________________________________________________\n",
      "dense (Dense)                (None, 2)                 32770     \n",
      "=================================================================\n",
      "Total params: 2,592,770\n",
      "Trainable params: 2,592,770\n",
      "Non-trainable params: 0\n",
      "_________________________________________________________________\n",
      "None\n"
     ]
    }
   ],
   "source": [
    "\n",
    "model = Sequential()\n",
    "model.add(Embedding(max_features, embed_size, input_length = maxlen))\n",
    "model.add(SpatialDropout1D(0.4))\n",
    "model.add(Flatten())\n",
    "model.add(Dense(2, activation='softmax'))\n",
    "# compile the model\n",
    "model.compile(optimizer='adam', loss='binary_crossentropy', metrics=['accuracy'])\n",
    "# summarize the model\n",
    "print(model.summary())"
   ]
  },
  {
   "cell_type": "code",
   "execution_count": 18,
   "metadata": {
    "execution": {
     "iopub.execute_input": "2021-01-29T11:42:20.432196Z",
     "iopub.status.busy": "2021-01-29T11:42:20.431446Z",
     "iopub.status.idle": "2021-01-29T12:41:35.990083Z",
     "shell.execute_reply": "2021-01-29T12:41:35.651732Z"
    },
    "papermill": {
     "duration": 3555.581269,
     "end_time": "2021-01-29T12:41:35.990254",
     "exception": false,
     "start_time": "2021-01-29T11:42:20.408985",
     "status": "completed"
    },
    "tags": []
   },
   "outputs": [
    {
     "name": "stdout",
     "output_type": "stream",
     "text": [
      "Epoch 1/2\n",
      "56250/56250 [==============================] - 1765s 31ms/step - loss: 0.2762 - accuracy: 0.8906\n",
      "Epoch 2/2\n",
      "56250/56250 [==============================] - 1780s 32ms/step - loss: 0.2746 - accuracy: 0.8940\n"
     ]
    },
    {
     "data": {
      "text/plain": [
       "<tensorflow.python.keras.callbacks.History at 0x7fda9b498850>"
      ]
     },
     "execution_count": 18,
     "metadata": {},
     "output_type": "execute_result"
    }
   ],
   "source": [
    "model.fit(x=train_seq, y=to_categorical(Train_Data['Label']), epochs=2, verbose=1, batch_size=64)"
   ]
  },
  {
   "cell_type": "code",
   "execution_count": 19,
   "metadata": {
    "execution": {
     "iopub.execute_input": "2021-01-29T12:42:15.076565Z",
     "iopub.status.busy": "2021-01-29T12:42:15.075819Z",
     "iopub.status.idle": "2021-01-29T12:42:39.393824Z",
     "shell.execute_reply": "2021-01-29T12:42:39.392940Z"
    },
    "papermill": {
     "duration": 43.628634,
     "end_time": "2021-01-29T12:42:39.393992",
     "exception": false,
     "start_time": "2021-01-29T12:41:55.765358",
     "status": "completed"
    },
    "tags": []
   },
   "outputs": [
    {
     "name": "stdout",
     "output_type": "stream",
     "text": [
      "12500/12500 [==============================] - 24s 2ms/step - loss: 0.2674 - accuracy: 0.8968\n"
     ]
    },
    {
     "data": {
      "text/plain": [
       "[0.2673531770706177, 0.8968499898910522]"
      ]
     },
     "execution_count": 19,
     "metadata": {},
     "output_type": "execute_result"
    }
   ],
   "source": [
    "model.evaluate(test_seq, to_categorical(Test_Data['Label']))"
   ]
  },
  {
   "cell_type": "code",
   "execution_count": null,
   "metadata": {
    "papermill": {
     "duration": 19.62846,
     "end_time": "2021-01-29T12:43:18.874584",
     "exception": false,
     "start_time": "2021-01-29T12:42:59.246124",
     "status": "completed"
    },
    "tags": []
   },
   "outputs": [],
   "source": []
  },
  {
   "cell_type": "code",
   "execution_count": null,
   "metadata": {
    "papermill": {
     "duration": 19.520766,
     "end_time": "2021-01-29T12:43:58.147338",
     "exception": false,
     "start_time": "2021-01-29T12:43:38.626572",
     "status": "completed"
    },
    "tags": []
   },
   "outputs": [],
   "source": []
  }
 ],
 "metadata": {
  "kernelspec": {
   "display_name": "Python 3",
   "language": "python",
   "name": "python3"
  },
  "language_info": {
   "codemirror_mode": {
    "name": "ipython",
    "version": 3
   },
   "file_extension": ".py",
   "mimetype": "text/x-python",
   "name": "python",
   "nbconvert_exporter": "python",
   "pygments_lexer": "ipython3",
   "version": "3.7.4"
  },
  "papermill": {
   "duration": 15940.085622,
   "end_time": "2021-01-29T12:44:18.515233",
   "environment_variables": {},
   "exception": null,
   "input_path": "__notebook__.ipynb",
   "output_path": "__notebook__.ipynb",
   "parameters": {},
   "start_time": "2021-01-29T08:18:38.429611",
   "version": "2.1.0"
  }
 },
 "nbformat": 4,
 "nbformat_minor": 4
}
