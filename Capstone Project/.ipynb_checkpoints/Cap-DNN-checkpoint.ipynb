{
 "cells": [
  {
   "cell_type": "code",
   "execution_count": 1,
   "metadata": {
    "_cell_guid": "b1076dfc-b9ad-4769-8c92-a6c4dae69d19",
    "_uuid": "8f2839f25d086af736a60e9eeb907d3b93b6e0e5",
    "execution": {
     "iopub.execute_input": "2021-01-28T19:11:21.603930Z",
     "iopub.status.busy": "2021-01-28T19:11:21.603270Z",
     "iopub.status.idle": "2021-01-28T19:11:29.278435Z",
     "shell.execute_reply": "2021-01-28T19:11:29.278982Z"
    },
    "papermill": {
     "duration": 7.700007,
     "end_time": "2021-01-28T19:11:29.279369",
     "exception": false,
     "start_time": "2021-01-28T19:11:21.579362",
     "status": "completed"
    },
    "tags": []
   },
   "outputs": [],
   "source": [
    "import numpy as np\n",
    "import pandas as pd\n",
    "import matplotlib.pyplot as plt\n",
    "from sklearn.model_selection import train_test_split\n",
    "from sklearn.feature_extraction.text import CountVectorizer\n",
    "from sklearn.feature_extraction.text import TfidfVectorizer\n",
    "from sklearn.feature_extraction.text import HashingVectorizer\n",
    "from keras.models import Sequential\n",
    "from keras.layers import Dense, Dropout\n",
    "from keras.optimizers import SGD, Adam\n",
    "from keras.utils.np_utils import to_categorical"
   ]
  },
  {
   "cell_type": "code",
   "execution_count": 2,
   "metadata": {
    "execution": {
     "iopub.execute_input": "2021-01-28T19:11:29.312108Z",
     "iopub.status.busy": "2021-01-28T19:11:29.311451Z",
     "iopub.status.idle": "2021-01-28T19:11:42.090030Z",
     "shell.execute_reply": "2021-01-28T19:11:42.089254Z"
    },
    "papermill": {
     "duration": 12.795914,
     "end_time": "2021-01-28T19:11:42.090192",
     "exception": false,
     "start_time": "2021-01-28T19:11:29.294278",
     "status": "completed"
    },
    "tags": []
   },
   "outputs": [],
   "source": [
    "Train_Data = pd.read_csv('../input/stemmed-amazon/Train_stem.csv')\n",
    "Test_Data = pd.read_csv('../input/stemmed-amazon/Test_stem.csv')\n",
    "Train_Data = Train_Data.fillna('')\n",
    "Test_Data = Test_Data.fillna('')"
   ]
  },
  {
   "cell_type": "code",
   "execution_count": 3,
   "metadata": {
    "execution": {
     "iopub.execute_input": "2021-01-28T19:11:42.130942Z",
     "iopub.status.busy": "2021-01-28T19:11:42.130260Z",
     "iopub.status.idle": "2021-01-28T19:11:43.164269Z",
     "shell.execute_reply": "2021-01-28T19:11:43.164787Z"
    },
    "papermill": {
     "duration": 1.060119,
     "end_time": "2021-01-28T19:11:43.165001",
     "exception": false,
     "start_time": "2021-01-28T19:11:42.104882",
     "status": "completed"
    },
    "tags": []
   },
   "outputs": [],
   "source": [
    "X_train, X_valid, y_train, y_valid = train_test_split(Train_Data['Title']+' '+Train_Data['Review'], Train_Data['Label'], test_size=0.1, random_state=42)"
   ]
  },
  {
   "cell_type": "code",
   "execution_count": 4,
   "metadata": {
    "execution": {
     "iopub.execute_input": "2021-01-28T19:11:43.197972Z",
     "iopub.status.busy": "2021-01-28T19:11:43.197324Z",
     "iopub.status.idle": "2021-01-28T19:13:00.404044Z",
     "shell.execute_reply": "2021-01-28T19:13:00.402918Z"
    },
    "papermill": {
     "duration": 77.223884,
     "end_time": "2021-01-28T19:13:00.404224",
     "exception": false,
     "start_time": "2021-01-28T19:11:43.180340",
     "status": "completed"
    },
    "tags": []
   },
   "outputs": [],
   "source": [
    "vect = HashingVectorizer(ngram_range=(1,2), alternate_sign=False).fit(X_train)\n",
    "X_train_vectorized = vect.transform(X_train)"
   ]
  },
  {
   "cell_type": "code",
   "execution_count": 5,
   "metadata": {
    "execution": {
     "iopub.execute_input": "2021-01-28T19:13:00.441326Z",
     "iopub.status.busy": "2021-01-28T19:13:00.440370Z",
     "iopub.status.idle": "2021-01-28T19:13:00.668450Z",
     "shell.execute_reply": "2021-01-28T19:13:00.667789Z"
    },
    "papermill": {
     "duration": 0.249478,
     "end_time": "2021-01-28T19:13:00.668603",
     "exception": false,
     "start_time": "2021-01-28T19:13:00.419125",
     "status": "completed"
    },
    "tags": []
   },
   "outputs": [],
   "source": [
    "model = Sequential()\n",
    "model.add(Dense(16, input_dim=X_train_vectorized.shape[1], activation='relu'))\n",
    "model.add(Dense(32, activation='relu'))\n",
    "model.add(Dropout(0.3))\n",
    "model.add(Dense(16, activation='relu'))\n",
    "model.add(Dense(2, activation='softmax'))\n",
    "model.compile(loss='binary_crossentropy', optimizer='adam', metrics=['accuracy'])"
   ]
  },
  {
   "cell_type": "code",
   "execution_count": 6,
   "metadata": {
    "execution": {
     "iopub.execute_input": "2021-01-28T19:13:00.718316Z",
     "iopub.status.busy": "2021-01-28T19:13:00.717241Z",
     "iopub.status.idle": "2021-01-28T19:13:09.335891Z",
     "shell.execute_reply": "2021-01-28T19:13:09.336433Z"
    },
    "papermill": {
     "duration": 8.652983,
     "end_time": "2021-01-28T19:13:09.336639",
     "exception": false,
     "start_time": "2021-01-28T19:13:00.683656",
     "status": "completed"
    },
    "tags": []
   },
   "outputs": [],
   "source": [
    "X_train_vectorized.sort_indices()\n",
    "X_valid_vect = vect.transform(X_valid)\n",
    "X_valid_vect.sort_indices()"
   ]
  },
  {
   "cell_type": "code",
   "execution_count": 7,
   "metadata": {
    "execution": {
     "iopub.execute_input": "2021-01-28T19:13:09.372199Z",
     "iopub.status.busy": "2021-01-28T19:13:09.369652Z",
     "iopub.status.idle": "2021-01-28T19:16:03.817506Z",
     "shell.execute_reply": "2021-01-28T19:16:03.818058Z"
    },
    "papermill": {
     "duration": 174.466272,
     "end_time": "2021-01-28T19:16:03.818290",
     "exception": false,
     "start_time": "2021-01-28T19:13:09.352018",
     "status": "completed"
    },
    "tags": []
   },
   "outputs": [
    {
     "name": "stdout",
     "output_type": "stream",
     "text": [
      "Epoch 1/2\n",
      "900/900 [==============================] - 91s 98ms/step - loss: 0.3829 - accuracy: 0.8460 - val_loss: 0.2012 - val_accuracy: 0.9198\n",
      "Epoch 2/2\n",
      "900/900 [==============================] - 77s 84ms/step - loss: 0.0898 - accuracy: 0.9726 - val_loss: 0.2562 - val_accuracy: 0.9074\n"
     ]
    },
    {
     "data": {
      "text/plain": [
       "<tensorflow.python.keras.callbacks.History at 0x7f1037f7c8d0>"
      ]
     },
     "execution_count": 7,
     "metadata": {},
     "output_type": "execute_result"
    }
   ],
   "source": [
    "model.fit(X_train_vectorized, to_categorical(y_train),  epochs=2, verbose=1, batch_size=1000, validation_data=(X_valid_vect,to_categorical(y_valid)))"
   ]
  },
  {
   "cell_type": "code",
   "execution_count": 8,
   "metadata": {
    "execution": {
     "iopub.execute_input": "2021-01-28T19:16:04.958286Z",
     "iopub.status.busy": "2021-01-28T19:16:04.957538Z",
     "iopub.status.idle": "2021-01-28T19:16:22.248664Z",
     "shell.execute_reply": "2021-01-28T19:16:22.246785Z"
    },
    "papermill": {
     "duration": 17.864592,
     "end_time": "2021-01-28T19:16:22.248834",
     "exception": false,
     "start_time": "2021-01-28T19:16:04.384242",
     "status": "completed"
    },
    "tags": []
   },
   "outputs": [],
   "source": [
    "X_test_vect = vect.transform(Test_Data['Title']+' '+Test_Data['Review'])\n",
    "X_test_vect.sort_indices()"
   ]
  },
  {
   "cell_type": "code",
   "execution_count": 9,
   "metadata": {
    "execution": {
     "iopub.execute_input": "2021-01-28T19:16:23.384198Z",
     "iopub.status.busy": "2021-01-28T19:16:23.383512Z",
     "iopub.status.idle": "2021-01-28T19:16:33.529195Z",
     "shell.execute_reply": "2021-01-28T19:16:33.527689Z"
    },
    "papermill": {
     "duration": 10.715984,
     "end_time": "2021-01-28T19:16:33.529365",
     "exception": false,
     "start_time": "2021-01-28T19:16:22.813381",
     "status": "completed"
    },
    "tags": []
   },
   "outputs": [
    {
     "name": "stdout",
     "output_type": "stream",
     "text": [
      "6250/6250 [==============================] - 9s 1ms/step - loss: 0.2557 - accuracy: 0.9089\n"
     ]
    },
    {
     "data": {
      "text/plain": [
       "[0.2557101547718048, 0.908905029296875]"
      ]
     },
     "execution_count": 9,
     "metadata": {},
     "output_type": "execute_result"
    }
   ],
   "source": [
    "model.evaluate(X_test_vect, to_categorical(Test_Data['Label']))"
   ]
  },
  {
   "cell_type": "code",
   "execution_count": 10,
   "metadata": {
    "execution": {
     "iopub.execute_input": "2021-01-28T19:16:34.814431Z",
     "iopub.status.busy": "2021-01-28T19:16:34.813667Z",
     "iopub.status.idle": "2021-01-28T19:18:27.623518Z",
     "shell.execute_reply": "2021-01-28T19:18:27.624125Z"
    },
    "papermill": {
     "duration": 113.473542,
     "end_time": "2021-01-28T19:18:27.624341",
     "exception": false,
     "start_time": "2021-01-28T19:16:34.150799",
     "status": "completed"
    },
    "tags": []
   },
   "outputs": [],
   "source": [
    "vect = HashingVectorizer(ngram_range=(1,3), alternate_sign=False).fit(X_train)\n",
    "X_train_vectorized = vect.transform(X_train)"
   ]
  },
  {
   "cell_type": "code",
   "execution_count": 11,
   "metadata": {
    "execution": {
     "iopub.execute_input": "2021-01-28T19:18:28.930567Z",
     "iopub.status.busy": "2021-01-28T19:18:28.929901Z",
     "iopub.status.idle": "2021-01-28T19:18:29.044683Z",
     "shell.execute_reply": "2021-01-28T19:18:29.043904Z"
    },
    "papermill": {
     "duration": 0.790085,
     "end_time": "2021-01-28T19:18:29.044845",
     "exception": false,
     "start_time": "2021-01-28T19:18:28.254760",
     "status": "completed"
    },
    "tags": []
   },
   "outputs": [],
   "source": [
    "model = Sequential()\n",
    "model.add(Dense(16, input_dim=X_train_vectorized.shape[1], activation='relu'))\n",
    "model.add(Dense(32, activation='relu'))\n",
    "model.add(Dropout(0.3))\n",
    "model.add(Dense(16, activation='relu'))\n",
    "model.add(Dense(2, activation='softmax'))\n",
    "model.compile(loss='binary_crossentropy', optimizer='adam', metrics=['accuracy'])"
   ]
  },
  {
   "cell_type": "code",
   "execution_count": 12,
   "metadata": {
    "execution": {
     "iopub.execute_input": "2021-01-28T19:18:30.335222Z",
     "iopub.status.busy": "2021-01-28T19:18:30.330236Z",
     "iopub.status.idle": "2021-01-28T19:18:42.649545Z",
     "shell.execute_reply": "2021-01-28T19:18:42.650121Z"
    },
    "papermill": {
     "duration": 12.978028,
     "end_time": "2021-01-28T19:18:42.650302",
     "exception": false,
     "start_time": "2021-01-28T19:18:29.672274",
     "status": "completed"
    },
    "tags": []
   },
   "outputs": [],
   "source": [
    "X_train_vectorized.sort_indices()\n",
    "X_valid_vect = vect.transform(X_valid)\n",
    "X_valid_vect.sort_indices()"
   ]
  },
  {
   "cell_type": "code",
   "execution_count": 13,
   "metadata": {
    "execution": {
     "iopub.execute_input": "2021-01-28T19:18:43.973218Z",
     "iopub.status.busy": "2021-01-28T19:18:43.972173Z",
     "iopub.status.idle": "2021-01-28T19:21:43.806504Z",
     "shell.execute_reply": "2021-01-28T19:21:43.805797Z"
    },
    "papermill": {
     "duration": 180.503224,
     "end_time": "2021-01-28T19:21:43.806683",
     "exception": false,
     "start_time": "2021-01-28T19:18:43.303459",
     "status": "completed"
    },
    "tags": []
   },
   "outputs": [
    {
     "name": "stdout",
     "output_type": "stream",
     "text": [
      "Epoch 1/2\n",
      "900/900 [==============================] - 86s 93ms/step - loss: 0.3761 - accuracy: 0.8633 - val_loss: 0.2124 - val_accuracy: 0.9147\n",
      "Epoch 2/2\n",
      "900/900 [==============================] - 83s 91ms/step - loss: 0.0696 - accuracy: 0.9798 - val_loss: 0.3049 - val_accuracy: 0.9003\n"
     ]
    },
    {
     "data": {
      "text/plain": [
       "<tensorflow.python.keras.callbacks.History at 0x7f1047223a50>"
      ]
     },
     "execution_count": 13,
     "metadata": {},
     "output_type": "execute_result"
    }
   ],
   "source": [
    "model.fit(X_train_vectorized, to_categorical(y_train),  epochs=2, verbose=1, batch_size=1000, validation_data=(X_valid_vect,to_categorical(y_valid)))"
   ]
  },
  {
   "cell_type": "code",
   "execution_count": 14,
   "metadata": {
    "execution": {
     "iopub.execute_input": "2021-01-28T19:21:46.168092Z",
     "iopub.status.busy": "2021-01-28T19:21:46.167395Z",
     "iopub.status.idle": "2021-01-28T19:22:11.050426Z",
     "shell.execute_reply": "2021-01-28T19:22:11.051230Z"
    },
    "papermill": {
     "duration": 26.064932,
     "end_time": "2021-01-28T19:22:11.051457",
     "exception": false,
     "start_time": "2021-01-28T19:21:44.986525",
     "status": "completed"
    },
    "tags": []
   },
   "outputs": [],
   "source": [
    "X_test_vect = vect.transform(Test_Data['Title']+' '+Test_Data['Review'])\n",
    "X_test_vect.sort_indices()"
   ]
  },
  {
   "cell_type": "code",
   "execution_count": 15,
   "metadata": {
    "execution": {
     "iopub.execute_input": "2021-01-28T19:22:13.437996Z",
     "iopub.status.busy": "2021-01-28T19:22:13.437328Z",
     "iopub.status.idle": "2021-01-28T19:22:24.531085Z",
     "shell.execute_reply": "2021-01-28T19:22:24.527627Z"
    },
    "papermill": {
     "duration": 12.306433,
     "end_time": "2021-01-28T19:22:24.531337",
     "exception": false,
     "start_time": "2021-01-28T19:22:12.224904",
     "status": "completed"
    },
    "tags": []
   },
   "outputs": [
    {
     "name": "stdout",
     "output_type": "stream",
     "text": [
      "6250/6250 [==============================] - 10s 2ms/step - loss: 0.3052 - accuracy: 0.9012\n"
     ]
    },
    {
     "data": {
      "text/plain": [
       "[0.3052250146865845, 0.9011650085449219]"
      ]
     },
     "execution_count": 15,
     "metadata": {},
     "output_type": "execute_result"
    }
   ],
   "source": [
    "model.evaluate(X_test_vect, to_categorical(Test_Data['Label']))"
   ]
  },
  {
   "cell_type": "code",
   "execution_count": null,
   "metadata": {
    "papermill": {
     "duration": 1.293229,
     "end_time": "2021-01-28T19:22:27.058705",
     "exception": false,
     "start_time": "2021-01-28T19:22:25.765476",
     "status": "completed"
    },
    "tags": []
   },
   "outputs": [],
   "source": []
  },
  {
   "cell_type": "code",
   "execution_count": 16,
   "metadata": {
    "execution": {
     "iopub.execute_input": "2021-01-28T19:22:29.618263Z",
     "iopub.status.busy": "2021-01-28T19:22:29.607659Z",
     "iopub.status.idle": "2021-01-28T19:23:12.728834Z",
     "shell.execute_reply": "2021-01-28T19:23:12.728088Z"
    },
    "papermill": {
     "duration": 44.384341,
     "end_time": "2021-01-28T19:23:12.729012",
     "exception": false,
     "start_time": "2021-01-28T19:22:28.344671",
     "status": "completed"
    },
    "tags": []
   },
   "outputs": [],
   "source": [
    "vect = HashingVectorizer(alternate_sign=False).fit(X_train)\n",
    "X_train_vectorized = vect.transform(X_train)"
   ]
  },
  {
   "cell_type": "code",
   "execution_count": 17,
   "metadata": {
    "execution": {
     "iopub.execute_input": "2021-01-28T19:23:15.207352Z",
     "iopub.status.busy": "2021-01-28T19:23:15.206619Z",
     "iopub.status.idle": "2021-01-28T19:23:15.321185Z",
     "shell.execute_reply": "2021-01-28T19:23:15.320592Z"
    },
    "papermill": {
     "duration": 1.358612,
     "end_time": "2021-01-28T19:23:15.321346",
     "exception": false,
     "start_time": "2021-01-28T19:23:13.962734",
     "status": "completed"
    },
    "tags": []
   },
   "outputs": [],
   "source": [
    "model = Sequential()\n",
    "model.add(Dense(16, input_dim=X_train_vectorized.shape[1], activation='relu'))\n",
    "model.add(Dense(32, activation='relu'))\n",
    "model.add(Dropout(0.3))\n",
    "model.add(Dense(16, activation='relu'))\n",
    "model.add(Dense(2, activation='softmax'))\n",
    "model.compile(loss='binary_crossentropy', optimizer='adam', metrics=['accuracy'])"
   ]
  },
  {
   "cell_type": "code",
   "execution_count": 18,
   "metadata": {
    "execution": {
     "iopub.execute_input": "2021-01-28T19:23:17.829854Z",
     "iopub.status.busy": "2021-01-28T19:23:17.817025Z",
     "iopub.status.idle": "2021-01-28T19:23:22.554662Z",
     "shell.execute_reply": "2021-01-28T19:23:22.555196Z"
    },
    "papermill": {
     "duration": 5.994697,
     "end_time": "2021-01-28T19:23:22.555393",
     "exception": false,
     "start_time": "2021-01-28T19:23:16.560696",
     "status": "completed"
    },
    "tags": []
   },
   "outputs": [],
   "source": [
    "X_train_vectorized.sort_indices()\n",
    "X_valid_vect = vect.transform(X_valid)\n",
    "X_valid_vect.sort_indices()"
   ]
  },
  {
   "cell_type": "code",
   "execution_count": 19,
   "metadata": {
    "execution": {
     "iopub.execute_input": "2021-01-28T19:23:25.067498Z",
     "iopub.status.busy": "2021-01-28T19:23:25.066782Z",
     "iopub.status.idle": "2021-01-28T19:26:00.301413Z",
     "shell.execute_reply": "2021-01-28T19:26:00.300801Z"
    },
    "papermill": {
     "duration": 156.472372,
     "end_time": "2021-01-28T19:26:00.301580",
     "exception": false,
     "start_time": "2021-01-28T19:23:23.829208",
     "status": "completed"
    },
    "tags": []
   },
   "outputs": [
    {
     "name": "stdout",
     "output_type": "stream",
     "text": [
      "Epoch 1/2\n",
      "900/900 [==============================] - 81s 88ms/step - loss: 0.3997 - accuracy: 0.8490 - val_loss: 0.2516 - val_accuracy: 0.8968\n",
      "Epoch 2/2\n",
      "900/900 [==============================] - 71s 77ms/step - loss: 0.2271 - accuracy: 0.9107 - val_loss: 0.2492 - val_accuracy: 0.8982\n"
     ]
    },
    {
     "data": {
      "text/plain": [
       "<tensorflow.python.keras.callbacks.History at 0x7f104b07ccd0>"
      ]
     },
     "execution_count": 19,
     "metadata": {},
     "output_type": "execute_result"
    }
   ],
   "source": [
    "model.fit(X_train_vectorized, to_categorical(y_train),  epochs=2, verbose=1, batch_size=1000, validation_data=(X_valid_vect,to_categorical(y_valid)))"
   ]
  },
  {
   "cell_type": "code",
   "execution_count": 20,
   "metadata": {
    "execution": {
     "iopub.execute_input": "2021-01-28T19:26:03.915583Z",
     "iopub.status.busy": "2021-01-28T19:26:03.914882Z",
     "iopub.status.idle": "2021-01-28T19:26:13.664767Z",
     "shell.execute_reply": "2021-01-28T19:26:13.662028Z"
    },
    "papermill": {
     "duration": 11.573212,
     "end_time": "2021-01-28T19:26:13.664942",
     "exception": false,
     "start_time": "2021-01-28T19:26:02.091730",
     "status": "completed"
    },
    "tags": []
   },
   "outputs": [],
   "source": [
    "X_test_vect = vect.transform(Test_Data['Title']+' '+Test_Data['Review'])\n",
    "X_test_vect.sort_indices()"
   ]
  },
  {
   "cell_type": "code",
   "execution_count": 21,
   "metadata": {
    "execution": {
     "iopub.execute_input": "2021-01-28T19:26:17.325454Z",
     "iopub.status.busy": "2021-01-28T19:26:17.324734Z",
     "iopub.status.idle": "2021-01-28T19:26:26.051677Z",
     "shell.execute_reply": "2021-01-28T19:26:26.052216Z"
    },
    "papermill": {
     "duration": 10.57381,
     "end_time": "2021-01-28T19:26:26.052412",
     "exception": false,
     "start_time": "2021-01-28T19:26:15.478602",
     "status": "completed"
    },
    "tags": []
   },
   "outputs": [
    {
     "name": "stdout",
     "output_type": "stream",
     "text": [
      "6250/6250 [==============================] - 8s 1ms/step - loss: 0.2479 - accuracy: 0.8981\n"
     ]
    },
    {
     "data": {
      "text/plain": [
       "[0.24790048599243164, 0.8981099724769592]"
      ]
     },
     "execution_count": 21,
     "metadata": {},
     "output_type": "execute_result"
    }
   ],
   "source": [
    "model.evaluate(X_test_vect, to_categorical(Test_Data['Label']))"
   ]
  },
  {
   "cell_type": "code",
   "execution_count": null,
   "metadata": {
    "papermill": {
     "duration": 1.830303,
     "end_time": "2021-01-28T19:26:29.713179",
     "exception": false,
     "start_time": "2021-01-28T19:26:27.882876",
     "status": "completed"
    },
    "tags": []
   },
   "outputs": [],
   "source": []
  }
 ],
 "metadata": {
  "kernelspec": {
   "display_name": "Python 3",
   "language": "python",
   "name": "python3"
  },
  "language_info": {
   "codemirror_mode": {
    "name": "ipython",
    "version": 3
   },
   "file_extension": ".py",
   "mimetype": "text/x-python",
   "name": "python",
   "nbconvert_exporter": "python",
   "pygments_lexer": "ipython3",
   "version": "3.7.4"
  },
  "papermill": {
   "default_parameters": {},
   "duration": 918.34868,
   "end_time": "2021-01-28T19:26:33.374242",
   "environment_variables": {},
   "exception": null,
   "input_path": "__notebook__.ipynb",
   "output_path": "__notebook__.ipynb",
   "parameters": {},
   "start_time": "2021-01-28T19:11:15.025562",
   "version": "2.2.2"
  }
 },
 "nbformat": 4,
 "nbformat_minor": 4
}
