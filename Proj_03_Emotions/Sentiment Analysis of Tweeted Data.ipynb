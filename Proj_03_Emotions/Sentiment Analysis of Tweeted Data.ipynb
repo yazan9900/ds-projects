{
 "cells": [
  {
   "cell_type": "markdown",
   "metadata": {},
   "source": [
    "## Sentiment Analysis of Text Data Example (Tweets)\n"
   ]
  },
  {
   "cell_type": "markdown",
   "metadata": {},
   "source": [
    "## Import  Libraries"
   ]
  },
  {
   "cell_type": "code",
   "execution_count": 211,
   "metadata": {},
   "outputs": [
    {
     "name": "stdout",
     "output_type": "stream",
     "text": [
      "\u001b[31mERROR: Could not find a version that satisfies the requirement emoticons\u001b[0m\n",
      "\u001b[31mERROR: No matching distribution found for emoticons\u001b[0m\n"
     ]
    }
   ],
   "source": []
  },
  {
   "cell_type": "code",
   "execution_count": 1,
   "metadata": {},
   "outputs": [
    {
     "name": "stdout",
     "output_type": "stream",
     "text": [
      "Requirement already satisfied: plotly in /Users/sphinx/anaconda3/lib/python3.7/site-packages (4.14.3)\n",
      "Requirement already satisfied: retrying>=1.3.3 in /Users/sphinx/anaconda3/lib/python3.7/site-packages (from plotly) (1.3.3)\n",
      "Requirement already satisfied: six in /Users/sphinx/anaconda3/lib/python3.7/site-packages (from plotly) (1.15.0)\n"
     ]
    }
   ],
   "source": [
    "!pip install plotly #plotly.py is an interactive, open-source, and browser-based graphing library for Python https://github.com/plotly/plotly.py"
   ]
  },
  {
   "cell_type": "code",
   "execution_count": 2,
   "metadata": {},
   "outputs": [
    {
     "name": "stdout",
     "output_type": "stream",
     "text": [
      "Requirement already satisfied: cufflinks in /Users/sphinx/anaconda3/lib/python3.7/site-packages (0.17.3)\n",
      "Requirement already satisfied: ipython>=5.3.0 in /Users/sphinx/anaconda3/lib/python3.7/site-packages (from cufflinks) (7.6.1)\n",
      "Requirement already satisfied: six>=1.9.0 in /Users/sphinx/anaconda3/lib/python3.7/site-packages (from cufflinks) (1.15.0)\n",
      "Requirement already satisfied: ipywidgets>=7.0.0 in /Users/sphinx/anaconda3/lib/python3.7/site-packages (from cufflinks) (7.5.0)\n",
      "Requirement already satisfied: plotly>=4.1.1 in /Users/sphinx/anaconda3/lib/python3.7/site-packages (from cufflinks) (4.14.3)\n",
      "Requirement already satisfied: numpy>=1.9.2 in /Users/sphinx/anaconda3/lib/python3.7/site-packages (from cufflinks) (1.19.5)\n",
      "Requirement already satisfied: colorlover>=0.2.1 in /Users/sphinx/anaconda3/lib/python3.7/site-packages (from cufflinks) (0.3.0)\n",
      "Requirement already satisfied: pandas>=0.19.2 in /Users/sphinx/anaconda3/lib/python3.7/site-packages (from cufflinks) (0.24.2)\n",
      "Requirement already satisfied: setuptools>=34.4.1 in /Users/sphinx/anaconda3/lib/python3.7/site-packages (from cufflinks) (41.0.1)\n",
      "Requirement already satisfied: pygments in /Users/sphinx/anaconda3/lib/python3.7/site-packages (from ipython>=5.3.0->cufflinks) (2.4.2)\n",
      "Requirement already satisfied: prompt-toolkit<2.1.0,>=2.0.0 in /Users/sphinx/anaconda3/lib/python3.7/site-packages (from ipython>=5.3.0->cufflinks) (2.0.9)\n",
      "Requirement already satisfied: traitlets>=4.2 in /Users/sphinx/anaconda3/lib/python3.7/site-packages (from ipython>=5.3.0->cufflinks) (4.3.2)\n",
      "Requirement already satisfied: backcall in /Users/sphinx/anaconda3/lib/python3.7/site-packages (from ipython>=5.3.0->cufflinks) (0.1.0)\n",
      "Requirement already satisfied: jedi>=0.10 in /Users/sphinx/anaconda3/lib/python3.7/site-packages (from ipython>=5.3.0->cufflinks) (0.13.3)\n",
      "Requirement already satisfied: appnope in /Users/sphinx/anaconda3/lib/python3.7/site-packages (from ipython>=5.3.0->cufflinks) (0.1.0)\n",
      "Requirement already satisfied: decorator in /Users/sphinx/anaconda3/lib/python3.7/site-packages (from ipython>=5.3.0->cufflinks) (4.4.0)\n",
      "Requirement already satisfied: pickleshare in /Users/sphinx/anaconda3/lib/python3.7/site-packages (from ipython>=5.3.0->cufflinks) (0.7.5)\n",
      "Requirement already satisfied: pexpect in /Users/sphinx/anaconda3/lib/python3.7/site-packages (from ipython>=5.3.0->cufflinks) (4.7.0)\n",
      "Requirement already satisfied: nbformat>=4.2.0 in /Users/sphinx/anaconda3/lib/python3.7/site-packages (from ipywidgets>=7.0.0->cufflinks) (4.4.0)\n",
      "Requirement already satisfied: ipykernel>=4.5.1 in /Users/sphinx/anaconda3/lib/python3.7/site-packages (from ipywidgets>=7.0.0->cufflinks) (5.1.1)\n",
      "Requirement already satisfied: widgetsnbextension~=3.5.0 in /Users/sphinx/anaconda3/lib/python3.7/site-packages (from ipywidgets>=7.0.0->cufflinks) (3.5.0)\n",
      "Requirement already satisfied: jupyter-client in /Users/sphinx/anaconda3/lib/python3.7/site-packages (from ipykernel>=4.5.1->ipywidgets>=7.0.0->cufflinks) (5.3.1)\n",
      "Requirement already satisfied: tornado>=4.2 in /Users/sphinx/anaconda3/lib/python3.7/site-packages (from ipykernel>=4.5.1->ipywidgets>=7.0.0->cufflinks) (6.0.3)\n",
      "Requirement already satisfied: parso>=0.3.0 in /Users/sphinx/anaconda3/lib/python3.7/site-packages (from jedi>=0.10->ipython>=5.3.0->cufflinks) (0.5.0)\n",
      "Requirement already satisfied: jupyter-core in /Users/sphinx/anaconda3/lib/python3.7/site-packages (from nbformat>=4.2.0->ipywidgets>=7.0.0->cufflinks) (4.5.0)\n",
      "Requirement already satisfied: jsonschema!=2.5.0,>=2.4 in /Users/sphinx/anaconda3/lib/python3.7/site-packages (from nbformat>=4.2.0->ipywidgets>=7.0.0->cufflinks) (3.0.1)\n",
      "Requirement already satisfied: ipython-genutils in /Users/sphinx/anaconda3/lib/python3.7/site-packages (from nbformat>=4.2.0->ipywidgets>=7.0.0->cufflinks) (0.2.0)\n",
      "Requirement already satisfied: attrs>=17.4.0 in /Users/sphinx/anaconda3/lib/python3.7/site-packages (from jsonschema!=2.5.0,>=2.4->nbformat>=4.2.0->ipywidgets>=7.0.0->cufflinks) (19.1.0)\n",
      "Requirement already satisfied: pyrsistent>=0.14.0 in /Users/sphinx/anaconda3/lib/python3.7/site-packages (from jsonschema!=2.5.0,>=2.4->nbformat>=4.2.0->ipywidgets>=7.0.0->cufflinks) (0.14.11)\n",
      "Requirement already satisfied: pytz>=2011k in /Users/sphinx/anaconda3/lib/python3.7/site-packages (from pandas>=0.19.2->cufflinks) (2019.1)\n",
      "Requirement already satisfied: python-dateutil>=2.5.0 in /Users/sphinx/anaconda3/lib/python3.7/site-packages (from pandas>=0.19.2->cufflinks) (2.8.0)\n",
      "Requirement already satisfied: retrying>=1.3.3 in /Users/sphinx/anaconda3/lib/python3.7/site-packages (from plotly>=4.1.1->cufflinks) (1.3.3)\n",
      "Requirement already satisfied: wcwidth in /Users/sphinx/anaconda3/lib/python3.7/site-packages (from prompt-toolkit<2.1.0,>=2.0.0->ipython>=5.3.0->cufflinks) (0.1.7)\n",
      "Requirement already satisfied: notebook>=4.4.1 in /Users/sphinx/anaconda3/lib/python3.7/site-packages (from widgetsnbextension~=3.5.0->ipywidgets>=7.0.0->cufflinks) (6.0.0)\n",
      "Requirement already satisfied: jinja2 in /Users/sphinx/anaconda3/lib/python3.7/site-packages (from notebook>=4.4.1->widgetsnbextension~=3.5.0->ipywidgets>=7.0.0->cufflinks) (2.10.1)\n",
      "Requirement already satisfied: prometheus-client in /Users/sphinx/anaconda3/lib/python3.7/site-packages (from notebook>=4.4.1->widgetsnbextension~=3.5.0->ipywidgets>=7.0.0->cufflinks) (0.7.1)\n",
      "Requirement already satisfied: pyzmq>=17 in /Users/sphinx/anaconda3/lib/python3.7/site-packages (from notebook>=4.4.1->widgetsnbextension~=3.5.0->ipywidgets>=7.0.0->cufflinks) (18.0.0)\n",
      "Requirement already satisfied: nbconvert in /Users/sphinx/anaconda3/lib/python3.7/site-packages (from notebook>=4.4.1->widgetsnbextension~=3.5.0->ipywidgets>=7.0.0->cufflinks) (5.5.0)\n",
      "Requirement already satisfied: terminado>=0.8.1 in /Users/sphinx/anaconda3/lib/python3.7/site-packages (from notebook>=4.4.1->widgetsnbextension~=3.5.0->ipywidgets>=7.0.0->cufflinks) (0.8.2)\n",
      "Requirement already satisfied: Send2Trash in /Users/sphinx/anaconda3/lib/python3.7/site-packages (from notebook>=4.4.1->widgetsnbextension~=3.5.0->ipywidgets>=7.0.0->cufflinks) (1.5.0)\n",
      "Requirement already satisfied: MarkupSafe>=0.23 in /Users/sphinx/anaconda3/lib/python3.7/site-packages (from jinja2->notebook>=4.4.1->widgetsnbextension~=3.5.0->ipywidgets>=7.0.0->cufflinks) (1.1.1)\n",
      "Requirement already satisfied: pandocfilters>=1.4.1 in /Users/sphinx/anaconda3/lib/python3.7/site-packages (from nbconvert->notebook>=4.4.1->widgetsnbextension~=3.5.0->ipywidgets>=7.0.0->cufflinks) (1.4.2)\n",
      "Requirement already satisfied: testpath in /Users/sphinx/anaconda3/lib/python3.7/site-packages (from nbconvert->notebook>=4.4.1->widgetsnbextension~=3.5.0->ipywidgets>=7.0.0->cufflinks) (0.4.2)\n",
      "Requirement already satisfied: bleach in /Users/sphinx/anaconda3/lib/python3.7/site-packages (from nbconvert->notebook>=4.4.1->widgetsnbextension~=3.5.0->ipywidgets>=7.0.0->cufflinks) (3.1.0)\n",
      "Requirement already satisfied: mistune>=0.8.1 in /Users/sphinx/anaconda3/lib/python3.7/site-packages (from nbconvert->notebook>=4.4.1->widgetsnbextension~=3.5.0->ipywidgets>=7.0.0->cufflinks) (0.8.4)\n",
      "Requirement already satisfied: entrypoints>=0.2.2 in /Users/sphinx/anaconda3/lib/python3.7/site-packages (from nbconvert->notebook>=4.4.1->widgetsnbextension~=3.5.0->ipywidgets>=7.0.0->cufflinks) (0.3)\n",
      "Requirement already satisfied: defusedxml in /Users/sphinx/anaconda3/lib/python3.7/site-packages (from nbconvert->notebook>=4.4.1->widgetsnbextension~=3.5.0->ipywidgets>=7.0.0->cufflinks) (0.6.0)\n",
      "Requirement already satisfied: webencodings in /Users/sphinx/anaconda3/lib/python3.7/site-packages (from bleach->nbconvert->notebook>=4.4.1->widgetsnbextension~=3.5.0->ipywidgets>=7.0.0->cufflinks) (0.5.1)\n",
      "Requirement already satisfied: ptyprocess>=0.5 in /Users/sphinx/anaconda3/lib/python3.7/site-packages (from pexpect->ipython>=5.3.0->cufflinks) (0.6.0)\n"
     ]
    }
   ],
   "source": [
    "!pip install cufflinks #This library binds the power of plotly with the flexibility of pandas for easy plotting. https://github.com/santosjorge/cufflinks"
   ]
  },
  {
   "cell_type": "code",
   "execution_count": 434,
   "metadata": {},
   "outputs": [
    {
     "name": "stderr",
     "output_type": "stream",
     "text": [
      "[nltk_data] Downloading package punkt to /Users/sphinx/nltk_data...\n",
      "[nltk_data]   Package punkt is already up-to-date!\n"
     ]
    },
    {
     "data": {
      "text/plain": [
       "True"
      ]
     },
     "execution_count": 434,
     "metadata": {},
     "output_type": "execute_result"
    }
   ],
   "source": [
    "import pandas as pd\n",
    "import numpy as np\n",
    "from collections import Counter\n",
    "import nltk\n",
    "import pandas as pd\n",
    "import re as regex\n",
    "import numpy as np\n",
    "import plotly\n",
    "from plotly import graph_objs\n",
    "from sklearn.metrics import f1_score, precision_score, recall_score, accuracy_score\n",
    "from sklearn.model_selection import train_test_split, cross_val_score, GridSearchCV, RandomizedSearchCV\n",
    "from time import time\n",
    "import matplotlib.pyplot as plt\n",
    "%matplotlib inline\n",
    "#plotly.offline.init_notebook_mode()\n",
    "\n",
    "import seaborn as sns\n",
    "import plotly\n",
    "import cufflinks as cf\n",
    "import re\n",
    "nltk.download('punkt')"
   ]
  },
  {
   "cell_type": "markdown",
   "metadata": {},
   "source": [
    "## Import the Data"
   ]
  },
  {
   "cell_type": "code",
   "execution_count": 435,
   "metadata": {},
   "outputs": [],
   "source": [
    "train_data = pd.read_csv('data/train.csv')\n",
    "test_data = pd.read_csv('data/test.csv')\n",
    "\n",
    "train_data.rename(columns={'Category': 'emotion'}, inplace=True)\n",
    "test_data.rename(columns={'Category': 'Tweet'}, inplace=True)\n",
    "\n",
    "train_data = train_data[train_data['emotion'] != 'Tweet']\n"
   ]
  },
  {
   "cell_type": "code",
   "execution_count": 436,
   "metadata": {},
   "outputs": [
    {
     "data": {
      "text/html": [
       "<div>\n",
       "<style scoped>\n",
       "    .dataframe tbody tr th:only-of-type {\n",
       "        vertical-align: middle;\n",
       "    }\n",
       "\n",
       "    .dataframe tbody tr th {\n",
       "        vertical-align: top;\n",
       "    }\n",
       "\n",
       "    .dataframe thead th {\n",
       "        text-align: right;\n",
       "    }\n",
       "</style>\n",
       "<table border=\"1\" class=\"dataframe\">\n",
       "  <thead>\n",
       "    <tr style=\"text-align: right;\">\n",
       "      <th></th>\n",
       "      <th>Id</th>\n",
       "      <th>emotion</th>\n",
       "      <th>Tweet</th>\n",
       "    </tr>\n",
       "  </thead>\n",
       "  <tbody>\n",
       "    <tr>\n",
       "      <th>0</th>\n",
       "      <td>635769805279248384</td>\n",
       "      <td>negative</td>\n",
       "      <td>Not Available</td>\n",
       "    </tr>\n",
       "    <tr>\n",
       "      <th>1</th>\n",
       "      <td>635930169241374720</td>\n",
       "      <td>neutral</td>\n",
       "      <td>IOS 9 App Transport Security. Mm need to check...</td>\n",
       "    </tr>\n",
       "    <tr>\n",
       "      <th>2</th>\n",
       "      <td>635950258682523648</td>\n",
       "      <td>neutral</td>\n",
       "      <td>Mar if you have an iOS device, you should down...</td>\n",
       "    </tr>\n",
       "    <tr>\n",
       "      <th>3</th>\n",
       "      <td>636030803433009153</td>\n",
       "      <td>negative</td>\n",
       "      <td>@jimmie_vanagon my phone does not run on lates...</td>\n",
       "    </tr>\n",
       "    <tr>\n",
       "      <th>4</th>\n",
       "      <td>636100906224848896</td>\n",
       "      <td>positive</td>\n",
       "      <td>Not sure how to start your publication on iOS?...</td>\n",
       "    </tr>\n",
       "  </tbody>\n",
       "</table>\n",
       "</div>"
      ],
      "text/plain": [
       "                   Id   emotion  \\\n",
       "0  635769805279248384  negative   \n",
       "1  635930169241374720   neutral   \n",
       "2  635950258682523648   neutral   \n",
       "3  636030803433009153  negative   \n",
       "4  636100906224848896  positive   \n",
       "\n",
       "                                               Tweet  \n",
       "0                                      Not Available  \n",
       "1  IOS 9 App Transport Security. Mm need to check...  \n",
       "2  Mar if you have an iOS device, you should down...  \n",
       "3  @jimmie_vanagon my phone does not run on lates...  \n",
       "4  Not sure how to start your publication on iOS?...  "
      ]
     },
     "execution_count": 436,
     "metadata": {},
     "output_type": "execute_result"
    }
   ],
   "source": [
    "train_data.head()"
   ]
  },
  {
   "cell_type": "code",
   "execution_count": 437,
   "metadata": {},
   "outputs": [
    {
     "name": "stdout",
     "output_type": "stream",
     "text": [
      "<class 'pandas.core.frame.DataFrame'>\n",
      "Int64Index: 5969 entries, 0 to 5969\n",
      "Data columns (total 3 columns):\n",
      "Id         5969 non-null object\n",
      "emotion    5969 non-null object\n",
      "Tweet      5969 non-null object\n",
      "dtypes: object(3)\n",
      "memory usage: 186.5+ KB\n"
     ]
    }
   ],
   "source": [
    "train_data.info()"
   ]
  },
  {
   "cell_type": "markdown",
   "metadata": {},
   "source": [
    "You might be tricked here, sometimes you need to remove **Not Available**"
   ]
  },
  {
   "cell_type": "code",
   "execution_count": 438,
   "metadata": {},
   "outputs": [
    {
     "data": {
      "text/html": [
       "<div>\n",
       "<style scoped>\n",
       "    .dataframe tbody tr th:only-of-type {\n",
       "        vertical-align: middle;\n",
       "    }\n",
       "\n",
       "    .dataframe tbody tr th {\n",
       "        vertical-align: top;\n",
       "    }\n",
       "\n",
       "    .dataframe thead th {\n",
       "        text-align: right;\n",
       "    }\n",
       "</style>\n",
       "<table border=\"1\" class=\"dataframe\">\n",
       "  <thead>\n",
       "    <tr style=\"text-align: right;\">\n",
       "      <th></th>\n",
       "      <th>Id</th>\n",
       "      <th>Tweet</th>\n",
       "    </tr>\n",
       "  </thead>\n",
       "  <tbody>\n",
       "    <tr>\n",
       "      <th>0</th>\n",
       "      <td>6.289494e+17</td>\n",
       "      <td>dear @Microsoft the newOoffice for Mac is grea...</td>\n",
       "    </tr>\n",
       "    <tr>\n",
       "      <th>1</th>\n",
       "      <td>6.289766e+17</td>\n",
       "      <td>@Microsoft how about you make a system that do...</td>\n",
       "    </tr>\n",
       "    <tr>\n",
       "      <th>2</th>\n",
       "      <td>6.290232e+17</td>\n",
       "      <td>Not Available</td>\n",
       "    </tr>\n",
       "    <tr>\n",
       "      <th>3</th>\n",
       "      <td>6.291792e+17</td>\n",
       "      <td>Not Available</td>\n",
       "    </tr>\n",
       "    <tr>\n",
       "      <th>4</th>\n",
       "      <td>6.291863e+17</td>\n",
       "      <td>If I make a game as a #windows10 Universal App...</td>\n",
       "    </tr>\n",
       "  </tbody>\n",
       "</table>\n",
       "</div>"
      ],
      "text/plain": [
       "             Id                                              Tweet\n",
       "0  6.289494e+17  dear @Microsoft the newOoffice for Mac is grea...\n",
       "1  6.289766e+17  @Microsoft how about you make a system that do...\n",
       "2  6.290232e+17                                      Not Available\n",
       "3  6.291792e+17                                      Not Available\n",
       "4  6.291863e+17  If I make a game as a #windows10 Universal App..."
      ]
     },
     "execution_count": 438,
     "metadata": {},
     "output_type": "execute_result"
    }
   ],
   "source": [
    "test_data.head()"
   ]
  },
  {
   "cell_type": "markdown",
   "metadata": {},
   "source": [
    "# Data visualization"
   ]
  },
  {
   "cell_type": "markdown",
   "metadata": {},
   "source": [
    "## Distribution of target class"
   ]
  },
  {
   "cell_type": "code",
   "execution_count": 439,
   "metadata": {},
   "outputs": [
    {
     "data": {
      "text/plain": [
       "<matplotlib.axes._subplots.AxesSubplot at 0x7fd647c4a860>"
      ]
     },
     "execution_count": 439,
     "metadata": {},
     "output_type": "execute_result"
    },
    {
     "data": {
      "image/png": "[encoded data removed]",
      "text/plain": [
       "<Figure size 432x288 with 1 Axes>"
      ]
     },
     "metadata": {
      "needs_background": "light"
     },
     "output_type": "display_data"
    }
   ],
   "source": [
    "sns.countplot(x='emotion',data=train_data)"
   ]
  },
  {
   "cell_type": "code",
   "execution_count": null,
   "metadata": {},
   "outputs": [],
   "source": []
  },
  {
   "cell_type": "markdown",
   "metadata": {},
   "source": [
    "## Data Cleaning\n",
    "One of mant techniques:"
   ]
  },
  {
   "cell_type": "code",
   "execution_count": 440,
   "metadata": {},
   "outputs": [],
   "source": [
    "# remove the tweets which contains Not available\n",
    "\n",
    "train_data = train_data[train_data['Tweet'] != \"Not Available\"]"
   ]
  },
  {
   "cell_type": "markdown",
   "metadata": {},
   "source": [
    "### Some basic Function to clean our tweets\n",
    "* Remove URLs\n",
    "* Remove usernames (mentions)\n",
    "* Remove tweets with Not Available text\n",
    "* Remove special characters\n",
    "* Remove numbers\n",
    "* Remove anything you see not related!\n"
   ]
  },
  {
   "cell_type": "code",
   "execution_count": 441,
   "metadata": {},
   "outputs": [],
   "source": [
    "def clean_tweets(tweet):\n",
    "    \n",
    "    # remove URL\n",
    "    tweet = re.sub(r\"http\\S+\", \"\", tweet)\n",
    "    \n",
    "    # Remove usernames\n",
    "    tweet = re.sub(r\"@[^\\s]+[\\s]?\",'',tweet)\n",
    "    \n",
    "    # remove special characters \n",
    "    tweet = re.sub('[^ a-zA-Z0-9]', '', tweet)\n",
    "    \n",
    "    # remove Numbers\n",
    "    tweet = re.sub('[0-9]', '', tweet)\n",
    "    \n",
    "    return tweet"
   ]
  },
  {
   "cell_type": "markdown",
   "metadata": {},
   "source": [
    "* Apply function to Tweet column"
   ]
  },
  {
   "cell_type": "code",
   "execution_count": 442,
   "metadata": {},
   "outputs": [],
   "source": [
    "train_data['Tweet'] = train_data['Tweet'].apply(clean_tweets)"
   ]
  },
  {
   "cell_type": "markdown",
   "metadata": {},
   "source": [
    "* Remember the power of RegEx when you need it... "
   ]
  },
  {
   "cell_type": "code",
   "execution_count": 443,
   "metadata": {},
   "outputs": [
    {
     "data": {
      "text/plain": [
       "'text4 '"
      ]
     },
     "execution_count": 443,
     "metadata": {},
     "output_type": "execute_result"
    }
   ],
   "source": [
    "\n",
    "text = 'text4 http://url.com/bla2/blah2'\n",
    "re.sub(r\"http\\S+\", \"\", text)\n",
    "#text = '@ajay dkfhskf dfs'\n",
    "#re.sub(r\"@[^\\s]+[\\s]?\",'',text)\n",
    "#re.sub('[^ a-zA-Z0-9]', '', text)\n"
   ]
  },
  {
   "cell_type": "code",
   "execution_count": 444,
   "metadata": {},
   "outputs": [
    {
     "data": {
      "text/plain": [
       "1    IOS  App Transport Security Mm need to check i...\n",
       "2    Mar if you have an iOS device you should downl...\n",
       "3    my phone does not run on latest IOS which may ...\n",
       "4    Not sure how to start your publication on iOS ...\n",
       "5    Two Dollar Tuesday is here with Forklift  Quic...\n",
       "Name: Tweet, dtype: object"
      ]
     },
     "execution_count": 444,
     "metadata": {},
     "output_type": "execute_result"
    }
   ],
   "source": [
    "train_data['Tweet'].head()"
   ]
  },
  {
   "cell_type": "code",
   "execution_count": null,
   "metadata": {},
   "outputs": [],
   "source": []
  },
  {
   "cell_type": "markdown",
   "metadata": {},
   "source": [
    "## Tokenization & stemming\n",
    "* Note the difference between Tweet and word tokenize\n",
    "* TweetTokenizer a subset of word tokenize meant to keeps hashtags and emotions expressions intact while word_tokenize doesn't."
   ]
  },
  {
   "cell_type": "markdown",
   "metadata": {},
   "source": [
    "### Tokenization"
   ]
  },
  {
   "cell_type": "code",
   "execution_count": 445,
   "metadata": {},
   "outputs": [
    {
     "name": "stdout",
     "output_type": "stream",
     "text": [
      "['This', 'is', 'a', 'cooool', '#dummysmiley', ':', ':-)', ':-P', '<3', 'and', 'some', 'arrows', '<', '>', '->', '<--', '@remy', ':', 'This', 'is', 'waaaaayyyy', 'too', 'much', 'for', 'you', '!', '!', '!']\n",
      "['This', 'is', 'a', 'cooool', '#', 'dummysmiley', ':', ':', '-', ')', ':', '-P', '<', '3', 'and', 'some', 'arrows', '<', '>', '-', '>', '<', '--', '@', 'remy', ':', 'This', 'is', 'waaaaayyyy', 'too', 'much', 'for', 'you', '!', '!', '!', '!', '!', '!']\n"
     ]
    }
   ],
   "source": [
    "from nltk.tokenize import TweetTokenizer\n",
    "from nltk.tokenize import  word_tokenize\n",
    "tt = TweetTokenizer()\n",
    "tweet = \"This is a cooool #dummysmiley: :-) :-P <3 and some arrows < > -> <-- @remy: This is waaaaayyyy too much for you!!!!!!\"\n",
    "print(tt.tokenize(tweet))\n",
    "print(word_tokenize(tweet))"
   ]
  },
  {
   "cell_type": "code",
   "execution_count": 446,
   "metadata": {},
   "outputs": [
    {
     "data": {
      "text/plain": [
       "1       [IOS, App, Transport, Security, Mm, need, to, ...\n",
       "2       [Mar, if, you, have, an, iOS, device, you, sho...\n",
       "3       [my, phone, does, not, run, on, latest, IOS, w...\n",
       "4       [Not, sure, how, to, start, your, publication,...\n",
       "5       [Two, Dollar, Tuesday, is, here, with, Forklif...\n",
       "6       [If, youre, not, already, signed, up, to, test...\n",
       "7       [YouTube, Gaming, Officially, Launches, On, We...\n",
       "8       [YouTube, Gaming, Launches, Tomorrow, with, iO...\n",
       "9       [Yashan, from, BBC, the, VPN, access, on, IOS,...\n",
       "10      [Parkrun, app, for, iOS, downloaded, Where, ha...\n",
       "11      [Today, launches, with, apps, for, iOS, and, A...\n",
       "12      [Got, a, project, you, want, to, work, on, Nee...\n",
       "13      [Met, with, iOS, Developer, today, We, may, ha...\n",
       "14      [CrossSkyHigh, is, going, IOS, saturday, For, ...\n",
       "15      [Whats, the, best, way, to, get, audio, record...\n",
       "16      [Five, Great, Free, Apps, and, Games, for, iOS...\n",
       "17      [looks, interesting, but, Ive, ALWAYS, ended, ...\n",
       "18      [See, news, through, the, eyes, of, real, peop...\n",
       "19      [Siri, knows, all, about, Apples, iOS, event, ...\n",
       "20      [Whos, ready, for, Build, Tomorrow, Might, be,...\n",
       "21      [As, Ive, been, on, FB, for, many, years, I, h...\n",
       "22      [try, beat, mp, it, may, be, on, android, i, h...\n",
       "23      [Even, though, there, are, other, differences,...\n",
       "24      [Huawei, Watch, PreOrder, Suggests, Android, W...\n",
       "25      [SpeedeNews, Rumor, Android, Wear, will, soon,...\n",
       "26      [Over, here, in, NW, near, th, amp, Rhode, Isl...\n",
       "27      [I, wish, that, CustomFolderIcons, worked, on,...\n",
       "28      [So, today, i, checked, my, old, iPod, th, gen...\n",
       "29      [please, stop, walking, and, work, You, have, ...\n",
       "30      [Hi, i, have, heard, that, they, said, MCPE, u...\n",
       "                              ...                        \n",
       "5935    [Watching, a, replay, of, the, PSG, Lille, mat...\n",
       "5936    [Any, truth, to, Galatasaray, having, made, an...\n",
       "5937    [that, rd, shot, looks, like, its, from, a, Mi...\n",
       "5938    [anyway, telling, Zlatan, hell, be, the, cente...\n",
       "5939    [more, days, till, we, start, the, campaign, t...\n",
       "5940    [The, VP, of, Frances, refereeing, union, Laur...\n",
       "5942    [OH, NO, we, supposedly, pull, out, of, Pedro,...\n",
       "5943    [Zlatan, will, your, perfumes, make, me, perfo...\n",
       "5944    [Sun, are, so, full, of, shit, they, say, PSG,...\n",
       "5945    [Reserving, the, right, to, put, Milan, rd, if...\n",
       "5946    [Zlatan, is, simply, saving, himself, for, the...\n",
       "5947    [but, if, Zlatan, is, available, for, a, reaso...\n",
       "5948    [we, may, have, the, slimmest, of, chances, cu...\n",
       "5949    [The, top, strikers, in, the, world, are, not,...\n",
       "5950    [I, would, love, to, have, cavani, man, Hes, o...\n",
       "5951    [I, didnt, think, they, will, sell, either, Ma...\n",
       "5952    [Mourinho, Zlatan, Serie, A, who, are, the, wi...\n",
       "5954    [Zlatan, wears, sunglasses, so, his, eyes, do,...\n",
       "5955    [I, dont, want, it, to, be, but, it, may, be, ...\n",
       "5956    [We, held, talks, with, PSG, on, Thursday, for...\n",
       "5958    [Zlatan, is, looking, mighty, attractive, at, ...\n",
       "5959    [Wonder, if, Zlatan, will, be, a, United, play...\n",
       "5960    [Today, United, should, have, done, better, th...\n",
       "5961    [If, there, is, a, silver, lining, this, shows...\n",
       "5962    [If, Wenger, is, in, Paris, Could, it, be, for...\n",
       "5963    [Ok, ed, lets, do, this, Zlatan, greizmann, an...\n",
       "5964    [Goal, level, Zlatan, k, by, Friday, Posting, ...\n",
       "5965    [Wouldnt, surprise, me, if, we, enquiredHe, ca...\n",
       "5966    [Rib, injury, for, Zlatan, against, Russia, is...\n",
       "5967    [Noooooo, I, was, hoping, to, see, Zlatan, bei...\n",
       "Name: Tweet, Length: 5421, dtype: object"
      ]
     },
     "execution_count": 446,
     "metadata": {},
     "output_type": "execute_result"
    }
   ],
   "source": [
    "# Function which directly tokenize the tweet data\n",
    "from nltk.tokenize import TweetTokenizer\n",
    "\n",
    "tt = TweetTokenizer()\n",
    "train_data['Tweet'].apply(tt.tokenize)"
   ]
  },
  {
   "cell_type": "markdown",
   "metadata": {},
   "source": [
    "### Stemming\n",
    "* Note that Stemmers remove morphological affixes from words, leaving only the word stem. "
   ]
  },
  {
   "cell_type": "code",
   "execution_count": 447,
   "metadata": {},
   "outputs": [],
   "source": [
    "from nltk.stem import PorterStemmer\n",
    "from nltk.tokenize import sent_tokenize, word_tokenize\n",
    "\n",
    "ps = PorterStemmer()"
   ]
  },
  {
   "cell_type": "markdown",
   "metadata": {},
   "source": [
    "The idea of stemming is a sort of normalizing method. Many variations of words carry the same meaning, other than when tense is involved.\n",
    "The reason why we stem is to shorten the lookup, and normalize sentences.\n",
    "\n",
    "Consider:\n",
    "* I was taking a ride in the car.\n",
    "* I was riding in the car.\n",
    "\n",
    "This sentence means the same thing. in the car is the same. I was is the same. the ing denotes a clear past-tense in both cases, so is it truly necessary to differentiate between ride and riding, in the case of just trying to figure out the meaning of what this past-tense activity was?\n",
    "No, not really.\n",
    "\n",
    "This is just one minor example, but imagine every word in the English language, every possible tense and affix you can put on a word. Having individual dictionary entries per version would be highly redundant and inefficient, especially since, once we convert to numbers, the \"value\" is going to be identical.\n",
    "One of the most popular stemming algorithms is the Porter stemmer, which has been around since 1979.\n",
    "\n",
    "Let's grab and define our stemmer and hoose some words with a similar stem, like"
   ]
  },
  {
   "cell_type": "code",
   "execution_count": 448,
   "metadata": {},
   "outputs": [],
   "source": [
    "example_words = [\"python\",\"pythoner\",\"pythoning\",\"pythoned\",\"pythonly\"]\n",
    "example_words = [\"play\",\"played\",\"playing\",\"player\",\"pythonly\"]"
   ]
  },
  {
   "cell_type": "code",
   "execution_count": 449,
   "metadata": {},
   "outputs": [
    {
     "name": "stdout",
     "output_type": "stream",
     "text": [
      "play\n",
      "play\n",
      "play\n",
      "player\n",
      "pythonli\n"
     ]
    }
   ],
   "source": [
    "for w in example_words:\n",
    "    print(ps.stem(w))"
   ]
  },
  {
   "cell_type": "markdown",
   "metadata": {},
   "source": [
    "#### Seperating tokenization and stemming is a good practice!"
   ]
  },
  {
   "cell_type": "code",
   "execution_count": 450,
   "metadata": {},
   "outputs": [],
   "source": [
    "def tokenize(text):\n",
    "    return word_tokenize(text)\n",
    "\n",
    "def stemming(words):\n",
    "    stem_words = []\n",
    "    for w in words:\n",
    "        w = ps.stem(w)\n",
    "        stem_words.append(w)\n",
    "    \n",
    "    return stem_words"
   ]
  },
  {
   "cell_type": "markdown",
   "metadata": {},
   "source": [
    "#### apply tokenize function"
   ]
  },
  {
   "cell_type": "code",
   "execution_count": 451,
   "metadata": {},
   "outputs": [],
   "source": [
    "train_data['text'] = train_data['Tweet'].apply(tokenize)"
   ]
  },
  {
   "cell_type": "markdown",
   "metadata": {},
   "source": [
    "#### apply steming function"
   ]
  },
  {
   "cell_type": "code",
   "execution_count": 452,
   "metadata": {},
   "outputs": [],
   "source": [
    "train_data['tokenized'] = train_data['text'].apply(stemming)"
   ]
  },
  {
   "cell_type": "code",
   "execution_count": 453,
   "metadata": {},
   "outputs": [
    {
     "data": {
      "text/html": [
       "<div>\n",
       "<style scoped>\n",
       "    .dataframe tbody tr th:only-of-type {\n",
       "        vertical-align: middle;\n",
       "    }\n",
       "\n",
       "    .dataframe tbody tr th {\n",
       "        vertical-align: top;\n",
       "    }\n",
       "\n",
       "    .dataframe thead th {\n",
       "        text-align: right;\n",
       "    }\n",
       "</style>\n",
       "<table border=\"1\" class=\"dataframe\">\n",
       "  <thead>\n",
       "    <tr style=\"text-align: right;\">\n",
       "      <th></th>\n",
       "      <th>Id</th>\n",
       "      <th>emotion</th>\n",
       "      <th>Tweet</th>\n",
       "      <th>text</th>\n",
       "      <th>tokenized</th>\n",
       "    </tr>\n",
       "  </thead>\n",
       "  <tbody>\n",
       "    <tr>\n",
       "      <th>1</th>\n",
       "      <td>635930169241374720</td>\n",
       "      <td>neutral</td>\n",
       "      <td>IOS  App Transport Security Mm need to check i...</td>\n",
       "      <td>[IOS, App, Transport, Security, Mm, need, to, ...</td>\n",
       "      <td>[io, app, transport, secur, Mm, need, to, chec...</td>\n",
       "    </tr>\n",
       "    <tr>\n",
       "      <th>2</th>\n",
       "      <td>635950258682523648</td>\n",
       "      <td>neutral</td>\n",
       "      <td>Mar if you have an iOS device you should downl...</td>\n",
       "      <td>[Mar, if, you, have, an, iOS, device, you, sho...</td>\n",
       "      <td>[mar, if, you, have, an, io, devic, you, shoul...</td>\n",
       "    </tr>\n",
       "    <tr>\n",
       "      <th>3</th>\n",
       "      <td>636030803433009153</td>\n",
       "      <td>negative</td>\n",
       "      <td>my phone does not run on latest IOS which may ...</td>\n",
       "      <td>[my, phone, does, not, run, on, latest, IOS, w...</td>\n",
       "      <td>[my, phone, doe, not, run, on, latest, io, whi...</td>\n",
       "    </tr>\n",
       "    <tr>\n",
       "      <th>4</th>\n",
       "      <td>636100906224848896</td>\n",
       "      <td>positive</td>\n",
       "      <td>Not sure how to start your publication on iOS ...</td>\n",
       "      <td>[Not, sure, how, to, start, your, publication,...</td>\n",
       "      <td>[not, sure, how, to, start, your, public, on, ...</td>\n",
       "    </tr>\n",
       "    <tr>\n",
       "      <th>5</th>\n",
       "      <td>636176272947744772</td>\n",
       "      <td>neutral</td>\n",
       "      <td>Two Dollar Tuesday is here with Forklift  Quic...</td>\n",
       "      <td>[Two, Dollar, Tuesday, is, here, with, Forklif...</td>\n",
       "      <td>[two, dollar, tuesday, is, here, with, forklif...</td>\n",
       "    </tr>\n",
       "  </tbody>\n",
       "</table>\n",
       "</div>"
      ],
      "text/plain": [
       "                   Id   emotion  \\\n",
       "1  635930169241374720   neutral   \n",
       "2  635950258682523648   neutral   \n",
       "3  636030803433009153  negative   \n",
       "4  636100906224848896  positive   \n",
       "5  636176272947744772   neutral   \n",
       "\n",
       "                                               Tweet  \\\n",
       "1  IOS  App Transport Security Mm need to check i...   \n",
       "2  Mar if you have an iOS device you should downl...   \n",
       "3  my phone does not run on latest IOS which may ...   \n",
       "4  Not sure how to start your publication on iOS ...   \n",
       "5  Two Dollar Tuesday is here with Forklift  Quic...   \n",
       "\n",
       "                                                text  \\\n",
       "1  [IOS, App, Transport, Security, Mm, need, to, ...   \n",
       "2  [Mar, if, you, have, an, iOS, device, you, sho...   \n",
       "3  [my, phone, does, not, run, on, latest, IOS, w...   \n",
       "4  [Not, sure, how, to, start, your, publication,...   \n",
       "5  [Two, Dollar, Tuesday, is, here, with, Forklif...   \n",
       "\n",
       "                                           tokenized  \n",
       "1  [io, app, transport, secur, Mm, need, to, chec...  \n",
       "2  [mar, if, you, have, an, io, devic, you, shoul...  \n",
       "3  [my, phone, doe, not, run, on, latest, io, whi...  \n",
       "4  [not, sure, how, to, start, your, public, on, ...  \n",
       "5  [two, dollar, tuesday, is, here, with, forklif...  "
      ]
     },
     "execution_count": 453,
     "metadata": {},
     "output_type": "execute_result"
    }
   ],
   "source": [
    "train_data.head()"
   ]
  },
  {
   "cell_type": "code",
   "execution_count": 454,
   "metadata": {},
   "outputs": [
    {
     "data": {
      "text/plain": [
       "5421"
      ]
     },
     "execution_count": 454,
     "metadata": {},
     "output_type": "execute_result"
    }
   ],
   "source": [
    "len(train_data)"
   ]
  },
  {
   "cell_type": "markdown",
   "metadata": {},
   "source": [
    "## Wordlist"
   ]
  },
  {
   "cell_type": "code",
   "execution_count": 455,
   "metadata": {},
   "outputs": [],
   "source": [
    "#NLTK Language Model Counter \n",
    "words = Counter()\n",
    "for idx in train_data.index:\n",
    "    words.update(train_data.loc[idx, \"text\"])"
   ]
  },
  {
   "cell_type": "code",
   "execution_count": 456,
   "metadata": {},
   "outputs": [
    {
     "data": {
      "text/plain": [
       "[('the', 3960),\n",
       " ('to', 2466),\n",
       " ('a', 1591),\n",
       " ('on', 1518),\n",
       " ('I', 1496),\n",
       " ('and', 1393),\n",
       " ('in', 1384),\n",
       " ('of', 1249),\n",
       " ('is', 1133),\n",
       " ('for', 1095)]"
      ]
     },
     "execution_count": 456,
     "metadata": {},
     "output_type": "execute_result"
    }
   ],
   "source": [
    "words.most_common(10)"
   ]
  },
  {
   "cell_type": "markdown",
   "metadata": {},
   "source": [
    "##### Stop words"
   ]
  },
  {
   "cell_type": "code",
   "execution_count": 457,
   "metadata": {},
   "outputs": [
    {
     "name": "stderr",
     "output_type": "stream",
     "text": [
      "[nltk_data] Downloading package stopwords to\n",
      "[nltk_data]     /Users/sphinx/nltk_data...\n",
      "[nltk_data]   Package stopwords is already up-to-date!\n"
     ]
    }
   ],
   "source": [
    "#corpus a text body \n",
    "nltk.download('stopwords')\n",
    "stopwords=nltk.corpus.stopwords.words(\"english\")"
   ]
  },
  {
   "cell_type": "markdown",
   "metadata": {},
   "source": [
    "* Lets check how many lang **nltk.corpus** can support:"
   ]
  },
  {
   "cell_type": "code",
   "execution_count": 458,
   "metadata": {},
   "outputs": [],
   "source": [
    "#nltk.corpus.stopwords.fileids()"
   ]
  },
  {
   "cell_type": "code",
   "execution_count": 459,
   "metadata": {},
   "outputs": [],
   "source": [
    "#stopwords"
   ]
  },
  {
   "cell_type": "markdown",
   "metadata": {},
   "source": [
    "* Lets have our whiteList"
   ]
  },
  {
   "cell_type": "code",
   "execution_count": 460,
   "metadata": {},
   "outputs": [
    {
     "data": {
      "text/plain": [
       "[\"n't\", 'not']"
      ]
     },
     "execution_count": 460,
     "metadata": {},
     "output_type": "execute_result"
    }
   ],
   "source": [
    "whitelist = [\"n't\", \"not\"]\n",
    "#whitelist = []\n",
    "whitelist "
   ]
  },
  {
   "cell_type": "code",
   "execution_count": 461,
   "metadata": {},
   "outputs": [
    {
     "data": {
      "text/plain": [
       "[('I', 1496),\n",
       " ('may', 914),\n",
       " ('th', 671),\n",
       " ('tomorrow', 651),\n",
       " ('not', 372),\n",
       " ('st', 368),\n",
       " ('Im', 339),\n",
       " ('see', 316),\n",
       " ('The', 313),\n",
       " ('time', 310)]"
      ]
     },
     "execution_count": 461,
     "metadata": {},
     "output_type": "execute_result"
    }
   ],
   "source": [
    "for idx, stop_word in enumerate(stopwords):\n",
    "    if stop_word not in whitelist:\n",
    "        del words[stop_word]\n",
    "       # print(words[stop_word])\n",
    "words.most_common(10)"
   ]
  },
  {
   "cell_type": "code",
   "execution_count": 462,
   "metadata": {},
   "outputs": [],
   "source": [
    "def word_list(processed_data):\n",
    "    #print(processed_data)\n",
    "    min_occurrences=3 \n",
    "    max_occurences=500 \n",
    "    stopwords=nltk.corpus.stopwords.words(\"english\")\n",
    "    whitelist = [\"n't\",\"not\"]\n",
    "    wordlist = []\n",
    "    \n",
    "    whitelist = whitelist if whitelist is None else whitelist\n",
    "   # print(whitelist)\n",
    "    words = Counter()\n",
    "    for idx in processed_data.index:\n",
    "        words.update(processed_data.loc[idx, \"text\"])\n",
    "\n",
    "    for idx, stop_word in enumerate(stopwords):\n",
    "        if stop_word not in whitelist:\n",
    "            del words[stop_word]\n",
    "    #print(words)\n",
    "\n",
    "    word_df = pd.DataFrame(data={\"word\": [k for k, v in words.most_common() if min_occurrences < v < max_occurences],\n",
    "                                 \"occurrences\": [v for k, v in words.most_common() if min_occurrences < v < max_occurences]},\n",
    "                           columns=[\"word\", \"occurrences\"])\n",
    "    #print(word_df)\n",
    "    word_df.to_csv(\"wordlist.csv\", index_label=\"idx\")\n",
    "    wordlist = [k for k, v in words.most_common() if min_occurrences < v < max_occurences]\n",
    "    #print(wordlist)"
   ]
  },
  {
   "cell_type": "code",
   "execution_count": 463,
   "metadata": {},
   "outputs": [],
   "source": [
    "word_list(train_data)"
   ]
  },
  {
   "cell_type": "code",
   "execution_count": 464,
   "metadata": {},
   "outputs": [
    {
     "data": {
      "text/html": [
       "<div>\n",
       "<style scoped>\n",
       "    .dataframe tbody tr th:only-of-type {\n",
       "        vertical-align: middle;\n",
       "    }\n",
       "\n",
       "    .dataframe tbody tr th {\n",
       "        vertical-align: top;\n",
       "    }\n",
       "\n",
       "    .dataframe thead th {\n",
       "        text-align: right;\n",
       "    }\n",
       "</style>\n",
       "<table border=\"1\" class=\"dataframe\">\n",
       "  <thead>\n",
       "    <tr style=\"text-align: right;\">\n",
       "      <th></th>\n",
       "      <th>idx</th>\n",
       "      <th>word</th>\n",
       "      <th>occurrences</th>\n",
       "    </tr>\n",
       "  </thead>\n",
       "  <tbody>\n",
       "    <tr>\n",
       "      <th>0</th>\n",
       "      <td>0</td>\n",
       "      <td>not</td>\n",
       "      <td>372</td>\n",
       "    </tr>\n",
       "    <tr>\n",
       "      <th>1</th>\n",
       "      <td>1</td>\n",
       "      <td>st</td>\n",
       "      <td>368</td>\n",
       "    </tr>\n",
       "    <tr>\n",
       "      <th>2</th>\n",
       "      <td>2</td>\n",
       "      <td>Im</td>\n",
       "      <td>339</td>\n",
       "    </tr>\n",
       "    <tr>\n",
       "      <th>3</th>\n",
       "      <td>3</td>\n",
       "      <td>see</td>\n",
       "      <td>316</td>\n",
       "    </tr>\n",
       "    <tr>\n",
       "      <th>4</th>\n",
       "      <td>4</td>\n",
       "      <td>The</td>\n",
       "      <td>313</td>\n",
       "    </tr>\n",
       "  </tbody>\n",
       "</table>\n",
       "</div>"
      ],
      "text/plain": [
       "   idx word  occurrences\n",
       "0    0  not          372\n",
       "1    1   st          368\n",
       "2    2   Im          339\n",
       "3    3  see          316\n",
       "4    4  The          313"
      ]
     },
     "execution_count": 464,
     "metadata": {},
     "output_type": "execute_result"
    }
   ],
   "source": [
    "words = pd.read_csv(\"wordlist.csv\")\n",
    "words.head()"
   ]
  },
  {
   "cell_type": "markdown",
   "metadata": {},
   "source": [
    "* How about you plot a WordMap"
   ]
  },
  {
   "cell_type": "code",
   "execution_count": 465,
   "metadata": {},
   "outputs": [],
   "source": [
    "import matplotlib.pyplot as plt \n",
    "import seaborn as sns \n",
    "\n",
    "\n"
   ]
  },
  {
   "cell_type": "code",
   "execution_count": null,
   "metadata": {},
   "outputs": [],
   "source": []
  },
  {
   "cell_type": "markdown",
   "metadata": {},
   "source": [
    "## Bag of Words Model"
   ]
  },
  {
   "cell_type": "markdown",
   "metadata": {},
   "source": [
    "* A bag-of-words model, or BoW for short, is a way of extracting features from the text for use in modeling, such as with machine learning algorithms.\n",
    "* The approach is very simple and flexible and can be used in a myriad of ways for extracting features from documents.\n",
    "* The wordlist (dictionary) is build by simple count of occurences of every unique word across all of the training dataset."
   ]
  },
  {
   "cell_type": "code",
   "execution_count": 467,
   "metadata": {},
   "outputs": [],
   "source": [
    "import os"
   ]
  },
  {
   "cell_type": "code",
   "execution_count": 468,
   "metadata": {},
   "outputs": [],
   "source": [
    "wordlist= []\n",
    "if os.path.isfile(\"wordlist.csv\"):\n",
    "    word_df = pd.read_csv(\"wordlist.csv\")\n",
    "    word_df = word_df[word_df[\"occurrences\"] > 3]\n",
    "    wordlist = list(word_df.loc[:, \"word\"])\n",
    "\n",
    "label_column = [\"label\"]\n",
    "columns = label_column + list(map(lambda w: w + \"_bow\",wordlist))\n",
    "labels = []\n",
    "rows = []\n",
    "for idx in train_data.index:\n",
    "    current_row = []\n",
    "    \n",
    "    # add label\n",
    "    current_label = train_data.loc[idx, \"emotion\"]\n",
    "    labels.append(current_label)\n",
    "    current_row.append(current_label)\n",
    "\n",
    "    # add bag-of-words\n",
    "    tokens = set(train_data.loc[idx, \"text\"])\n",
    "    for _, word in enumerate(wordlist):\n",
    "        current_row.append(1 if word in tokens else 0)\n",
    "\n",
    "    rows.append(current_row)\n",
    "\n",
    "data_model = pd.DataFrame(rows, columns=columns)\n",
    "data_labels = pd.Series(labels)\n",
    "\n",
    "bow = data_model  # Bag of words model"
   ]
  },
  {
   "cell_type": "code",
   "execution_count": 469,
   "metadata": {},
   "outputs": [
    {
     "data": {
      "text/html": [
       "<div>\n",
       "<style scoped>\n",
       "    .dataframe tbody tr th:only-of-type {\n",
       "        vertical-align: middle;\n",
       "    }\n",
       "\n",
       "    .dataframe tbody tr th {\n",
       "        vertical-align: top;\n",
       "    }\n",
       "\n",
       "    .dataframe thead th {\n",
       "        text-align: right;\n",
       "    }\n",
       "</style>\n",
       "<table border=\"1\" class=\"dataframe\">\n",
       "  <thead>\n",
       "    <tr style=\"text-align: right;\">\n",
       "      <th></th>\n",
       "      <th>Id</th>\n",
       "      <th>emotion</th>\n",
       "      <th>Tweet</th>\n",
       "      <th>text</th>\n",
       "      <th>tokenized</th>\n",
       "    </tr>\n",
       "  </thead>\n",
       "  <tbody>\n",
       "    <tr>\n",
       "      <th>1</th>\n",
       "      <td>635930169241374720</td>\n",
       "      <td>neutral</td>\n",
       "      <td>IOS  App Transport Security Mm need to check i...</td>\n",
       "      <td>[IOS, App, Transport, Security, Mm, need, to, ...</td>\n",
       "      <td>[io, app, transport, secur, Mm, need, to, chec...</td>\n",
       "    </tr>\n",
       "    <tr>\n",
       "      <th>2</th>\n",
       "      <td>635950258682523648</td>\n",
       "      <td>neutral</td>\n",
       "      <td>Mar if you have an iOS device you should downl...</td>\n",
       "      <td>[Mar, if, you, have, an, iOS, device, you, sho...</td>\n",
       "      <td>[mar, if, you, have, an, io, devic, you, shoul...</td>\n",
       "    </tr>\n",
       "    <tr>\n",
       "      <th>3</th>\n",
       "      <td>636030803433009153</td>\n",
       "      <td>negative</td>\n",
       "      <td>my phone does not run on latest IOS which may ...</td>\n",
       "      <td>[my, phone, does, not, run, on, latest, IOS, w...</td>\n",
       "      <td>[my, phone, doe, not, run, on, latest, io, whi...</td>\n",
       "    </tr>\n",
       "    <tr>\n",
       "      <th>4</th>\n",
       "      <td>636100906224848896</td>\n",
       "      <td>positive</td>\n",
       "      <td>Not sure how to start your publication on iOS ...</td>\n",
       "      <td>[Not, sure, how, to, start, your, publication,...</td>\n",
       "      <td>[not, sure, how, to, start, your, public, on, ...</td>\n",
       "    </tr>\n",
       "    <tr>\n",
       "      <th>5</th>\n",
       "      <td>636176272947744772</td>\n",
       "      <td>neutral</td>\n",
       "      <td>Two Dollar Tuesday is here with Forklift  Quic...</td>\n",
       "      <td>[Two, Dollar, Tuesday, is, here, with, Forklif...</td>\n",
       "      <td>[two, dollar, tuesday, is, here, with, forklif...</td>\n",
       "    </tr>\n",
       "  </tbody>\n",
       "</table>\n",
       "</div>"
      ],
      "text/plain": [
       "                   Id   emotion  \\\n",
       "1  635930169241374720   neutral   \n",
       "2  635950258682523648   neutral   \n",
       "3  636030803433009153  negative   \n",
       "4  636100906224848896  positive   \n",
       "5  636176272947744772   neutral   \n",
       "\n",
       "                                               Tweet  \\\n",
       "1  IOS  App Transport Security Mm need to check i...   \n",
       "2  Mar if you have an iOS device you should downl...   \n",
       "3  my phone does not run on latest IOS which may ...   \n",
       "4  Not sure how to start your publication on iOS ...   \n",
       "5  Two Dollar Tuesday is here with Forklift  Quic...   \n",
       "\n",
       "                                                text  \\\n",
       "1  [IOS, App, Transport, Security, Mm, need, to, ...   \n",
       "2  [Mar, if, you, have, an, iOS, device, you, sho...   \n",
       "3  [my, phone, does, not, run, on, latest, IOS, w...   \n",
       "4  [Not, sure, how, to, start, your, publication,...   \n",
       "5  [Two, Dollar, Tuesday, is, here, with, Forklif...   \n",
       "\n",
       "                                           tokenized  \n",
       "1  [io, app, transport, secur, Mm, need, to, chec...  \n",
       "2  [mar, if, you, have, an, io, devic, you, shoul...  \n",
       "3  [my, phone, doe, not, run, on, latest, io, whi...  \n",
       "4  [not, sure, how, to, start, your, public, on, ...  \n",
       "5  [two, dollar, tuesday, is, here, with, forklif...  "
      ]
     },
     "execution_count": 469,
     "metadata": {},
     "output_type": "execute_result"
    }
   ],
   "source": [
    "train_data.head()"
   ]
  },
  {
   "cell_type": "markdown",
   "metadata": {},
   "source": [
    "* Nicly emotion labled with every single word (2622 word)"
   ]
  },
  {
   "cell_type": "code",
   "execution_count": 470,
   "metadata": {},
   "outputs": [
    {
     "data": {
      "text/html": [
       "<div>\n",
       "<style scoped>\n",
       "    .dataframe tbody tr th:only-of-type {\n",
       "        vertical-align: middle;\n",
       "    }\n",
       "\n",
       "    .dataframe tbody tr th {\n",
       "        vertical-align: top;\n",
       "    }\n",
       "\n",
       "    .dataframe thead th {\n",
       "        text-align: right;\n",
       "    }\n",
       "</style>\n",
       "<table border=\"1\" class=\"dataframe\">\n",
       "  <thead>\n",
       "    <tr style=\"text-align: right;\">\n",
       "      <th></th>\n",
       "      <th>idx</th>\n",
       "      <th>word</th>\n",
       "      <th>occurrences</th>\n",
       "    </tr>\n",
       "  </thead>\n",
       "  <tbody>\n",
       "    <tr>\n",
       "      <th>0</th>\n",
       "      <td>0</td>\n",
       "      <td>not</td>\n",
       "      <td>372</td>\n",
       "    </tr>\n",
       "    <tr>\n",
       "      <th>1</th>\n",
       "      <td>1</td>\n",
       "      <td>st</td>\n",
       "      <td>368</td>\n",
       "    </tr>\n",
       "    <tr>\n",
       "      <th>2</th>\n",
       "      <td>2</td>\n",
       "      <td>Im</td>\n",
       "      <td>339</td>\n",
       "    </tr>\n",
       "    <tr>\n",
       "      <th>3</th>\n",
       "      <td>3</td>\n",
       "      <td>see</td>\n",
       "      <td>316</td>\n",
       "    </tr>\n",
       "    <tr>\n",
       "      <th>4</th>\n",
       "      <td>4</td>\n",
       "      <td>The</td>\n",
       "      <td>313</td>\n",
       "    </tr>\n",
       "  </tbody>\n",
       "</table>\n",
       "</div>"
      ],
      "text/plain": [
       "   idx word  occurrences\n",
       "0    0  not          372\n",
       "1    1   st          368\n",
       "2    2   Im          339\n",
       "3    3  see          316\n",
       "4    4  The          313"
      ]
     },
     "execution_count": 470,
     "metadata": {},
     "output_type": "execute_result"
    }
   ],
   "source": [
    "words.head()"
   ]
  },
  {
   "cell_type": "code",
   "execution_count": 471,
   "metadata": {},
   "outputs": [],
   "source": [
    "#wordlist"
   ]
  },
  {
   "cell_type": "code",
   "execution_count": 472,
   "metadata": {},
   "outputs": [
    {
     "name": "stdout",
     "output_type": "stream",
     "text": [
      "<class 'pandas.core.frame.DataFrame'>\n",
      "RangeIndex: 5421 entries, 0 to 5420\n",
      "Columns: 2622 entries, label to fiddle_bow\n",
      "dtypes: int64(2621), object(1)\n",
      "memory usage: 108.4+ MB\n"
     ]
    }
   ],
   "source": [
    "bow.info()"
   ]
  },
  {
   "cell_type": "code",
   "execution_count": 473,
   "metadata": {},
   "outputs": [
    {
     "data": {
      "text/html": [
       "<div>\n",
       "<style scoped>\n",
       "    .dataframe tbody tr th:only-of-type {\n",
       "        vertical-align: middle;\n",
       "    }\n",
       "\n",
       "    .dataframe tbody tr th {\n",
       "        vertical-align: top;\n",
       "    }\n",
       "\n",
       "    .dataframe thead th {\n",
       "        text-align: right;\n",
       "    }\n",
       "</style>\n",
       "<table border=\"1\" class=\"dataframe\">\n",
       "  <thead>\n",
       "    <tr style=\"text-align: right;\">\n",
       "      <th></th>\n",
       "      <th>label</th>\n",
       "      <th>not_bow</th>\n",
       "      <th>st_bow</th>\n",
       "      <th>Im_bow</th>\n",
       "      <th>see_bow</th>\n",
       "      <th>The_bow</th>\n",
       "      <th>time_bow</th>\n",
       "      <th>amp_bow</th>\n",
       "      <th>like_bow</th>\n",
       "      <th>going_bow</th>\n",
       "      <th>...</th>\n",
       "      <th>Prime_bow</th>\n",
       "      <th>Minister_bow</th>\n",
       "      <th>Alexis_bow</th>\n",
       "      <th>Hollande_bow</th>\n",
       "      <th>parliament_bow</th>\n",
       "      <th>Deadpool_bow</th>\n",
       "      <th>girlfriend_bow</th>\n",
       "      <th>Castle_bow</th>\n",
       "      <th>Cavani_bow</th>\n",
       "      <th>fiddle_bow</th>\n",
       "    </tr>\n",
       "  </thead>\n",
       "  <tbody>\n",
       "    <tr>\n",
       "      <th>0</th>\n",
       "      <td>neutral</td>\n",
       "      <td>0</td>\n",
       "      <td>0</td>\n",
       "      <td>0</td>\n",
       "      <td>0</td>\n",
       "      <td>0</td>\n",
       "      <td>0</td>\n",
       "      <td>0</td>\n",
       "      <td>0</td>\n",
       "      <td>0</td>\n",
       "      <td>...</td>\n",
       "      <td>0</td>\n",
       "      <td>0</td>\n",
       "      <td>0</td>\n",
       "      <td>0</td>\n",
       "      <td>0</td>\n",
       "      <td>0</td>\n",
       "      <td>0</td>\n",
       "      <td>0</td>\n",
       "      <td>0</td>\n",
       "      <td>0</td>\n",
       "    </tr>\n",
       "    <tr>\n",
       "      <th>1</th>\n",
       "      <td>neutral</td>\n",
       "      <td>0</td>\n",
       "      <td>0</td>\n",
       "      <td>0</td>\n",
       "      <td>0</td>\n",
       "      <td>0</td>\n",
       "      <td>0</td>\n",
       "      <td>0</td>\n",
       "      <td>0</td>\n",
       "      <td>0</td>\n",
       "      <td>...</td>\n",
       "      <td>0</td>\n",
       "      <td>0</td>\n",
       "      <td>0</td>\n",
       "      <td>0</td>\n",
       "      <td>0</td>\n",
       "      <td>0</td>\n",
       "      <td>0</td>\n",
       "      <td>0</td>\n",
       "      <td>0</td>\n",
       "      <td>0</td>\n",
       "    </tr>\n",
       "    <tr>\n",
       "      <th>2</th>\n",
       "      <td>negative</td>\n",
       "      <td>1</td>\n",
       "      <td>0</td>\n",
       "      <td>0</td>\n",
       "      <td>0</td>\n",
       "      <td>0</td>\n",
       "      <td>1</td>\n",
       "      <td>0</td>\n",
       "      <td>0</td>\n",
       "      <td>0</td>\n",
       "      <td>...</td>\n",
       "      <td>0</td>\n",
       "      <td>0</td>\n",
       "      <td>0</td>\n",
       "      <td>0</td>\n",
       "      <td>0</td>\n",
       "      <td>0</td>\n",
       "      <td>0</td>\n",
       "      <td>0</td>\n",
       "      <td>0</td>\n",
       "      <td>0</td>\n",
       "    </tr>\n",
       "    <tr>\n",
       "      <th>3</th>\n",
       "      <td>positive</td>\n",
       "      <td>0</td>\n",
       "      <td>0</td>\n",
       "      <td>0</td>\n",
       "      <td>0</td>\n",
       "      <td>0</td>\n",
       "      <td>0</td>\n",
       "      <td>0</td>\n",
       "      <td>0</td>\n",
       "      <td>0</td>\n",
       "      <td>...</td>\n",
       "      <td>0</td>\n",
       "      <td>0</td>\n",
       "      <td>0</td>\n",
       "      <td>0</td>\n",
       "      <td>0</td>\n",
       "      <td>0</td>\n",
       "      <td>0</td>\n",
       "      <td>0</td>\n",
       "      <td>0</td>\n",
       "      <td>0</td>\n",
       "    </tr>\n",
       "    <tr>\n",
       "      <th>4</th>\n",
       "      <td>neutral</td>\n",
       "      <td>0</td>\n",
       "      <td>0</td>\n",
       "      <td>0</td>\n",
       "      <td>0</td>\n",
       "      <td>0</td>\n",
       "      <td>0</td>\n",
       "      <td>0</td>\n",
       "      <td>0</td>\n",
       "      <td>0</td>\n",
       "      <td>...</td>\n",
       "      <td>0</td>\n",
       "      <td>0</td>\n",
       "      <td>0</td>\n",
       "      <td>0</td>\n",
       "      <td>0</td>\n",
       "      <td>0</td>\n",
       "      <td>0</td>\n",
       "      <td>0</td>\n",
       "      <td>0</td>\n",
       "      <td>0</td>\n",
       "    </tr>\n",
       "  </tbody>\n",
       "</table>\n",
       "<p>5 rows × 2622 columns</p>\n",
       "</div>"
      ],
      "text/plain": [
       "      label  not_bow  st_bow  Im_bow  see_bow  The_bow  time_bow  amp_bow  \\\n",
       "0   neutral        0       0       0        0        0         0        0   \n",
       "1   neutral        0       0       0        0        0         0        0   \n",
       "2  negative        1       0       0        0        0         1        0   \n",
       "3  positive        0       0       0        0        0         0        0   \n",
       "4   neutral        0       0       0        0        0         0        0   \n",
       "\n",
       "   like_bow  going_bow  ...  Prime_bow  Minister_bow  Alexis_bow  \\\n",
       "0         0          0  ...          0             0           0   \n",
       "1         0          0  ...          0             0           0   \n",
       "2         0          0  ...          0             0           0   \n",
       "3         0          0  ...          0             0           0   \n",
       "4         0          0  ...          0             0           0   \n",
       "\n",
       "   Hollande_bow  parliament_bow  Deadpool_bow  girlfriend_bow  Castle_bow  \\\n",
       "0             0               0             0               0           0   \n",
       "1             0               0             0               0           0   \n",
       "2             0               0             0               0           0   \n",
       "3             0               0             0               0           0   \n",
       "4             0               0             0               0           0   \n",
       "\n",
       "   Cavani_bow  fiddle_bow  \n",
       "0           0           0  \n",
       "1           0           0  \n",
       "2           0           0  \n",
       "3           0           0  \n",
       "4           0           0  \n",
       "\n",
       "[5 rows x 2622 columns]"
      ]
     },
     "execution_count": 473,
     "metadata": {},
     "output_type": "execute_result"
    }
   ],
   "source": [
    "bow.head()"
   ]
  },
  {
   "cell_type": "code",
   "execution_count": 552,
   "metadata": {},
   "outputs": [],
   "source": [
    "#words"
   ]
  },
  {
   "cell_type": "code",
   "execution_count": 555,
   "metadata": {},
   "outputs": [],
   "source": [
    "#!pip install wordcloud"
   ]
  },
  {
   "cell_type": "markdown",
   "metadata": {},
   "source": [
    "#### Lets visualize something"
   ]
  },
  {
   "cell_type": "code",
   "execution_count": 556,
   "metadata": {},
   "outputs": [],
   "source": [
    "#wordCloud plot for most frequient words"
   ]
  },
  {
   "cell_type": "code",
   "execution_count": 474,
   "metadata": {},
   "outputs": [],
   "source": [
    "import matplotlib.pyplot as plt \n",
    "import seaborn as sns "
   ]
  },
  {
   "cell_type": "markdown",
   "metadata": {},
   "source": [
    "* Most Freq words"
   ]
  },
  {
   "cell_type": "code",
   "execution_count": 475,
   "metadata": {},
   "outputs": [
    {
     "data": {
      "text/plain": [
       "Text(0.5, 1.0, 'Most frequent words ')"
      ]
     },
     "execution_count": 475,
     "metadata": {},
     "output_type": "execute_result"
    },
    {
     "data": {
      "image/png": "[encoded data removed]",
      "text/plain": [
       "<Figure size 864x720 with 1 Axes>"
      ]
     },
     "metadata": {
      "needs_background": "light"
     },
     "output_type": "display_data"
    }
   ],
   "source": [
    "plt.figure(figsize=(12,10))\n",
    "sns.barplot(x=words['word'][0:10],y=words['occurrences'][0:10])\n",
    "plt.title(f'Most frequent words ')"
   ]
  },
  {
   "cell_type": "markdown",
   "metadata": {},
   "source": [
    "* pick the emotion related to some word"
   ]
  },
  {
   "cell_type": "code",
   "execution_count": 476,
   "metadata": {},
   "outputs": [
    {
     "data": {
      "text/plain": [
       "Text(0.5, 1.0, 'Most frequent words ')"
      ]
     },
     "execution_count": 476,
     "metadata": {},
     "output_type": "execute_result"
    },
    {
     "data": {
      "image/png": "[encoded data removed]",
      "text/plain": [
       "<Figure size 864x720 with 1 Axes>"
      ]
     },
     "metadata": {
      "needs_background": "light"
     },
     "output_type": "display_data"
    }
   ],
   "source": [
    "plt.figure(figsize=(12,10))\n",
    "sns.barplot(x=bow['label'][0:10],y=bow['not_bow'][0:10])\n",
    "plt.title(f'Most frequent words ')"
   ]
  },
  {
   "cell_type": "code",
   "execution_count": 478,
   "metadata": {},
   "outputs": [
    {
     "name": "stdout",
     "output_type": "stream",
     "text": [
      "<class 'pandas.core.frame.DataFrame'>\n",
      "RangeIndex: 5421 entries, 0 to 5420\n",
      "Columns: 2622 entries, label to fiddle_bow\n",
      "dtypes: int64(2621), object(1)\n",
      "memory usage: 108.4+ MB\n"
     ]
    }
   ],
   "source": [
    "bow.info()"
   ]
  },
  {
   "cell_type": "markdown",
   "metadata": {},
   "source": [
    "## Classification"
   ]
  },
  {
   "cell_type": "code",
   "execution_count": 479,
   "metadata": {},
   "outputs": [],
   "source": [
    "import random\n",
    "seed = 777  # for RandomForestClassifier \n",
    "random.seed(seed)\n"
   ]
  },
  {
   "cell_type": "markdown",
   "metadata": {},
   "source": [
    "#### Classifier test Fnc"
   ]
  },
  {
   "cell_type": "code",
   "execution_count": 480,
   "metadata": {},
   "outputs": [],
   "source": [
    "def test_classifier(X_train, y_train, X_test, y_test, classifier):\n",
    "    log(\"\")\n",
    "    log(\"---------------------------------------------------------\")\n",
    "    log(\"Testing \" + str(type(classifier).__name__))\n",
    "    now = time()\n",
    "    list_of_labels = sorted(list(set(y_train)))\n",
    "    model = classifier.fit(X_train, y_train)\n",
    "    \n",
    "    #Calculate learning time and provide logs \n",
    "    log(\"Learing time {0}s\".format(time() - now))\n",
    "    now = time()\n",
    "    predictions = model.predict(X_test)\n",
    "    log(\"Predicting time {0}s\".format(time() - now))\n",
    "\n",
    "    # Calculate Accuracy, Precision, recall\n",
    "    \n",
    "    precision = precision_score(y_test, predictions, average=None, pos_label=None, labels=list_of_labels)\n",
    "    recall = recall_score(y_test, predictions, average=None, pos_label=None, labels=list_of_labels)\n",
    "    accuracy = accuracy_score(y_test, predictions)\n",
    "    f1 = f1_score(y_test, predictions, average=None, pos_label=None, labels=list_of_labels)\n",
    "    \n",
    "    log(\"=================== Results ===================\")\n",
    "    log(\"            Negative     Neutral     Positive\")\n",
    "    log(\"F1       \" + str(f1))\n",
    "    log(\"Precision\" + str(precision))\n",
    "    log(\"Recall   \" + str(recall))\n",
    "    log(\"Accuracy \" + str(accuracy))\n",
    "    log(\"===============================================\")\n",
    "\n",
    "    return precision, recall, accuracy, f1\n",
    "\n",
    "def log(x):\n",
    "    #can be used to write to log file\n",
    "    print(x)\n"
   ]
  },
  {
   "cell_type": "markdown",
   "metadata": {},
   "source": [
    "## Experiment 1: BOW + Naive Bayes"
   ]
  },
  {
   "cell_type": "code",
   "execution_count": 481,
   "metadata": {},
   "outputs": [
    {
     "data": {
      "text/html": [
       "<div>\n",
       "<style scoped>\n",
       "    .dataframe tbody tr th:only-of-type {\n",
       "        vertical-align: middle;\n",
       "    }\n",
       "\n",
       "    .dataframe tbody tr th {\n",
       "        vertical-align: top;\n",
       "    }\n",
       "\n",
       "    .dataframe thead th {\n",
       "        text-align: right;\n",
       "    }\n",
       "</style>\n",
       "<table border=\"1\" class=\"dataframe\">\n",
       "  <thead>\n",
       "    <tr style=\"text-align: right;\">\n",
       "      <th></th>\n",
       "      <th>label</th>\n",
       "      <th>not_bow</th>\n",
       "      <th>st_bow</th>\n",
       "      <th>Im_bow</th>\n",
       "      <th>see_bow</th>\n",
       "      <th>The_bow</th>\n",
       "      <th>time_bow</th>\n",
       "      <th>amp_bow</th>\n",
       "      <th>like_bow</th>\n",
       "      <th>going_bow</th>\n",
       "      <th>...</th>\n",
       "      <th>Prime_bow</th>\n",
       "      <th>Minister_bow</th>\n",
       "      <th>Alexis_bow</th>\n",
       "      <th>Hollande_bow</th>\n",
       "      <th>parliament_bow</th>\n",
       "      <th>Deadpool_bow</th>\n",
       "      <th>girlfriend_bow</th>\n",
       "      <th>Castle_bow</th>\n",
       "      <th>Cavani_bow</th>\n",
       "      <th>fiddle_bow</th>\n",
       "    </tr>\n",
       "  </thead>\n",
       "  <tbody>\n",
       "    <tr>\n",
       "      <th>0</th>\n",
       "      <td>neutral</td>\n",
       "      <td>0</td>\n",
       "      <td>0</td>\n",
       "      <td>0</td>\n",
       "      <td>0</td>\n",
       "      <td>0</td>\n",
       "      <td>0</td>\n",
       "      <td>0</td>\n",
       "      <td>0</td>\n",
       "      <td>0</td>\n",
       "      <td>...</td>\n",
       "      <td>0</td>\n",
       "      <td>0</td>\n",
       "      <td>0</td>\n",
       "      <td>0</td>\n",
       "      <td>0</td>\n",
       "      <td>0</td>\n",
       "      <td>0</td>\n",
       "      <td>0</td>\n",
       "      <td>0</td>\n",
       "      <td>0</td>\n",
       "    </tr>\n",
       "    <tr>\n",
       "      <th>1</th>\n",
       "      <td>neutral</td>\n",
       "      <td>0</td>\n",
       "      <td>0</td>\n",
       "      <td>0</td>\n",
       "      <td>0</td>\n",
       "      <td>0</td>\n",
       "      <td>0</td>\n",
       "      <td>0</td>\n",
       "      <td>0</td>\n",
       "      <td>0</td>\n",
       "      <td>...</td>\n",
       "      <td>0</td>\n",
       "      <td>0</td>\n",
       "      <td>0</td>\n",
       "      <td>0</td>\n",
       "      <td>0</td>\n",
       "      <td>0</td>\n",
       "      <td>0</td>\n",
       "      <td>0</td>\n",
       "      <td>0</td>\n",
       "      <td>0</td>\n",
       "    </tr>\n",
       "    <tr>\n",
       "      <th>2</th>\n",
       "      <td>negative</td>\n",
       "      <td>1</td>\n",
       "      <td>0</td>\n",
       "      <td>0</td>\n",
       "      <td>0</td>\n",
       "      <td>0</td>\n",
       "      <td>1</td>\n",
       "      <td>0</td>\n",
       "      <td>0</td>\n",
       "      <td>0</td>\n",
       "      <td>...</td>\n",
       "      <td>0</td>\n",
       "      <td>0</td>\n",
       "      <td>0</td>\n",
       "      <td>0</td>\n",
       "      <td>0</td>\n",
       "      <td>0</td>\n",
       "      <td>0</td>\n",
       "      <td>0</td>\n",
       "      <td>0</td>\n",
       "      <td>0</td>\n",
       "    </tr>\n",
       "    <tr>\n",
       "      <th>3</th>\n",
       "      <td>positive</td>\n",
       "      <td>0</td>\n",
       "      <td>0</td>\n",
       "      <td>0</td>\n",
       "      <td>0</td>\n",
       "      <td>0</td>\n",
       "      <td>0</td>\n",
       "      <td>0</td>\n",
       "      <td>0</td>\n",
       "      <td>0</td>\n",
       "      <td>...</td>\n",
       "      <td>0</td>\n",
       "      <td>0</td>\n",
       "      <td>0</td>\n",
       "      <td>0</td>\n",
       "      <td>0</td>\n",
       "      <td>0</td>\n",
       "      <td>0</td>\n",
       "      <td>0</td>\n",
       "      <td>0</td>\n",
       "      <td>0</td>\n",
       "    </tr>\n",
       "    <tr>\n",
       "      <th>4</th>\n",
       "      <td>neutral</td>\n",
       "      <td>0</td>\n",
       "      <td>0</td>\n",
       "      <td>0</td>\n",
       "      <td>0</td>\n",
       "      <td>0</td>\n",
       "      <td>0</td>\n",
       "      <td>0</td>\n",
       "      <td>0</td>\n",
       "      <td>0</td>\n",
       "      <td>...</td>\n",
       "      <td>0</td>\n",
       "      <td>0</td>\n",
       "      <td>0</td>\n",
       "      <td>0</td>\n",
       "      <td>0</td>\n",
       "      <td>0</td>\n",
       "      <td>0</td>\n",
       "      <td>0</td>\n",
       "      <td>0</td>\n",
       "      <td>0</td>\n",
       "    </tr>\n",
       "  </tbody>\n",
       "</table>\n",
       "<p>5 rows × 2622 columns</p>\n",
       "</div>"
      ],
      "text/plain": [
       "      label  not_bow  st_bow  Im_bow  see_bow  The_bow  time_bow  amp_bow  \\\n",
       "0   neutral        0       0       0        0        0         0        0   \n",
       "1   neutral        0       0       0        0        0         0        0   \n",
       "2  negative        1       0       0        0        0         1        0   \n",
       "3  positive        0       0       0        0        0         0        0   \n",
       "4   neutral        0       0       0        0        0         0        0   \n",
       "\n",
       "   like_bow  going_bow  ...  Prime_bow  Minister_bow  Alexis_bow  \\\n",
       "0         0          0  ...          0             0           0   \n",
       "1         0          0  ...          0             0           0   \n",
       "2         0          0  ...          0             0           0   \n",
       "3         0          0  ...          0             0           0   \n",
       "4         0          0  ...          0             0           0   \n",
       "\n",
       "   Hollande_bow  parliament_bow  Deadpool_bow  girlfriend_bow  Castle_bow  \\\n",
       "0             0               0             0               0           0   \n",
       "1             0               0             0               0           0   \n",
       "2             0               0             0               0           0   \n",
       "3             0               0             0               0           0   \n",
       "4             0               0             0               0           0   \n",
       "\n",
       "   Cavani_bow  fiddle_bow  \n",
       "0           0           0  \n",
       "1           0           0  \n",
       "2           0           0  \n",
       "3           0           0  \n",
       "4           0           0  \n",
       "\n",
       "[5 rows x 2622 columns]"
      ]
     },
     "execution_count": 481,
     "metadata": {},
     "output_type": "execute_result"
    }
   ],
   "source": [
    "bow.head()"
   ]
  },
  {
   "cell_type": "code",
   "execution_count": 482,
   "metadata": {},
   "outputs": [
    {
     "data": {
      "text/html": [
       "<div>\n",
       "<style scoped>\n",
       "    .dataframe tbody tr th:only-of-type {\n",
       "        vertical-align: middle;\n",
       "    }\n",
       "\n",
       "    .dataframe tbody tr th {\n",
       "        vertical-align: top;\n",
       "    }\n",
       "\n",
       "    .dataframe thead th {\n",
       "        text-align: right;\n",
       "    }\n",
       "</style>\n",
       "<table border=\"1\" class=\"dataframe\">\n",
       "  <thead>\n",
       "    <tr style=\"text-align: right;\">\n",
       "      <th></th>\n",
       "      <th>not_bow</th>\n",
       "      <th>st_bow</th>\n",
       "      <th>Im_bow</th>\n",
       "      <th>see_bow</th>\n",
       "      <th>The_bow</th>\n",
       "      <th>time_bow</th>\n",
       "      <th>amp_bow</th>\n",
       "      <th>like_bow</th>\n",
       "      <th>going_bow</th>\n",
       "      <th>day_bow</th>\n",
       "      <th>...</th>\n",
       "      <th>Prime_bow</th>\n",
       "      <th>Minister_bow</th>\n",
       "      <th>Alexis_bow</th>\n",
       "      <th>Hollande_bow</th>\n",
       "      <th>parliament_bow</th>\n",
       "      <th>Deadpool_bow</th>\n",
       "      <th>girlfriend_bow</th>\n",
       "      <th>Castle_bow</th>\n",
       "      <th>Cavani_bow</th>\n",
       "      <th>fiddle_bow</th>\n",
       "    </tr>\n",
       "  </thead>\n",
       "  <tbody>\n",
       "    <tr>\n",
       "      <th>0</th>\n",
       "      <td>0</td>\n",
       "      <td>0</td>\n",
       "      <td>0</td>\n",
       "      <td>0</td>\n",
       "      <td>0</td>\n",
       "      <td>0</td>\n",
       "      <td>0</td>\n",
       "      <td>0</td>\n",
       "      <td>0</td>\n",
       "      <td>0</td>\n",
       "      <td>...</td>\n",
       "      <td>0</td>\n",
       "      <td>0</td>\n",
       "      <td>0</td>\n",
       "      <td>0</td>\n",
       "      <td>0</td>\n",
       "      <td>0</td>\n",
       "      <td>0</td>\n",
       "      <td>0</td>\n",
       "      <td>0</td>\n",
       "      <td>0</td>\n",
       "    </tr>\n",
       "    <tr>\n",
       "      <th>1</th>\n",
       "      <td>0</td>\n",
       "      <td>0</td>\n",
       "      <td>0</td>\n",
       "      <td>0</td>\n",
       "      <td>0</td>\n",
       "      <td>0</td>\n",
       "      <td>0</td>\n",
       "      <td>0</td>\n",
       "      <td>0</td>\n",
       "      <td>0</td>\n",
       "      <td>...</td>\n",
       "      <td>0</td>\n",
       "      <td>0</td>\n",
       "      <td>0</td>\n",
       "      <td>0</td>\n",
       "      <td>0</td>\n",
       "      <td>0</td>\n",
       "      <td>0</td>\n",
       "      <td>0</td>\n",
       "      <td>0</td>\n",
       "      <td>0</td>\n",
       "    </tr>\n",
       "    <tr>\n",
       "      <th>2</th>\n",
       "      <td>1</td>\n",
       "      <td>0</td>\n",
       "      <td>0</td>\n",
       "      <td>0</td>\n",
       "      <td>0</td>\n",
       "      <td>1</td>\n",
       "      <td>0</td>\n",
       "      <td>0</td>\n",
       "      <td>0</td>\n",
       "      <td>1</td>\n",
       "      <td>...</td>\n",
       "      <td>0</td>\n",
       "      <td>0</td>\n",
       "      <td>0</td>\n",
       "      <td>0</td>\n",
       "      <td>0</td>\n",
       "      <td>0</td>\n",
       "      <td>0</td>\n",
       "      <td>0</td>\n",
       "      <td>0</td>\n",
       "      <td>0</td>\n",
       "    </tr>\n",
       "    <tr>\n",
       "      <th>3</th>\n",
       "      <td>0</td>\n",
       "      <td>0</td>\n",
       "      <td>0</td>\n",
       "      <td>0</td>\n",
       "      <td>0</td>\n",
       "      <td>0</td>\n",
       "      <td>0</td>\n",
       "      <td>0</td>\n",
       "      <td>0</td>\n",
       "      <td>0</td>\n",
       "      <td>...</td>\n",
       "      <td>0</td>\n",
       "      <td>0</td>\n",
       "      <td>0</td>\n",
       "      <td>0</td>\n",
       "      <td>0</td>\n",
       "      <td>0</td>\n",
       "      <td>0</td>\n",
       "      <td>0</td>\n",
       "      <td>0</td>\n",
       "      <td>0</td>\n",
       "    </tr>\n",
       "    <tr>\n",
       "      <th>4</th>\n",
       "      <td>0</td>\n",
       "      <td>0</td>\n",
       "      <td>0</td>\n",
       "      <td>0</td>\n",
       "      <td>0</td>\n",
       "      <td>0</td>\n",
       "      <td>0</td>\n",
       "      <td>0</td>\n",
       "      <td>0</td>\n",
       "      <td>0</td>\n",
       "      <td>...</td>\n",
       "      <td>0</td>\n",
       "      <td>0</td>\n",
       "      <td>0</td>\n",
       "      <td>0</td>\n",
       "      <td>0</td>\n",
       "      <td>0</td>\n",
       "      <td>0</td>\n",
       "      <td>0</td>\n",
       "      <td>0</td>\n",
       "      <td>0</td>\n",
       "    </tr>\n",
       "  </tbody>\n",
       "</table>\n",
       "<p>5 rows × 2621 columns</p>\n",
       "</div>"
      ],
      "text/plain": [
       "   not_bow  st_bow  Im_bow  see_bow  The_bow  time_bow  amp_bow  like_bow  \\\n",
       "0        0       0       0        0        0         0        0         0   \n",
       "1        0       0       0        0        0         0        0         0   \n",
       "2        1       0       0        0        0         1        0         0   \n",
       "3        0       0       0        0        0         0        0         0   \n",
       "4        0       0       0        0        0         0        0         0   \n",
       "\n",
       "   going_bow  day_bow  ...  Prime_bow  Minister_bow  Alexis_bow  Hollande_bow  \\\n",
       "0          0        0  ...          0             0           0             0   \n",
       "1          0        0  ...          0             0           0             0   \n",
       "2          0        1  ...          0             0           0             0   \n",
       "3          0        0  ...          0             0           0             0   \n",
       "4          0        0  ...          0             0           0             0   \n",
       "\n",
       "   parliament_bow  Deadpool_bow  girlfriend_bow  Castle_bow  Cavani_bow  \\\n",
       "0               0             0               0           0           0   \n",
       "1               0             0               0           0           0   \n",
       "2               0             0               0           0           0   \n",
       "3               0             0               0           0           0   \n",
       "4               0             0               0           0           0   \n",
       "\n",
       "   fiddle_bow  \n",
       "0           0  \n",
       "1           0  \n",
       "2           0  \n",
       "3           0  \n",
       "4           0  \n",
       "\n",
       "[5 rows x 2621 columns]"
      ]
     },
     "execution_count": 482,
     "metadata": {},
     "output_type": "execute_result"
    }
   ],
   "source": [
    "bow.iloc[:, 1:].head()"
   ]
  },
  {
   "cell_type": "code",
   "execution_count": 483,
   "metadata": {},
   "outputs": [
    {
     "data": {
      "text/plain": [
       "0     neutral\n",
       "1     neutral\n",
       "2    negative\n",
       "3    positive\n",
       "4     neutral\n",
       "Name: label, dtype: object"
      ]
     },
     "execution_count": 483,
     "metadata": {},
     "output_type": "execute_result"
    }
   ],
   "source": [
    "bow['label'].head()"
   ]
  },
  {
   "cell_type": "code",
   "execution_count": 484,
   "metadata": {},
   "outputs": [
    {
     "data": {
      "text/plain": [
       "array(['neutral', 'negative', 'positive'], dtype=object)"
      ]
     },
     "execution_count": 484,
     "metadata": {},
     "output_type": "execute_result"
    }
   ],
   "source": [
    "bow['label'].unique()"
   ]
  },
  {
   "cell_type": "markdown",
   "metadata": {},
   "source": [
    "* Lets call the **test_classifier**"
   ]
  },
  {
   "cell_type": "code",
   "execution_count": 485,
   "metadata": {},
   "outputs": [
    {
     "name": "stdout",
     "output_type": "stream",
     "text": [
      "\n",
      "---------------------------------------------------------\n",
      "Testing BernoulliNB\n",
      "Learing time 0.21694278717041016s\n",
      "Predicting time 0.07990479469299316s\n",
      "=================== Results ===================\n",
      "            Negative     Neutral     Positive\n",
      "F1       [0.33255269 0.47161572 0.69322235]\n",
      "Precision[0.44654088 0.49090909 0.63507625]\n",
      "Recall   [0.26492537 0.45378151 0.76308901]\n",
      "Accuracy 0.5679164105716041\n",
      "===============================================\n"
     ]
    }
   ],
   "source": [
    "#train_test_split and BernoulliNB\n",
    "from sklearn.naive_bayes import BernoulliNB\n",
    "X_train, X_test, y_train, y_test = train_test_split(bow.iloc[:, 1:], bow['label'], test_size=0.3)\n",
    "precision, recall, accuracy, f1 = test_classifier(X_train, y_train, X_test, y_test, BernoulliNB())"
   ]
  },
  {
   "cell_type": "code",
   "execution_count": 486,
   "metadata": {},
   "outputs": [
    {
     "name": "stdout",
     "output_type": "stream",
     "text": [
      "\n",
      "---------------------------------------------------------\n",
      "Testing RandomForestClassifier\n",
      "Learing time 8.726549863815308s\n",
      "Predicting time 0.21590709686279297s\n",
      "=================== Results ===================\n",
      "            Negative     Neutral     Positive\n",
      "F1       [0.28248588 0.4590459  0.69424259]\n",
      "Precision[0.58139535 0.47486034 0.6185259 ]\n",
      "Recall   [0.18656716 0.44425087 0.7910828 ]\n",
      "Accuracy 0.5691456668715427\n",
      "===============================================\n"
     ]
    }
   ],
   "source": [
    "from sklearn.ensemble import RandomForestClassifier\n",
    "X_train, X_test, y_train, y_test = train_test_split(data_model.drop(columns='label',axis=1),data_model['label'] , test_size=0.3)\n",
    "precision, recall, accuracy, f1 = test_classifier(X_train, y_train, X_test, y_test, RandomForestClassifier(random_state=seed,n_estimators=403,n_jobs=-1))\n"
   ]
  },
  {
   "cell_type": "markdown",
   "metadata": {},
   "source": [
    "#### Crossvalidating Fnc for Classifier"
   ]
  },
  {
   "cell_type": "code",
   "execution_count": 487,
   "metadata": {},
   "outputs": [],
   "source": [
    "def cv(classifier, X_train, y_train):\n",
    "    log(\"===============================================\")\n",
    "    classifier_name = str(type(classifier).__name__)\n",
    "    now = time()\n",
    "    log(\"Crossvalidating \" + classifier_name + \"...\")\n",
    "    accuracy = [cross_val_score(classifier, X_train, y_train, cv=8, n_jobs=-1)]\n",
    "    log(\"Crosvalidation completed in {0}s\".format(time() - now))\n",
    "    log(\"Accuracy: \" + str(accuracy[0]))\n",
    "    log(\"Average accuracy: \" + str(np.array(accuracy[0]).mean()))\n",
    "    log(\"===============================================\")\n",
    "    return accuracy"
   ]
  },
  {
   "cell_type": "markdown",
   "metadata": {},
   "source": [
    "## Add Extra Features (keep special characters)"
   ]
  },
  {
   "cell_type": "markdown",
   "metadata": {},
   "source": [
    "To run the extra feature function we have to re-add the data again because we have already removed the special charactrs and numbers."
   ]
  },
  {
   "cell_type": "code",
   "execution_count": 488,
   "metadata": {},
   "outputs": [],
   "source": [
    "train_data = pd.read_csv('data/train.csv')\n",
    "test_data = pd.read_csv('data/test.csv')\n",
    "\n",
    "train_data.rename(columns={'Category': 'emotion'}, inplace=True)\n",
    "test_data.rename(columns={'Category': 'emotion'}, inplace=True)\n",
    "\n",
    "train_data = train_data[train_data['emotion'] != 'Tweet']\n",
    "test_data = test_data[test_data['emotion'] != 'Tweet']"
   ]
  },
  {
   "cell_type": "raw",
   "metadata": {},
   "source": [
    "Feature name \tExplanation\n",
    "Number of uppercase \tpeople tend to express with either positive or negative emotions by using A LOT OF UPPERCASE WORDS\n",
    "Number of ! \texclamation marks are likely to increase the strength of opinion\n",
    "Number of ? \tmight distinguish neutral tweets - seeking for information\n",
    "Number of positive emoticons \tpositive emoji will most likely not occur in the negative tweets\n",
    "Number of negative emoticons \tinverse to the one above\n",
    "Number of … \tcommonly used in commenting something\n",
    "Number of quotations \tsame as above\n",
    "Number of mentions \tsometimes people put a lot of mentions on positive tweets, to share something good\n",
    "Number of hashtags \tjust for the experiment\n",
    "Number of urls \tsimiliar to the number of mentions"
   ]
  },
  {
   "cell_type": "code",
   "execution_count": 489,
   "metadata": {},
   "outputs": [],
   "source": [
    "def add_extra_feature(df, tweet_column):\n",
    "    \n",
    "    # Print Number of Exclamation\n",
    "    #length_of_excl = (len(re.findall(r'!', string)))\n",
    "    df['number_of_exclamation'] = tweet_column.apply(lambda x: (len(re.findall(r'!', x))))\n",
    "    \n",
    "    # Number of ?\n",
    "    #length_of_questionmark = (len(re.findall(r'?', string)))\n",
    "    df['number_of_questionmark'] = tweet_column.apply(lambda x: (len(re.findall(r'[?]', x))))\n",
    "    \n",
    "    # Number of #\n",
    "    df['number_of_hashtag'] = tweet_column.apply(lambda x: (len(re.findall(r'#', x))))\n",
    "    \n",
    "    # Number of @\n",
    "    df['number_of_mention'] = tweet_column.apply(lambda x: (len(re.findall(r'@', x))))\n",
    "    \n",
    "    # Number of Quotes\n",
    "    df['number_of_quotes'] = tweet_column.apply(lambda x: (len(re.findall(r\"'\", x))))\n",
    "\n",
    "    # Number if underscore\n",
    "    df['number_of_underscore'] = tweet_column.apply(lambda x: (len(re.findall(r'_', x))))\n",
    "    \n",
    "    \n",
    "    #print((txt.split(\" \"), row))\n",
    "    #print(row.split())"
   ]
  },
  {
   "cell_type": "code",
   "execution_count": 490,
   "metadata": {},
   "outputs": [],
   "source": [
    "# pass the train_data into add_extra_feature function\n",
    "add_extra_feature(train_data, train_data[\"Tweet\"])\n"
   ]
  },
  {
   "cell_type": "markdown",
   "metadata": {},
   "source": [
    "## ADD EMOTICONS"
   ]
  },
  {
   "cell_type": "markdown",
   "metadata": {},
   "source": [
    "Here, users emoticons in a tweet also matters, so we will find the emoticons in a users tweet."
   ]
  },
  {
   "cell_type": "code",
   "execution_count": 491,
   "metadata": {},
   "outputs": [],
   "source": [
    "## Emoticon Detector class\n",
    "\n",
    "class EmoticonDetector:\n",
    "    emoticons = {}\n",
    "\n",
    "    def __init__(self, emoticon_file=\"data/emoticons.txt\"):\n",
    "        from pathlib import Path # Object-oriented filesystem paths\n",
    "        content = Path(emoticon_file).read_text()\n",
    "        positive = True\n",
    "        for line in content.split(\"\\n\"):\n",
    "            if \"positive\" in line.lower():\n",
    "                positive = True\n",
    "                continue\n",
    "            elif \"negative\" in line.lower():\n",
    "                positive = False\n",
    "                continue\n",
    "\n",
    "            self.emoticons[line] = positive\n",
    "\n",
    "    def is_positive(self, emoticon):\n",
    "        if emoticon in self.emoticons:\n",
    "            return self.emoticons[emoticon]\n",
    "        return False\n",
    "\n",
    "    def is_emoticon(self, to_check):\n",
    "        return to_check in self.emoticons"
   ]
  },
  {
   "cell_type": "code",
   "execution_count": 492,
   "metadata": {},
   "outputs": [],
   "source": [
    "ed = EmoticonDetector()"
   ]
  },
  {
   "cell_type": "code",
   "execution_count": 493,
   "metadata": {},
   "outputs": [],
   "source": [
    "processed_data = train_data.copy()\n",
    "\n",
    "def add_column(column_name, column_content):\n",
    "    processed_data.loc[:, column_name] = pd.Series(column_content, index=processed_data.index)\n",
    "\n",
    "def count_by_lambda(expression, word_array):\n",
    "    return len(list(filter(expression, word_array)))\n",
    "\n",
    "add_column(\"splitted_text\", map(lambda txt: txt.split(\" \"), processed_data[\"Tweet\"]))\n",
    "\n",
    "positive_emo = list(\n",
    "    map(lambda txt: count_by_lambda(lambda word: ed.is_emoticon(word) and ed.is_positive(word), txt),\n",
    "        processed_data[\"splitted_text\"]))\n",
    "add_column(\"number_of_positive_emo\", positive_emo)\n",
    "\n",
    "negative_emo = list(map(\n",
    "    lambda txt: count_by_lambda(lambda word: ed.is_emoticon(word) and not ed.is_positive(word), txt),\n",
    "    processed_data[\"splitted_text\"]))\n",
    "\n",
    "add_column(\"number_of_negative_emo\", negative_emo)"
   ]
  },
  {
   "cell_type": "code",
   "execution_count": 494,
   "metadata": {},
   "outputs": [
    {
     "data": {
      "text/html": [
       "<div>\n",
       "<style scoped>\n",
       "    .dataframe tbody tr th:only-of-type {\n",
       "        vertical-align: middle;\n",
       "    }\n",
       "\n",
       "    .dataframe tbody tr th {\n",
       "        vertical-align: top;\n",
       "    }\n",
       "\n",
       "    .dataframe thead th {\n",
       "        text-align: right;\n",
       "    }\n",
       "</style>\n",
       "<table border=\"1\" class=\"dataframe\">\n",
       "  <thead>\n",
       "    <tr style=\"text-align: right;\">\n",
       "      <th></th>\n",
       "      <th>Id</th>\n",
       "      <th>emotion</th>\n",
       "      <th>Tweet</th>\n",
       "      <th>number_of_exclamation</th>\n",
       "      <th>number_of_questionmark</th>\n",
       "      <th>number_of_hashtag</th>\n",
       "      <th>number_of_mention</th>\n",
       "      <th>number_of_quotes</th>\n",
       "      <th>number_of_underscore</th>\n",
       "      <th>splitted_text</th>\n",
       "      <th>number_of_positive_emo</th>\n",
       "      <th>number_of_negative_emo</th>\n",
       "    </tr>\n",
       "  </thead>\n",
       "  <tbody>\n",
       "    <tr>\n",
       "      <th>0</th>\n",
       "      <td>635769805279248384</td>\n",
       "      <td>negative</td>\n",
       "      <td>Not Available</td>\n",
       "      <td>0</td>\n",
       "      <td>0</td>\n",
       "      <td>0</td>\n",
       "      <td>0</td>\n",
       "      <td>0</td>\n",
       "      <td>0</td>\n",
       "      <td>[Not, Available]</td>\n",
       "      <td>0</td>\n",
       "      <td>0</td>\n",
       "    </tr>\n",
       "    <tr>\n",
       "      <th>1</th>\n",
       "      <td>635930169241374720</td>\n",
       "      <td>neutral</td>\n",
       "      <td>IOS 9 App Transport Security. Mm need to check...</td>\n",
       "      <td>0</td>\n",
       "      <td>0</td>\n",
       "      <td>0</td>\n",
       "      <td>0</td>\n",
       "      <td>0</td>\n",
       "      <td>0</td>\n",
       "      <td>[IOS, 9, App, Transport, Security., Mm, need, ...</td>\n",
       "      <td>0</td>\n",
       "      <td>0</td>\n",
       "    </tr>\n",
       "    <tr>\n",
       "      <th>2</th>\n",
       "      <td>635950258682523648</td>\n",
       "      <td>neutral</td>\n",
       "      <td>Mar if you have an iOS device, you should down...</td>\n",
       "      <td>0</td>\n",
       "      <td>0</td>\n",
       "      <td>0</td>\n",
       "      <td>0</td>\n",
       "      <td>0</td>\n",
       "      <td>0</td>\n",
       "      <td>[Mar, if, you, have, an, iOS, device,, you, sh...</td>\n",
       "      <td>0</td>\n",
       "      <td>0</td>\n",
       "    </tr>\n",
       "    <tr>\n",
       "      <th>3</th>\n",
       "      <td>636030803433009153</td>\n",
       "      <td>negative</td>\n",
       "      <td>@jimmie_vanagon my phone does not run on lates...</td>\n",
       "      <td>0</td>\n",
       "      <td>0</td>\n",
       "      <td>0</td>\n",
       "      <td>1</td>\n",
       "      <td>0</td>\n",
       "      <td>1</td>\n",
       "      <td>[@jimmie_vanagon, my, phone, does, not, run, o...</td>\n",
       "      <td>0</td>\n",
       "      <td>0</td>\n",
       "    </tr>\n",
       "    <tr>\n",
       "      <th>4</th>\n",
       "      <td>636100906224848896</td>\n",
       "      <td>positive</td>\n",
       "      <td>Not sure how to start your publication on iOS?...</td>\n",
       "      <td>0</td>\n",
       "      <td>1</td>\n",
       "      <td>0</td>\n",
       "      <td>0</td>\n",
       "      <td>1</td>\n",
       "      <td>0</td>\n",
       "      <td>[Not, sure, how, to, start, your, publication,...</td>\n",
       "      <td>0</td>\n",
       "      <td>0</td>\n",
       "    </tr>\n",
       "  </tbody>\n",
       "</table>\n",
       "</div>"
      ],
      "text/plain": [
       "                   Id   emotion  \\\n",
       "0  635769805279248384  negative   \n",
       "1  635930169241374720   neutral   \n",
       "2  635950258682523648   neutral   \n",
       "3  636030803433009153  negative   \n",
       "4  636100906224848896  positive   \n",
       "\n",
       "                                               Tweet  number_of_exclamation  \\\n",
       "0                                      Not Available                      0   \n",
       "1  IOS 9 App Transport Security. Mm need to check...                      0   \n",
       "2  Mar if you have an iOS device, you should down...                      0   \n",
       "3  @jimmie_vanagon my phone does not run on lates...                      0   \n",
       "4  Not sure how to start your publication on iOS?...                      0   \n",
       "\n",
       "   number_of_questionmark  number_of_hashtag  number_of_mention  \\\n",
       "0                       0                  0                  0   \n",
       "1                       0                  0                  0   \n",
       "2                       0                  0                  0   \n",
       "3                       0                  0                  1   \n",
       "4                       1                  0                  0   \n",
       "\n",
       "   number_of_quotes  number_of_underscore  \\\n",
       "0                 0                     0   \n",
       "1                 0                     0   \n",
       "2                 0                     0   \n",
       "3                 0                     1   \n",
       "4                 1                     0   \n",
       "\n",
       "                                       splitted_text  number_of_positive_emo  \\\n",
       "0                                   [Not, Available]                       0   \n",
       "1  [IOS, 9, App, Transport, Security., Mm, need, ...                       0   \n",
       "2  [Mar, if, you, have, an, iOS, device,, you, sh...                       0   \n",
       "3  [@jimmie_vanagon, my, phone, does, not, run, o...                       0   \n",
       "4  [Not, sure, how, to, start, your, publication,...                       0   \n",
       "\n",
       "   number_of_negative_emo  \n",
       "0                       0  \n",
       "1                       0  \n",
       "2                       0  \n",
       "3                       0  \n",
       "4                       0  "
      ]
     },
     "execution_count": 494,
     "metadata": {},
     "output_type": "execute_result"
    }
   ],
   "source": [
    "processed_data .head()"
   ]
  },
  {
   "cell_type": "code",
   "execution_count": 498,
   "metadata": {},
   "outputs": [
    {
     "data": {
      "text/html": [
       "<div>\n",
       "<style scoped>\n",
       "    .dataframe tbody tr th:only-of-type {\n",
       "        vertical-align: middle;\n",
       "    }\n",
       "\n",
       "    .dataframe tbody tr th {\n",
       "        vertical-align: top;\n",
       "    }\n",
       "\n",
       "    .dataframe thead th {\n",
       "        text-align: right;\n",
       "    }\n",
       "</style>\n",
       "<table border=\"1\" class=\"dataframe\">\n",
       "  <thead>\n",
       "    <tr style=\"text-align: right;\">\n",
       "      <th></th>\n",
       "      <th>Id</th>\n",
       "      <th>emotion</th>\n",
       "      <th>Tweet</th>\n",
       "      <th>number_of_exclamation</th>\n",
       "      <th>number_of_questionmark</th>\n",
       "      <th>number_of_hashtag</th>\n",
       "      <th>number_of_mention</th>\n",
       "      <th>number_of_quotes</th>\n",
       "      <th>number_of_underscore</th>\n",
       "      <th>number_of_positive_emo</th>\n",
       "      <th>number_of_negative_emo</th>\n",
       "    </tr>\n",
       "  </thead>\n",
       "  <tbody>\n",
       "    <tr>\n",
       "      <th>0</th>\n",
       "      <td>635769805279248384</td>\n",
       "      <td>negative</td>\n",
       "      <td>Not Available</td>\n",
       "      <td>0</td>\n",
       "      <td>0</td>\n",
       "      <td>0</td>\n",
       "      <td>0</td>\n",
       "      <td>0</td>\n",
       "      <td>0</td>\n",
       "      <td>0</td>\n",
       "      <td>0</td>\n",
       "    </tr>\n",
       "    <tr>\n",
       "      <th>1</th>\n",
       "      <td>635930169241374720</td>\n",
       "      <td>neutral</td>\n",
       "      <td>IOS 9 App Transport Security. Mm need to check...</td>\n",
       "      <td>0</td>\n",
       "      <td>0</td>\n",
       "      <td>0</td>\n",
       "      <td>0</td>\n",
       "      <td>0</td>\n",
       "      <td>0</td>\n",
       "      <td>0</td>\n",
       "      <td>0</td>\n",
       "    </tr>\n",
       "    <tr>\n",
       "      <th>2</th>\n",
       "      <td>635950258682523648</td>\n",
       "      <td>neutral</td>\n",
       "      <td>Mar if you have an iOS device, you should down...</td>\n",
       "      <td>0</td>\n",
       "      <td>0</td>\n",
       "      <td>0</td>\n",
       "      <td>0</td>\n",
       "      <td>0</td>\n",
       "      <td>0</td>\n",
       "      <td>0</td>\n",
       "      <td>0</td>\n",
       "    </tr>\n",
       "    <tr>\n",
       "      <th>3</th>\n",
       "      <td>636030803433009153</td>\n",
       "      <td>negative</td>\n",
       "      <td>@jimmie_vanagon my phone does not run on lates...</td>\n",
       "      <td>0</td>\n",
       "      <td>0</td>\n",
       "      <td>0</td>\n",
       "      <td>1</td>\n",
       "      <td>0</td>\n",
       "      <td>1</td>\n",
       "      <td>0</td>\n",
       "      <td>0</td>\n",
       "    </tr>\n",
       "    <tr>\n",
       "      <th>4</th>\n",
       "      <td>636100906224848896</td>\n",
       "      <td>positive</td>\n",
       "      <td>Not sure how to start your publication on iOS?...</td>\n",
       "      <td>0</td>\n",
       "      <td>1</td>\n",
       "      <td>0</td>\n",
       "      <td>0</td>\n",
       "      <td>1</td>\n",
       "      <td>0</td>\n",
       "      <td>0</td>\n",
       "      <td>0</td>\n",
       "    </tr>\n",
       "  </tbody>\n",
       "</table>\n",
       "</div>"
      ],
      "text/plain": [
       "                   Id   emotion  \\\n",
       "0  635769805279248384  negative   \n",
       "1  635930169241374720   neutral   \n",
       "2  635950258682523648   neutral   \n",
       "3  636030803433009153  negative   \n",
       "4  636100906224848896  positive   \n",
       "\n",
       "                                               Tweet  number_of_exclamation  \\\n",
       "0                                      Not Available                      0   \n",
       "1  IOS 9 App Transport Security. Mm need to check...                      0   \n",
       "2  Mar if you have an iOS device, you should down...                      0   \n",
       "3  @jimmie_vanagon my phone does not run on lates...                      0   \n",
       "4  Not sure how to start your publication on iOS?...                      0   \n",
       "\n",
       "   number_of_questionmark  number_of_hashtag  number_of_mention  \\\n",
       "0                       0                  0                  0   \n",
       "1                       0                  0                  0   \n",
       "2                       0                  0                  0   \n",
       "3                       0                  0                  1   \n",
       "4                       1                  0                  0   \n",
       "\n",
       "   number_of_quotes  number_of_underscore  number_of_positive_emo  \\\n",
       "0                 0                     0                       0   \n",
       "1                 0                     0                       0   \n",
       "2                 0                     0                       0   \n",
       "3                 0                     1                       0   \n",
       "4                 1                     0                       0   \n",
       "\n",
       "   number_of_negative_emo  \n",
       "0                       0  \n",
       "1                       0  \n",
       "2                       0  \n",
       "3                       0  \n",
       "4                       0  "
      ]
     },
     "execution_count": 498,
     "metadata": {},
     "output_type": "execute_result"
    }
   ],
   "source": [
    "train_data.head()"
   ]
  },
  {
   "cell_type": "code",
   "execution_count": 495,
   "metadata": {},
   "outputs": [],
   "source": [
    "train_data['number_of_positive_emo'] = positive_emo\n",
    "train_data['number_of_negative_emo'] = negative_emo"
   ]
  },
  {
   "cell_type": "markdown",
   "metadata": {},
   "source": [
    "## WHY EXTRA FEATURES"
   ]
  },
  {
   "cell_type": "markdown",
   "metadata": {},
   "source": [
    "Let's see how (some) of the extra features distribute the data set. Some of them, i.e \n",
    "* number of exclamation marks, \n",
    "* number of pos/neg emoticons \n",
    "\n",
    "do this surprisingly well. Notwithstanding the good severance, those features seldom transpire only on a small subset of the training dataset."
   ]
  },
  {
   "cell_type": "code",
   "execution_count": 497,
   "metadata": {},
   "outputs": [
    {
     "data": {
      "image/png": "[encoded data removed]",
      "text/plain": [
       "<Figure size 432x288 with 1 Axes>"
      ]
     },
     "metadata": {
      "needs_background": "light"
     },
     "output_type": "display_data"
    }
   ],
   "source": [
    "sns.barplot(x='emotion', y='number_of_mention', data=train_data)\n",
    "sns.despine()\n",
    "plt.tight_layout()"
   ]
  },
  {
   "cell_type": "code",
   "execution_count": 499,
   "metadata": {},
   "outputs": [
    {
     "data": {
      "image/png": "[encoded data removed]",
      "text/plain": [
       "<Figure size 432x288 with 1 Axes>"
      ]
     },
     "metadata": {
      "needs_background": "light"
     },
     "output_type": "display_data"
    }
   ],
   "source": [
    "sns.barplot(x='emotion', y='number_of_negative_emo', data=train_data)\n",
    "sns.despine()\n",
    "plt.tight_layout()"
   ]
  },
  {
   "cell_type": "code",
   "execution_count": 500,
   "metadata": {},
   "outputs": [
    {
     "data": {
      "image/png": "[encoded data removed]",
      "text/plain": [
       "<Figure size 432x288 with 1 Axes>"
      ]
     },
     "metadata": {
      "needs_background": "light"
     },
     "output_type": "display_data"
    }
   ],
   "source": [
    "sns.barplot(x='emotion', y='number_of_questionmark', data=train_data)\n",
    "sns.despine()\n",
    "plt.tight_layout()"
   ]
  },
  {
   "cell_type": "code",
   "execution_count": 501,
   "metadata": {},
   "outputs": [
    {
     "data": {
      "image/png": "[encoded data removed]",
      "text/plain": [
       "<Figure size 432x288 with 1 Axes>"
      ]
     },
     "metadata": {
      "needs_background": "light"
     },
     "output_type": "display_data"
    }
   ],
   "source": [
    "sns.barplot(x='emotion', y='number_of_exclamation', data=train_data)\n",
    "sns.despine()\n",
    "plt.tight_layout()"
   ]
  },
  {
   "cell_type": "code",
   "execution_count": 502,
   "metadata": {
    "scrolled": true
   },
   "outputs": [
    {
     "data": {
      "image/png": "[encoded data removed]",
      "text/plain": [
       "<Figure size 432x288 with 1 Axes>"
      ]
     },
     "metadata": {
      "needs_background": "light"
     },
     "output_type": "display_data"
    }
   ],
   "source": [
    "sns.barplot(x='emotion', y='number_of_positive_emo', data=train_data)\n",
    "sns.despine()\n",
    "plt.tight_layout()"
   ]
  },
  {
   "cell_type": "code",
   "execution_count": 503,
   "metadata": {},
   "outputs": [
    {
     "data": {
      "image/png": "[encoded data removed]",
      "text/plain": [
       "<Figure size 432x288 with 1 Axes>"
      ]
     },
     "metadata": {
      "needs_background": "light"
     },
     "output_type": "display_data"
    }
   ],
   "source": [
    "sns.barplot(x='emotion', y='number_of_hashtag', data=train_data)\n",
    "sns.despine()\n",
    "plt.tight_layout()"
   ]
  },
  {
   "cell_type": "code",
   "execution_count": 504,
   "metadata": {},
   "outputs": [
    {
     "data": {
      "image/png": "[encoded data removed]",
      "text/plain": [
       "<Figure size 432x288 with 1 Axes>"
      ]
     },
     "metadata": {
      "needs_background": "light"
     },
     "output_type": "display_data"
    }
   ],
   "source": [
    "sns.barplot(x='emotion', y='number_of_underscore', data=train_data)\n",
    "sns.despine()\n",
    "plt.tight_layout()"
   ]
  },
  {
   "cell_type": "markdown",
   "metadata": {},
   "source": [
    "## Preapre training data for model"
   ]
  },
  {
   "cell_type": "code",
   "execution_count": 505,
   "metadata": {},
   "outputs": [
    {
     "data": {
      "text/html": [
       "<div>\n",
       "<style scoped>\n",
       "    .dataframe tbody tr th:only-of-type {\n",
       "        vertical-align: middle;\n",
       "    }\n",
       "\n",
       "    .dataframe tbody tr th {\n",
       "        vertical-align: top;\n",
       "    }\n",
       "\n",
       "    .dataframe thead th {\n",
       "        text-align: right;\n",
       "    }\n",
       "</style>\n",
       "<table border=\"1\" class=\"dataframe\">\n",
       "  <thead>\n",
       "    <tr style=\"text-align: right;\">\n",
       "      <th></th>\n",
       "      <th>Id</th>\n",
       "      <th>emotion</th>\n",
       "      <th>Tweet</th>\n",
       "      <th>number_of_exclamation</th>\n",
       "      <th>number_of_questionmark</th>\n",
       "      <th>number_of_hashtag</th>\n",
       "      <th>number_of_mention</th>\n",
       "      <th>number_of_quotes</th>\n",
       "      <th>number_of_underscore</th>\n",
       "      <th>number_of_positive_emo</th>\n",
       "      <th>number_of_negative_emo</th>\n",
       "    </tr>\n",
       "  </thead>\n",
       "  <tbody>\n",
       "    <tr>\n",
       "      <th>0</th>\n",
       "      <td>635769805279248384</td>\n",
       "      <td>negative</td>\n",
       "      <td>Not Available</td>\n",
       "      <td>0</td>\n",
       "      <td>0</td>\n",
       "      <td>0</td>\n",
       "      <td>0</td>\n",
       "      <td>0</td>\n",
       "      <td>0</td>\n",
       "      <td>0</td>\n",
       "      <td>0</td>\n",
       "    </tr>\n",
       "    <tr>\n",
       "      <th>1</th>\n",
       "      <td>635930169241374720</td>\n",
       "      <td>neutral</td>\n",
       "      <td>IOS 9 App Transport Security. Mm need to check...</td>\n",
       "      <td>0</td>\n",
       "      <td>0</td>\n",
       "      <td>0</td>\n",
       "      <td>0</td>\n",
       "      <td>0</td>\n",
       "      <td>0</td>\n",
       "      <td>0</td>\n",
       "      <td>0</td>\n",
       "    </tr>\n",
       "    <tr>\n",
       "      <th>2</th>\n",
       "      <td>635950258682523648</td>\n",
       "      <td>neutral</td>\n",
       "      <td>Mar if you have an iOS device, you should down...</td>\n",
       "      <td>0</td>\n",
       "      <td>0</td>\n",
       "      <td>0</td>\n",
       "      <td>0</td>\n",
       "      <td>0</td>\n",
       "      <td>0</td>\n",
       "      <td>0</td>\n",
       "      <td>0</td>\n",
       "    </tr>\n",
       "    <tr>\n",
       "      <th>3</th>\n",
       "      <td>636030803433009153</td>\n",
       "      <td>negative</td>\n",
       "      <td>@jimmie_vanagon my phone does not run on lates...</td>\n",
       "      <td>0</td>\n",
       "      <td>0</td>\n",
       "      <td>0</td>\n",
       "      <td>1</td>\n",
       "      <td>0</td>\n",
       "      <td>1</td>\n",
       "      <td>0</td>\n",
       "      <td>0</td>\n",
       "    </tr>\n",
       "    <tr>\n",
       "      <th>4</th>\n",
       "      <td>636100906224848896</td>\n",
       "      <td>positive</td>\n",
       "      <td>Not sure how to start your publication on iOS?...</td>\n",
       "      <td>0</td>\n",
       "      <td>1</td>\n",
       "      <td>0</td>\n",
       "      <td>0</td>\n",
       "      <td>1</td>\n",
       "      <td>0</td>\n",
       "      <td>0</td>\n",
       "      <td>0</td>\n",
       "    </tr>\n",
       "  </tbody>\n",
       "</table>\n",
       "</div>"
      ],
      "text/plain": [
       "                   Id   emotion  \\\n",
       "0  635769805279248384  negative   \n",
       "1  635930169241374720   neutral   \n",
       "2  635950258682523648   neutral   \n",
       "3  636030803433009153  negative   \n",
       "4  636100906224848896  positive   \n",
       "\n",
       "                                               Tweet  number_of_exclamation  \\\n",
       "0                                      Not Available                      0   \n",
       "1  IOS 9 App Transport Security. Mm need to check...                      0   \n",
       "2  Mar if you have an iOS device, you should down...                      0   \n",
       "3  @jimmie_vanagon my phone does not run on lates...                      0   \n",
       "4  Not sure how to start your publication on iOS?...                      0   \n",
       "\n",
       "   number_of_questionmark  number_of_hashtag  number_of_mention  \\\n",
       "0                       0                  0                  0   \n",
       "1                       0                  0                  0   \n",
       "2                       0                  0                  0   \n",
       "3                       0                  0                  1   \n",
       "4                       1                  0                  0   \n",
       "\n",
       "   number_of_quotes  number_of_underscore  number_of_positive_emo  \\\n",
       "0                 0                     0                       0   \n",
       "1                 0                     0                       0   \n",
       "2                 0                     0                       0   \n",
       "3                 0                     1                       0   \n",
       "4                 1                     0                       0   \n",
       "\n",
       "   number_of_negative_emo  \n",
       "0                       0  \n",
       "1                       0  \n",
       "2                       0  \n",
       "3                       0  \n",
       "4                       0  "
      ]
     },
     "execution_count": 505,
     "metadata": {},
     "output_type": "execute_result"
    }
   ],
   "source": [
    "train_data.head()"
   ]
  },
  {
   "cell_type": "code",
   "execution_count": 512,
   "metadata": {
    "scrolled": true
   },
   "outputs": [],
   "source": [
    "# apply the clean tweet function\n",
    "train_data['Tweet'] = train_data['Tweet'].apply(clean_tweets)"
   ]
  },
  {
   "cell_type": "code",
   "execution_count": 513,
   "metadata": {},
   "outputs": [],
   "source": [
    "## Tokenize data\n",
    "train_data['text'] = train_data['Tweet'].apply(tokenize)\n",
    "train_data['tokenized'] = train_data['text'].apply(stemming)"
   ]
  },
  {
   "cell_type": "code",
   "execution_count": 520,
   "metadata": {},
   "outputs": [],
   "source": [
    "## BAG OF WORDS\n",
    "wordlist= []\n",
    "if os.path.isfile(\"wordlist.csv\"):\n",
    "    word_df = pd.read_csv(\"wordlist.csv\")\n",
    "    word_df = word_df[word_df[\"occurrences\"] > 3]\n",
    "    wordlist = list(word_df.loc[:, \"word\"])\n",
    "\n",
    "label_column = [\"label\"]\n",
    "columns = label_column + list(map(lambda w: w + \"_bow\",wordlist))\n",
    "labels = []\n",
    "rows = []\n",
    "for idx in train_data.index:\n",
    "    current_row = []\n",
    "        # add label\n",
    "    current_label = train_data.loc[idx, \"emotion\"]\n",
    "    labels.append(current_label)\n",
    "    current_row.append(current_label)\n",
    "\n",
    "    # add bag-of-words\n",
    "    tokens = set(train_data.loc[idx, \"text\"])\n",
    "    for _, word in enumerate(wordlist):\n",
    "        current_row.append(1 if word in tokens else 0)\n",
    "\n",
    "    rows.append(current_row)\n",
    "\n",
    "data_model = pd.DataFrame(rows, columns=columns)\n",
    "data_labels = pd.Series(labels)\n",
    "\n"
   ]
  },
  {
   "cell_type": "code",
   "execution_count": 521,
   "metadata": {},
   "outputs": [],
   "source": [
    "dat1 = train_data\n",
    "dat2 = data_model\n",
    "\n",
    "dat1 = dat1.reset_index(drop=True)\n",
    "dat2 = dat2.reset_index(drop=True)\n",
    "\n",
    "data_model = dat1.join(dat2)"
   ]
  },
  {
   "cell_type": "code",
   "execution_count": 522,
   "metadata": {
    "scrolled": true
   },
   "outputs": [
    {
     "data": {
      "text/plain": [
       "Index(['Id', 'emotion', 'Tweet', 'number_of_exclamation',\n",
       "       'number_of_questionmark', 'number_of_hashtag', 'number_of_mention',\n",
       "       'number_of_quotes', 'number_of_underscore', 'number_of_positive_emo',\n",
       "       'number_of_negative_emo', 'text', 'tokenized'],\n",
       "      dtype='object')"
      ]
     },
     "execution_count": 522,
     "metadata": {},
     "output_type": "execute_result"
    }
   ],
   "source": [
    "train_data.columns"
   ]
  },
  {
   "cell_type": "code",
   "execution_count": 523,
   "metadata": {},
   "outputs": [],
   "source": [
    "## Drop the columns in data_model\n",
    "data_model = data_model.drop(columns=['emotion','Tweet','text', 'tokenized','Id'], axis=1)"
   ]
  },
  {
   "cell_type": "raw",
   "metadata": {},
   "source": [
    "data_model.head()"
   ]
  },
  {
   "cell_type": "markdown",
   "metadata": {},
   "source": [
    "## Experiment 2: Added feature + Random Forest"
   ]
  },
  {
   "cell_type": "code",
   "execution_count": 524,
   "metadata": {},
   "outputs": [
    {
     "name": "stdout",
     "output_type": "stream",
     "text": [
      "\n",
      "---------------------------------------------------------\n",
      "Testing RandomForestClassifier\n",
      "Learing time 8.113479137420654s\n",
      "Predicting time 0.22267484664916992s\n",
      "=================== Results ===================\n",
      "            Negative     Neutral     Positive\n",
      "F1       [0.19895288 0.4544     0.69230769]\n",
      "Precision[0.57575758 0.44724409 0.61926606]\n",
      "Recall   [0.12025316 0.46178862 0.78488372]\n",
      "Accuracy 0.5566722501395869\n",
      "===============================================\n"
     ]
    }
   ],
   "source": [
    "from sklearn.ensemble import RandomForestClassifier\n",
    "X_train, X_test, y_train, y_test = train_test_split(data_model.drop(columns='label',axis=1),data_model['label'] , test_size=0.3)\n",
    "precision, recall, accuracy, f1 = test_classifier(X_train, y_train, X_test, y_test, RandomForestClassifier(random_state=seed,n_estimators=403,n_jobs=-1))\n"
   ]
  },
  {
   "cell_type": "code",
   "execution_count": 525,
   "metadata": {
    "scrolled": true
   },
   "outputs": [
    {
     "name": "stdout",
     "output_type": "stream",
     "text": [
      "===============================================\n",
      "Crossvalidating RandomForestClassifier...\n",
      "Crosvalidation completed in 113.88454985618591s\n",
      "Accuracy: [0.53815261 0.51807229 0.40963855 0.30254351 0.39812332 0.51006711\n",
      " 0.53288591 0.53959732]\n",
      "Average accuracy: 0.46863507764316226\n",
      "===============================================\n"
     ]
    }
   ],
   "source": [
    "rf_acc = cv(RandomForestClassifier(n_estimators=403,n_jobs=-1, random_state=seed),data_model.drop(columns='label',axis=1), data_model['label'])"
   ]
  },
  {
   "cell_type": "markdown",
   "metadata": {},
   "source": [
    "## Experiment 3: Added Feature + XGBoost"
   ]
  },
  {
   "cell_type": "code",
   "execution_count": 526,
   "metadata": {},
   "outputs": [
    {
     "name": "stdout",
     "output_type": "stream",
     "text": [
      "Collecting xgboost\n",
      "  Downloading xgboost-1.3.1-py3-none-macosx_10_14_x86_64.macosx_10_15_x86_64.macosx_11_0_x86_64.whl (1.2 MB)\n",
      "\u001b[K     |████████████████████████████████| 1.2 MB 7.9 MB/s eta 0:00:01\n",
      "\u001b[?25hRequirement already satisfied: numpy in /Users/sphinx/anaconda3/lib/python3.7/site-packages (from xgboost) (1.19.5)\n",
      "Requirement already satisfied: scipy in /Users/sphinx/anaconda3/lib/python3.7/site-packages (from xgboost) (1.3.0)\n",
      "Installing collected packages: xgboost\n",
      "Successfully installed xgboost-1.3.1\n"
     ]
    }
   ],
   "source": [
    "!pip install xgboost"
   ]
  },
  {
   "cell_type": "code",
   "execution_count": 2,
   "metadata": {},
   "outputs": [
    {
     "name": "stdout",
     "output_type": "stream",
     "text": [
      "Collecting xgboost\n",
      "  Downloading xgboost-1.3.3-py3-none-win_amd64.whl (95.2 MB)\n",
      "Requirement already satisfied: numpy in c:\\programdata\\anaconda3\\lib\\site-packages (from xgboost) (1.19.1)\n",
      "Requirement already satisfied: scipy in c:\\programdata\\anaconda3\\lib\\site-packages (from xgboost) (1.5.2)\n",
      "Installing collected packages: xgboost\n",
      "Successfully installed xgboost-1.3.3\n"
     ]
    }
   ],
   "source": [
    "!pip install xgboost"
   ]
  },
  {
   "cell_type": "code",
   "execution_count": 3,
   "metadata": {},
   "outputs": [],
   "source": [
    "from xgboost import XGBClassifier as XGBoostClassifier"
   ]
  },
  {
   "cell_type": "code",
   "execution_count": 529,
   "metadata": {
    "scrolled": true
   },
   "outputs": [
    {
     "ename": "NameError",
     "evalue": "name 'XGBoostClassifier' is not defined",
     "output_type": "error",
     "traceback": [
      "\u001b[0;31m---------------------------------------------------------------------------\u001b[0m",
      "\u001b[0;31mNameError\u001b[0m                                 Traceback (most recent call last)",
      "\u001b[0;32m<ipython-input-529-878392f32c3b>\u001b[0m in \u001b[0;36m<module>\u001b[0;34m\u001b[0m\n\u001b[1;32m      1\u001b[0m \u001b[0mX_train\u001b[0m\u001b[0;34m,\u001b[0m \u001b[0mX_test\u001b[0m\u001b[0;34m,\u001b[0m \u001b[0my_train\u001b[0m\u001b[0;34m,\u001b[0m \u001b[0my_test\u001b[0m \u001b[0;34m=\u001b[0m \u001b[0mtrain_test_split\u001b[0m\u001b[0;34m(\u001b[0m\u001b[0mdata_model\u001b[0m\u001b[0;34m.\u001b[0m\u001b[0mdrop\u001b[0m\u001b[0;34m(\u001b[0m\u001b[0mcolumns\u001b[0m\u001b[0;34m=\u001b[0m\u001b[0;34m'label'\u001b[0m\u001b[0;34m,\u001b[0m\u001b[0maxis\u001b[0m\u001b[0;34m=\u001b[0m\u001b[0;36m1\u001b[0m\u001b[0;34m)\u001b[0m\u001b[0;34m,\u001b[0m\u001b[0mdata_model\u001b[0m\u001b[0;34m[\u001b[0m\u001b[0;34m'label'\u001b[0m\u001b[0;34m]\u001b[0m \u001b[0;34m,\u001b[0m \u001b[0mtest_size\u001b[0m\u001b[0;34m=\u001b[0m\u001b[0;36m0.3\u001b[0m\u001b[0;34m)\u001b[0m\u001b[0;34m\u001b[0m\u001b[0;34m\u001b[0m\u001b[0m\n\u001b[0;32m----> 2\u001b[0;31m \u001b[0mprecision\u001b[0m\u001b[0;34m,\u001b[0m \u001b[0mrecall\u001b[0m\u001b[0;34m,\u001b[0m \u001b[0maccuracy\u001b[0m\u001b[0;34m,\u001b[0m \u001b[0mf1\u001b[0m \u001b[0;34m=\u001b[0m \u001b[0mtest_classifier\u001b[0m\u001b[0;34m(\u001b[0m\u001b[0mX_train\u001b[0m\u001b[0;34m,\u001b[0m \u001b[0my_train\u001b[0m\u001b[0;34m,\u001b[0m \u001b[0mX_test\u001b[0m\u001b[0;34m,\u001b[0m \u001b[0my_test\u001b[0m\u001b[0;34m,\u001b[0m \u001b[0mXGBoostClassifier\u001b[0m\u001b[0;34m(\u001b[0m\u001b[0mseed\u001b[0m\u001b[0;34m=\u001b[0m\u001b[0mseed\u001b[0m\u001b[0;34m)\u001b[0m\u001b[0;34m)\u001b[0m\u001b[0;34m\u001b[0m\u001b[0;34m\u001b[0m\u001b[0m\n\u001b[0m",
      "\u001b[0;31mNameError\u001b[0m: name 'XGBoostClassifier' is not defined"
     ]
    }
   ],
   "source": [
    "X_train, X_test, y_train, y_test = train_test_split(data_model.drop(columns='label',axis=1),data_model['label'] , test_size=0.3)\n",
    "precision, recall, accuracy, f1 = test_classifier(X_train, y_train, X_test, y_test, XGBoostClassifier(seed=seed))"
   ]
  },
  {
   "cell_type": "markdown",
   "metadata": {},
   "source": [
    "## Experiment 4: Added Feature + Naive Bayes"
   ]
  },
  {
   "cell_type": "code",
   "execution_count": 530,
   "metadata": {},
   "outputs": [
    {
     "name": "stdout",
     "output_type": "stream",
     "text": [
      "\n",
      "---------------------------------------------------------\n",
      "Testing BernoulliNB\n",
      "Learing time 0.25191617012023926s\n",
      "Predicting time 0.0952451229095459s\n",
      "=================== Results ===================\n",
      "            Negative     Neutral     Positive\n",
      "F1       [0.32608696 0.43500425 0.68997429]\n",
      "Precision[0.38659794 0.48393195 0.62827715]\n",
      "Recall   [0.28195489 0.39506173 0.76510832]\n",
      "Accuracy 0.559463986599665\n",
      "===============================================\n"
     ]
    }
   ],
   "source": [
    "X_train, X_test, y_train, y_test = train_test_split(data_model.drop(columns='label',axis=1),data_model['label'] , test_size=0.3)\n",
    "precision, recall, accuracy, f1 = test_classifier(X_train, y_train, X_test, y_test, BernoulliNB())"
   ]
  },
  {
   "cell_type": "markdown",
   "metadata": {},
   "source": [
    "## Test Data"
   ]
  },
  {
   "cell_type": "code",
   "execution_count": 531,
   "metadata": {
    "scrolled": true
   },
   "outputs": [
    {
     "data": {
      "text/html": [
       "<div>\n",
       "<style scoped>\n",
       "    .dataframe tbody tr th:only-of-type {\n",
       "        vertical-align: middle;\n",
       "    }\n",
       "\n",
       "    .dataframe tbody tr th {\n",
       "        vertical-align: top;\n",
       "    }\n",
       "\n",
       "    .dataframe thead th {\n",
       "        text-align: right;\n",
       "    }\n",
       "</style>\n",
       "<table border=\"1\" class=\"dataframe\">\n",
       "  <thead>\n",
       "    <tr style=\"text-align: right;\">\n",
       "      <th></th>\n",
       "      <th>Id</th>\n",
       "      <th>emotion</th>\n",
       "    </tr>\n",
       "  </thead>\n",
       "  <tbody>\n",
       "    <tr>\n",
       "      <th>0</th>\n",
       "      <td>6.289494e+17</td>\n",
       "      <td>dear @Microsoft the newOoffice for Mac is grea...</td>\n",
       "    </tr>\n",
       "    <tr>\n",
       "      <th>1</th>\n",
       "      <td>6.289766e+17</td>\n",
       "      <td>@Microsoft how about you make a system that do...</td>\n",
       "    </tr>\n",
       "    <tr>\n",
       "      <th>2</th>\n",
       "      <td>6.290232e+17</td>\n",
       "      <td>Not Available</td>\n",
       "    </tr>\n",
       "    <tr>\n",
       "      <th>3</th>\n",
       "      <td>6.291792e+17</td>\n",
       "      <td>Not Available</td>\n",
       "    </tr>\n",
       "    <tr>\n",
       "      <th>4</th>\n",
       "      <td>6.291863e+17</td>\n",
       "      <td>If I make a game as a #windows10 Universal App...</td>\n",
       "    </tr>\n",
       "  </tbody>\n",
       "</table>\n",
       "</div>"
      ],
      "text/plain": [
       "             Id                                            emotion\n",
       "0  6.289494e+17  dear @Microsoft the newOoffice for Mac is grea...\n",
       "1  6.289766e+17  @Microsoft how about you make a system that do...\n",
       "2  6.290232e+17                                      Not Available\n",
       "3  6.291792e+17                                      Not Available\n",
       "4  6.291863e+17  If I make a game as a #windows10 Universal App..."
      ]
     },
     "execution_count": 531,
     "metadata": {},
     "output_type": "execute_result"
    }
   ],
   "source": [
    "test_data.head()"
   ]
  },
  {
   "cell_type": "code",
   "execution_count": 532,
   "metadata": {},
   "outputs": [
    {
     "data": {
      "text/plain": [
       "Index(['Id', 'emotion'], dtype='object')"
      ]
     },
     "execution_count": 532,
     "metadata": {},
     "output_type": "execute_result"
    }
   ],
   "source": [
    "test_data.columns"
   ]
  },
  {
   "cell_type": "code",
   "execution_count": 533,
   "metadata": {},
   "outputs": [],
   "source": [
    "# remove the tweets which contains Not available\n",
    "test_data = test_data.rename(columns={\"emotion\": \"Tweet\"})\n",
    "test_data = test_data[test_data['Tweet'] != \"Not Available\"]"
   ]
  },
  {
   "cell_type": "code",
   "execution_count": 534,
   "metadata": {},
   "outputs": [],
   "source": [
    "\n",
    "# Drop null values\n",
    "test_data = test_data.dropna() \n",
    "\n",
    "# add extra features\n",
    "add_extra_feature(test_data, test_data['Tweet'])\n",
    "\n",
    "# Clean tweets\n",
    "test_data['Tweet'] = test_data['Tweet'].apply(clean_tweets)\n",
    "\n",
    "## Tokenize data\n",
    "test_data['text'] = test_data['Tweet'].apply(tokenize)\n",
    "test_data['tokenized'] = test_data['text'].apply(stemming)"
   ]
  },
  {
   "cell_type": "code",
   "execution_count": 535,
   "metadata": {},
   "outputs": [],
   "source": [
    "# wordlist\n",
    "word_list(test_data)"
   ]
  },
  {
   "cell_type": "code",
   "execution_count": 536,
   "metadata": {},
   "outputs": [],
   "source": [
    "## BAG OF WORDS\n",
    "wordlist= []\n",
    "if os.path.isfile(\"wordlist.csv\"):\n",
    "    word_df = pd.read_csv(\"wordlist.csv\")\n",
    "    word_df = word_df[word_df[\"occurrences\"] > 3]\n",
    "    wordlist = list(word_df.loc[:, \"word\"])\n",
    "\n",
    "label_column = [\"label\"]\n",
    "columns = label_column + list(map(lambda w: w + \"_bow\",wordlist))\n",
    "labels = []\n",
    "rows = []\n",
    "for idx in test_data.index:\n",
    "    current_row = []\n",
    "        # add label\n",
    "    current_label = test_data.loc[idx, \"Tweet\"]\n",
    "    labels.append(current_label)\n",
    "    current_row.append(current_label)\n",
    "\n",
    "    # add bag-of-words\n",
    "    tokens = set(test_data.loc[idx, \"text\"])\n",
    "    for _, word in enumerate(wordlist):\n",
    "        current_row.append(1 if word in tokens else 0)\n",
    "\n",
    "    rows.append(current_row)\n",
    "\n",
    "data_model = pd.DataFrame(rows, columns=columns)\n",
    "data_labels = pd.Series(labels)\n",
    "\n"
   ]
  },
  {
   "cell_type": "code",
   "execution_count": 537,
   "metadata": {},
   "outputs": [],
   "source": [
    "dat1 = test_data\n",
    "dat2 = data_model\n",
    "\n",
    "dat1 = dat1.reset_index(drop=True)\n",
    "dat2 = dat2.reset_index(drop=True)\n",
    "\n",
    "data_model = dat1.join(dat2)"
   ]
  },
  {
   "cell_type": "code",
   "execution_count": 538,
   "metadata": {},
   "outputs": [],
   "source": [
    "test_model = pd.DataFrame()\n",
    "test_model['original_id'] = data_model['Id']"
   ]
  },
  {
   "cell_type": "code",
   "execution_count": 539,
   "metadata": {},
   "outputs": [],
   "source": [
    "data_model = data_model.drop(columns=['Tweet','text', 'tokenized','Id'], axis=1)"
   ]
  },
  {
   "cell_type": "code",
   "execution_count": 540,
   "metadata": {},
   "outputs": [],
   "source": [
    "from sklearn.ensemble import RandomForestClassifier"
   ]
  },
  {
   "cell_type": "code",
   "execution_count": 541,
   "metadata": {},
   "outputs": [],
   "source": [
    "RF = RandomForestClassifier(n_estimators=403,max_depth=10)"
   ]
  },
  {
   "cell_type": "code",
   "execution_count": 542,
   "metadata": {},
   "outputs": [
    {
     "data": {
      "text/plain": [
       "RandomForestClassifier(bootstrap=True, class_weight=None, criterion='gini',\n",
       "                       max_depth=10, max_features='auto', max_leaf_nodes=None,\n",
       "                       min_impurity_decrease=0.0, min_impurity_split=None,\n",
       "                       min_samples_leaf=1, min_samples_split=2,\n",
       "                       min_weight_fraction_leaf=0.0, n_estimators=403,\n",
       "                       n_jobs=None, oob_score=False, random_state=None,\n",
       "                       verbose=0, warm_start=False)"
      ]
     },
     "execution_count": 542,
     "metadata": {},
     "output_type": "execute_result"
    }
   ],
   "source": [
    "RF.fit(data_model.drop(columns='label',axis=1),data_model['label'])"
   ]
  },
  {
   "cell_type": "code",
   "execution_count": 543,
   "metadata": {},
   "outputs": [],
   "source": [
    "predictions = RF.predict(data_model.drop(columns='label',axis=1))"
   ]
  },
  {
   "cell_type": "code",
   "execution_count": 544,
   "metadata": {},
   "outputs": [],
   "source": [
    "results = pd.DataFrame([],columns=[\"Id\",\"Category\"])\n",
    "results[\"Id\"] = test_model[\"original_id\"].astype(\"int64\")\n",
    "results[\"Category\"] = predictions\n",
    "results.to_csv(\"results_xgb.csv\",index=False)"
   ]
  },
  {
   "cell_type": "code",
   "execution_count": 545,
   "metadata": {},
   "outputs": [
    {
     "data": {
      "text/html": [
       "<div>\n",
       "<style scoped>\n",
       "    .dataframe tbody tr th:only-of-type {\n",
       "        vertical-align: middle;\n",
       "    }\n",
       "\n",
       "    .dataframe tbody tr th {\n",
       "        vertical-align: top;\n",
       "    }\n",
       "\n",
       "    .dataframe thead th {\n",
       "        text-align: right;\n",
       "    }\n",
       "</style>\n",
       "<table border=\"1\" class=\"dataframe\">\n",
       "  <thead>\n",
       "    <tr style=\"text-align: right;\">\n",
       "      <th></th>\n",
       "      <th>Id</th>\n",
       "      <th>Category</th>\n",
       "    </tr>\n",
       "  </thead>\n",
       "  <tbody>\n",
       "    <tr>\n",
       "      <th>0</th>\n",
       "      <td>628949369883000832</td>\n",
       "      <td>dear the newOoffice for Mac is great and all b...</td>\n",
       "    </tr>\n",
       "    <tr>\n",
       "      <th>1</th>\n",
       "      <td>628976607420645376</td>\n",
       "      <td>how about you make a system that doesnt eat my...</td>\n",
       "    </tr>\n",
       "    <tr>\n",
       "      <th>2</th>\n",
       "      <td>629186282179153920</td>\n",
       "      <td>If I make a game as a windows Universal App Wi...</td>\n",
       "    </tr>\n",
       "    <tr>\n",
       "      <th>3</th>\n",
       "      <td>629226490152914944</td>\n",
       "      <td>Microsoft I may not prefer your gaming branch ...</td>\n",
       "    </tr>\n",
       "    <tr>\n",
       "      <th>4</th>\n",
       "      <td>629345637155360768</td>\n",
       "      <td>I will be downgrading and let Windows be out f...</td>\n",
       "    </tr>\n",
       "    <tr>\n",
       "      <th>5</th>\n",
       "      <td>629394528336637952</td>\n",
       "      <td>nd computer with same error Windowsfail Guess ...</td>\n",
       "    </tr>\n",
       "    <tr>\n",
       "      <th>6</th>\n",
       "      <td>629650766580609024</td>\n",
       "      <td>Just ordered my st ever tablet Surface Pro  iG...</td>\n",
       "    </tr>\n",
       "    <tr>\n",
       "      <th>7</th>\n",
       "      <td>629797991826722816</td>\n",
       "      <td>After attempting a reinstall it still bricks s...</td>\n",
       "    </tr>\n",
       "    <tr>\n",
       "      <th>8</th>\n",
       "      <td>630159517058142208</td>\n",
       "      <td>Bernie Sanders is about to torpedo any chance ...</td>\n",
       "    </tr>\n",
       "    <tr>\n",
       "      <th>9</th>\n",
       "      <td>630542330827771904</td>\n",
       "      <td>Did break Windows  Was working fine on Wednesd...</td>\n",
       "    </tr>\n",
       "    <tr>\n",
       "      <th>10</th>\n",
       "      <td>630636736746422272</td>\n",
       "      <td>spent over  mins amp gave up coz it changes ju...</td>\n",
       "    </tr>\n",
       "    <tr>\n",
       "      <th>11</th>\n",
       "      <td>630807124872970240</td>\n",
       "      <td>the reason I ask is because it may be the manu...</td>\n",
       "    </tr>\n",
       "    <tr>\n",
       "      <th>12</th>\n",
       "      <td>630818265799921664</td>\n",
       "      <td>Innovation for jobs is just around the corner ...</td>\n",
       "    </tr>\n",
       "    <tr>\n",
       "      <th>13</th>\n",
       "      <td>630909171437801472</td>\n",
       "      <td>OK this is my pure speculation  owns the cloud...</td>\n",
       "    </tr>\n",
       "    <tr>\n",
       "      <th>14</th>\n",
       "      <td>630982270409572352</td>\n",
       "      <td>We are still taking registrations for our Educ...</td>\n",
       "    </tr>\n",
       "    <tr>\n",
       "      <th>15</th>\n",
       "      <td>631104156187627520</td>\n",
       "      <td>For the st time has a High Startup impact   Do...</td>\n",
       "    </tr>\n",
       "    <tr>\n",
       "      <th>16</th>\n",
       "      <td>631223085476261888</td>\n",
       "      <td>teens st company failed miserably When Gates a...</td>\n",
       "    </tr>\n",
       "    <tr>\n",
       "      <th>17</th>\n",
       "      <td>631368262979297280</td>\n",
       "      <td>Vote for to become the th Global non profit pa...</td>\n",
       "    </tr>\n",
       "    <tr>\n",
       "      <th>18</th>\n",
       "      <td>631521079245307904</td>\n",
       "      <td>Top  most searched for BacktoSchool topics  th...</td>\n",
       "    </tr>\n",
       "    <tr>\n",
       "      <th>19</th>\n",
       "      <td>631543121407442944</td>\n",
       "      <td>support for  has been terrible On the phone fo...</td>\n",
       "    </tr>\n",
       "    <tr>\n",
       "      <th>20</th>\n",
       "      <td>631696872323850240</td>\n",
       "      <td>Cant wait to see you up here I will be at the ...</td>\n",
       "    </tr>\n",
       "    <tr>\n",
       "      <th>21</th>\n",
       "      <td>631842974268305408</td>\n",
       "      <td>isntall the newest version and you may chance ...</td>\n",
       "    </tr>\n",
       "    <tr>\n",
       "      <th>22</th>\n",
       "      <td>631843393971204096</td>\n",
       "      <td>We have an IOT workshop by at PM on the Friday...</td>\n",
       "    </tr>\n",
       "    <tr>\n",
       "      <th>23</th>\n",
       "      <td>631936716522278912</td>\n",
       "      <td>the option should be in Windows update Youve g...</td>\n",
       "    </tr>\n",
       "    <tr>\n",
       "      <th>24</th>\n",
       "      <td>632374683334258688</td>\n",
       "      <td>Hey I reserved my copy of  back in June but i ...</td>\n",
       "    </tr>\n",
       "    <tr>\n",
       "      <th>25</th>\n",
       "      <td>632536348419690496</td>\n",
       "      <td>Federer will play another final tomorrow This ...</td>\n",
       "    </tr>\n",
       "    <tr>\n",
       "      <th>26</th>\n",
       "      <td>632805868334153728</td>\n",
       "      <td>Is it normal that it takes hours to check the ...</td>\n",
       "    </tr>\n",
       "    <tr>\n",
       "      <th>27</th>\n",
       "      <td>632810315227467776</td>\n",
       "      <td>it doesnt matter where they play what matters ...</td>\n",
       "    </tr>\n",
       "    <tr>\n",
       "      <th>28</th>\n",
       "      <td>632949742750687232</td>\n",
       "      <td>MBA casestudy Namaste  google and CEOs but Mul...</td>\n",
       "    </tr>\n",
       "    <tr>\n",
       "      <th>29</th>\n",
       "      <td>632983468188696576</td>\n",
       "      <td>you may want to fix this</td>\n",
       "    </tr>\n",
       "    <tr>\n",
       "      <th>...</th>\n",
       "      <td>...</td>\n",
       "      <td>...</td>\n",
       "    </tr>\n",
       "    <tr>\n",
       "      <th>3610</th>\n",
       "      <td>639016380847783936</td>\n",
       "      <td>Friday AMs I bring Mom to IHOP in Shrewsbury t...</td>\n",
       "    </tr>\n",
       "    <tr>\n",
       "      <th>3611</th>\n",
       "      <td>639102530971152384</td>\n",
       "      <td>Cool thing about being in college is you can g...</td>\n",
       "    </tr>\n",
       "    <tr>\n",
       "      <th>3612</th>\n",
       "      <td>639244796763197440</td>\n",
       "      <td>Bernie Sanders is about to torpedo any chance ...</td>\n",
       "    </tr>\n",
       "    <tr>\n",
       "      <th>3613</th>\n",
       "      <td>639287851725619200</td>\n",
       "      <td>I feel bad for the people working at ihop tomo...</td>\n",
       "    </tr>\n",
       "    <tr>\n",
       "      <th>3614</th>\n",
       "      <td>639319688070086656</td>\n",
       "      <td>Tomorrow morning Im going to IHOP I gotta tast...</td>\n",
       "    </tr>\n",
       "    <tr>\n",
       "      <th>3615</th>\n",
       "      <td>639431507363414016</td>\n",
       "      <td>nd day back at Stockton and IHOP is the only t...</td>\n",
       "    </tr>\n",
       "    <tr>\n",
       "      <th>3616</th>\n",
       "      <td>639564269420331008</td>\n",
       "      <td>Strongly considering having breakfast at IHOP ...</td>\n",
       "    </tr>\n",
       "    <tr>\n",
       "      <th>3617</th>\n",
       "      <td>639639485207019520</td>\n",
       "      <td>Im going to IHOP after work tomorrow Fuck it</td>\n",
       "    </tr>\n",
       "    <tr>\n",
       "      <th>3618</th>\n",
       "      <td>639645064633823232</td>\n",
       "      <td>If I go to ihop tomorrow Im gonna feel like Im...</td>\n",
       "    </tr>\n",
       "    <tr>\n",
       "      <th>3619</th>\n",
       "      <td>639666970229473280</td>\n",
       "      <td>Boy said Im coming too IHOP tomorrow too I sai...</td>\n",
       "    </tr>\n",
       "    <tr>\n",
       "      <th>3620</th>\n",
       "      <td>639808591529033728</td>\n",
       "      <td>one of my favorite activities is going to IHOP...</td>\n",
       "    </tr>\n",
       "    <tr>\n",
       "      <th>3621</th>\n",
       "      <td>640020822313304064</td>\n",
       "      <td>anyone else down for IHOP with paige and I tom...</td>\n",
       "    </tr>\n",
       "    <tr>\n",
       "      <th>3622</th>\n",
       "      <td>640173861078626304</td>\n",
       "      <td>Dear friends New York is calling and from th t...</td>\n",
       "    </tr>\n",
       "    <tr>\n",
       "      <th>3623</th>\n",
       "      <td>640212997596549120</td>\n",
       "      <td>how about you make a system that doesnt eat my...</td>\n",
       "    </tr>\n",
       "    <tr>\n",
       "      <th>3624</th>\n",
       "      <td>640475498137518080</td>\n",
       "      <td>Bernie Sanders is about to torpedo any chance ...</td>\n",
       "    </tr>\n",
       "    <tr>\n",
       "      <th>3625</th>\n",
       "      <td>640477314023723008</td>\n",
       "      <td>Whos down for Disneyland with and I for my bir...</td>\n",
       "    </tr>\n",
       "    <tr>\n",
       "      <th>3626</th>\n",
       "      <td>640689013788176384</td>\n",
       "      <td>Me eitherbut we got off early friday so some c...</td>\n",
       "    </tr>\n",
       "    <tr>\n",
       "      <th>3627</th>\n",
       "      <td>640704945134661632</td>\n",
       "      <td>definitely going to ihop tomorrow</td>\n",
       "    </tr>\n",
       "    <tr>\n",
       "      <th>3628</th>\n",
       "      <td>640705879520636928</td>\n",
       "      <td>Get paid next Friday so I get to buy Koko and ...</td>\n",
       "    </tr>\n",
       "    <tr>\n",
       "      <th>3629</th>\n",
       "      <td>640728268254019584</td>\n",
       "      <td>A little Bob Marley on this Monday morning to ...</td>\n",
       "    </tr>\n",
       "    <tr>\n",
       "      <th>3630</th>\n",
       "      <td>640731830300340224</td>\n",
       "      <td>If i didnt have work at am tomorrow i really w...</td>\n",
       "    </tr>\n",
       "    <tr>\n",
       "      <th>3631</th>\n",
       "      <td>640758594959450112</td>\n",
       "      <td>Bernie Sanders is about to torpedo any chance ...</td>\n",
       "    </tr>\n",
       "    <tr>\n",
       "      <th>3632</th>\n",
       "      <td>641087370872422400</td>\n",
       "      <td>Floatin soaking up some sun n some Eric church...</td>\n",
       "    </tr>\n",
       "    <tr>\n",
       "      <th>3633</th>\n",
       "      <td>641089872426631168</td>\n",
       "      <td>Will somebody please get Ihop or rainbow tomor...</td>\n",
       "    </tr>\n",
       "    <tr>\n",
       "      <th>3634</th>\n",
       "      <td>641254971401502720</td>\n",
       "      <td>Bernie Sanders is about to torpedo any chance ...</td>\n",
       "    </tr>\n",
       "    <tr>\n",
       "      <th>3635</th>\n",
       "      <td>641371402348679168</td>\n",
       "      <td>Anybody with a Steak amp Shake or IHOP move to...</td>\n",
       "    </tr>\n",
       "    <tr>\n",
       "      <th>3636</th>\n",
       "      <td>641411385700712448</td>\n",
       "      <td>I am assembling an epic Pancake Posse for an I...</td>\n",
       "    </tr>\n",
       "    <tr>\n",
       "      <th>3637</th>\n",
       "      <td>641452712098406400</td>\n",
       "      <td>You broke asses better donate tomorrow if you ...</td>\n",
       "    </tr>\n",
       "    <tr>\n",
       "      <th>3638</th>\n",
       "      <td>635369700298498048</td>\n",
       "      <td>Bernie Sanders is about to torpedo any chance ...</td>\n",
       "    </tr>\n",
       "    <tr>\n",
       "      <th>3639</th>\n",
       "      <td>635930169241374720</td>\n",
       "      <td>IOS  App Transport Security Mm need to check i...</td>\n",
       "    </tr>\n",
       "  </tbody>\n",
       "</table>\n",
       "<p>3640 rows × 2 columns</p>\n",
       "</div>"
      ],
      "text/plain": [
       "                      Id                                           Category\n",
       "0     628949369883000832  dear the newOoffice for Mac is great and all b...\n",
       "1     628976607420645376  how about you make a system that doesnt eat my...\n",
       "2     629186282179153920  If I make a game as a windows Universal App Wi...\n",
       "3     629226490152914944  Microsoft I may not prefer your gaming branch ...\n",
       "4     629345637155360768  I will be downgrading and let Windows be out f...\n",
       "5     629394528336637952  nd computer with same error Windowsfail Guess ...\n",
       "6     629650766580609024  Just ordered my st ever tablet Surface Pro  iG...\n",
       "7     629797991826722816  After attempting a reinstall it still bricks s...\n",
       "8     630159517058142208  Bernie Sanders is about to torpedo any chance ...\n",
       "9     630542330827771904  Did break Windows  Was working fine on Wednesd...\n",
       "10    630636736746422272  spent over  mins amp gave up coz it changes ju...\n",
       "11    630807124872970240  the reason I ask is because it may be the manu...\n",
       "12    630818265799921664  Innovation for jobs is just around the corner ...\n",
       "13    630909171437801472  OK this is my pure speculation  owns the cloud...\n",
       "14    630982270409572352  We are still taking registrations for our Educ...\n",
       "15    631104156187627520  For the st time has a High Startup impact   Do...\n",
       "16    631223085476261888  teens st company failed miserably When Gates a...\n",
       "17    631368262979297280  Vote for to become the th Global non profit pa...\n",
       "18    631521079245307904  Top  most searched for BacktoSchool topics  th...\n",
       "19    631543121407442944  support for  has been terrible On the phone fo...\n",
       "20    631696872323850240  Cant wait to see you up here I will be at the ...\n",
       "21    631842974268305408  isntall the newest version and you may chance ...\n",
       "22    631843393971204096  We have an IOT workshop by at PM on the Friday...\n",
       "23    631936716522278912  the option should be in Windows update Youve g...\n",
       "24    632374683334258688  Hey I reserved my copy of  back in June but i ...\n",
       "25    632536348419690496  Federer will play another final tomorrow This ...\n",
       "26    632805868334153728  Is it normal that it takes hours to check the ...\n",
       "27    632810315227467776  it doesnt matter where they play what matters ...\n",
       "28    632949742750687232  MBA casestudy Namaste  google and CEOs but Mul...\n",
       "29    632983468188696576                          you may want to fix this \n",
       "...                  ...                                                ...\n",
       "3610  639016380847783936  Friday AMs I bring Mom to IHOP in Shrewsbury t...\n",
       "3611  639102530971152384  Cool thing about being in college is you can g...\n",
       "3612  639244796763197440  Bernie Sanders is about to torpedo any chance ...\n",
       "3613  639287851725619200  I feel bad for the people working at ihop tomo...\n",
       "3614  639319688070086656  Tomorrow morning Im going to IHOP I gotta tast...\n",
       "3615  639431507363414016  nd day back at Stockton and IHOP is the only t...\n",
       "3616  639564269420331008  Strongly considering having breakfast at IHOP ...\n",
       "3617  639639485207019520       Im going to IHOP after work tomorrow Fuck it\n",
       "3618  639645064633823232  If I go to ihop tomorrow Im gonna feel like Im...\n",
       "3619  639666970229473280  Boy said Im coming too IHOP tomorrow too I sai...\n",
       "3620  639808591529033728  one of my favorite activities is going to IHOP...\n",
       "3621  640020822313304064  anyone else down for IHOP with paige and I tom...\n",
       "3622  640173861078626304  Dear friends New York is calling and from th t...\n",
       "3623  640212997596549120  how about you make a system that doesnt eat my...\n",
       "3624  640475498137518080  Bernie Sanders is about to torpedo any chance ...\n",
       "3625  640477314023723008  Whos down for Disneyland with and I for my bir...\n",
       "3626  640689013788176384  Me eitherbut we got off early friday so some c...\n",
       "3627  640704945134661632                  definitely going to ihop tomorrow\n",
       "3628  640705879520636928  Get paid next Friday so I get to buy Koko and ...\n",
       "3629  640728268254019584  A little Bob Marley on this Monday morning to ...\n",
       "3630  640731830300340224  If i didnt have work at am tomorrow i really w...\n",
       "3631  640758594959450112  Bernie Sanders is about to torpedo any chance ...\n",
       "3632  641087370872422400  Floatin soaking up some sun n some Eric church...\n",
       "3633  641089872426631168  Will somebody please get Ihop or rainbow tomor...\n",
       "3634  641254971401502720  Bernie Sanders is about to torpedo any chance ...\n",
       "3635  641371402348679168  Anybody with a Steak amp Shake or IHOP move to...\n",
       "3636  641411385700712448  I am assembling an epic Pancake Posse for an I...\n",
       "3637  641452712098406400  You broke asses better donate tomorrow if you ...\n",
       "3638  635369700298498048  Bernie Sanders is about to torpedo any chance ...\n",
       "3639  635930169241374720  IOS  App Transport Security Mm need to check i...\n",
       "\n",
       "[3640 rows x 2 columns]"
      ]
     },
     "execution_count": 545,
     "metadata": {},
     "output_type": "execute_result"
    }
   ],
   "source": [
    "results"
   ]
  },
  {
   "cell_type": "markdown",
   "metadata": {},
   "source": [
    "### Conclusion\n",
    "The increase of microblogging sites like Twitter offers an unparalleled opening to form and employ approaches & technologies that search and mine for sentiments. The work presented in this paper specifies an approach for sentiment analysis on Twitter data. To unseal the sentiment, we extracted the relevant data from the tweets, added the features.\n",
    "The overall tweet sentiment was then calculated using a model that presented in this report. This work is exploratory in nature and the prototype evaluated is a preliminary prototype. \n",
    "The models showed that prediction of text sentiment is a non-trivial task for machine learning. A lot of preprocessing is needed just to be able to run an algorithm. The main problem for sentiment analysis is to craft the machine representation of the text. Simple bag-of-words was definitely not enough to obtain satisfying results, thus a lot of additional features were created basing on common sense (number of emoticons, exclamation marks, number of question mark etc). I think that a slight improvement in classification accuracy for the given training dataset could be developed, but since it included highly skewed data (small number of negative cases), the difference will be probably in the order of a few percents. The thing that could possibly enhance classification outcomes will be to add a lot of additional examples (increase training dataset), because given 5971 examples clearly do not include all sequence of words used, further - a lot of emotion-expressing information certainly is missing."
   ]
  },
  {
   "cell_type": "code",
   "execution_count": null,
   "metadata": {},
   "outputs": [],
   "source": []
  }
 ],
 "metadata": {
  "kernelspec": {
   "display_name": "Python 3",
   "language": "python",
   "name": "python3"
  },
  "language_info": {
   "codemirror_mode": {
    "name": "ipython",
    "version": 3
   },
   "file_extension": ".py",
   "mimetype": "text/x-python",
   "name": "python",
   "nbconvert_exporter": "python",
   "pygments_lexer": "ipython3",
   "version": "3.7.4"
  }
 },
 "nbformat": 4,
 "nbformat_minor": 4
}
